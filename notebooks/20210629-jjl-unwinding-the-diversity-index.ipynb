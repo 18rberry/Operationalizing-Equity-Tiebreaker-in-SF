{
 "cells": [
  {
   "cell_type": "code",
   "execution_count": null,
   "metadata": {},
   "outputs": [],
   "source": [
    "import pandas as pd\n",
    "import numpy as np\n",
    "\n",
    "import sys\n",
    "sys.path.append('../')"
   ]
  },
  {
   "cell_type": "markdown",
   "metadata": {},
   "source": [
    "# Background\n",
    "\n",
    "The Stanford research team constructed a new diversity index defined by district staff. The diversity index is defined for each census block group, and is an average of 4 scores: a FRL score, a neighborhood SES score, an academic score, and AALPI score (African American, Latinx and Pacific Islander)"
   ]
  },
  {
   "cell_type": "code",
   "execution_count": null,
   "metadata": {},
   "outputs": [],
   "source": [
    "from src.d01_data.student_data_api import StudentDataApi, _block_features, _census_block_column\n",
    "\n",
    "student_data_api = StudentDataApi()\n",
    "df_students = student_data_api.get_data().set_index('studentno')\n",
    "np.random.seed(1992)\n",
    "# np.random.seed(2021)\n",
    "studentno = np.random.choice(df_students.index)\n",
    "\n",
    "census_blockgroup = df_students.loc[studentno, _census_block_column]\n",
    "census_block = df_students.loc[studentno, 'census_block']\n",
    "print(census_block)\n",
    "df_students.loc[studentno, _block_features]\n",
    "# df_students.loc[studentno]"
   ]
  },
  {
   "cell_type": "code",
   "execution_count": null,
   "metadata": {},
   "outputs": [],
   "source": [
    "from src.d01_data.block_data_api import BlockDataApi\n",
    "block_data_api = BlockDataApi()\n",
    "df1 = block_data_api.get_data(sfha=False).set_index('Block')"
   ]
  },
  {
   "cell_type": "code",
   "execution_count": null,
   "metadata": {},
   "outputs": [],
   "source": [
    "# df2 = block_data_api.get_data(True).set_index('Block')\n",
    "# print(df1.loc[int(census_block)].reset_index().to_string())\n",
    "block_acs_metrics = df1.loc[int(census_block), :].copy()\n",
    "print(block_acs_metrics.reset_index().to_string())"
   ]
  },
  {
   "cell_type": "code",
   "execution_count": null,
   "metadata": {},
   "outputs": [],
   "source": [
    "print(block_acs_metrics.index[89:97].to_list())"
   ]
  },
  {
   "cell_type": "markdown",
   "metadata": {},
   "source": [
    "## FRL score\n",
    "\n",
    "The FRL score measures the percentage of students in block $b\\in B$ eligible for free or reduced\n",
    "price lunch ($FRL\\%(b)$) as given by SFUSD Student Nutrition Services, normalized by the maximum\n",
    "percentage over all blocks\n",
    "\n",
    "$$FRLScore(b) = \\frac{FRL\\%(b)}{\\underset{b\\in B}{\\max} FRL\\%(b)}$$\n"
   ]
  },
  {
   "cell_type": "code",
   "execution_count": null,
   "metadata": {},
   "outputs": [],
   "source": [
    "# Where can we find this raw data?\n",
    "\n",
    "# FRLxEthncity SY16-SY19 - FRL data by block averaged over 4 years, broken down by ethnicity \n",
    "# (appears to be racex categorization, not resolved_ethnicity)"
   ]
  },
  {
   "cell_type": "markdown",
   "metadata": {},
   "source": [
    "## SES score\n",
    "\n",
    "The neighborhood socioeconomic status score ($SESScore(b)$) uses data from the American Community\n",
    "Survey 5-year estimates 2013-17, including median household income in the block ($HHInc(b)$),\n",
    "poverty level ($Pov\\%(b)$), and adult educational attainment ($BachDeg\\%(b)$), as measured by the\n",
    "percentage of residents 25 years of age or older in the block who have a bachelors degree.\n",
    "\n",
    "We can define the SES Index\n",
    "\n",
    "$$SESMetric(b) = 1 - \\frac{HHInc(b)}{\\underset{b'\\in B}{\\max} HHInc(b')} + \\frac{Pov\\%(b)}{\\underset{b'\\in B}{\\max} Pov\\%(b')} + 1 - \\frac{BachDeg\\%(b)}{\\underset{b'\\in B}{\\max} BachDeg\\%(b')}$$\n",
    "\n",
    "$$SESScore(b) = \\frac{SESMetric(b)}{\\underset{b'\\in B}{\\max} SESMetric(b')}$$\n"
   ]
  },
  {
   "cell_type": "code",
   "execution_count": null,
   "metadata": {},
   "outputs": [],
   "source": [
    "block_ses = block_data_api.get_ses_score()\n",
    "\n",
    "expected = df_students.loc[studentno, 'Nhood SES Score']\n",
    "result = block_ses.loc[int(census_blockgroup), 'score']\n",
    "assert abs(expected - result) < 1e-6, \"%.6f <> %.6f\" % (expected, result)"
   ]
  },
  {
   "cell_type": "markdown",
   "metadata": {},
   "source": [
    "## Academic Score\n",
    "\n",
    "The block group academic score ($AcademicScore(b)$) measures the percentage of students with\n",
    "level 1 test scores,19 normalized by the maximum percentage over all blocks\n",
    "\n",
    "$$AcademicScore(b) = \\frac{L1\\%(b)}{\\underset{b'\\in B}{\\max} L1\\%(b')}$$\n"
   ]
  },
  {
   "cell_type": "code",
   "execution_count": null,
   "metadata": {},
   "outputs": [],
   "source": [
    "block_academics = block_data_api.get_academic_score()\n",
    "\n",
    "expected = df_students.loc[studentno, 'Academic Score']\n",
    "result = block_academics.loc[int(census_blockgroup), 'score']\n",
    "assert abs(expected - result) < 1e-6, \"%.6f <> %.6f\" % (expected, result)"
   ]
  },
  {
   "cell_type": "markdown",
   "metadata": {},
   "source": [
    "## AALPI Score\n",
    "\n",
    "The AALPI score measures the percentage of students from the historically underserved ethnic\n",
    "groups of African American, Latino, and Pacific Islander students,\n",
    "\n",
    "$$AALPIScore(b) = \\frac{AALPI\\%(b)}{\\underset{b'\\in B}{\\max} AALPI\\%(b')}$$\n"
   ]
  },
  {
   "cell_type": "code",
   "execution_count": null,
   "metadata": {},
   "outputs": [],
   "source": [
    "block_aalpi = block_data_api.get_aalpi_score()\n",
    "expected = df_students.loc[studentno, 'AALPI Score']\n",
    "result = block_aalpi.loc[int(census_blockgroup), 'score']\n",
    "assert abs(expected - result) < 1e-6, \"%.6f <> %.6f\" % (expected, result)"
   ]
  },
  {
   "cell_type": "markdown",
   "metadata": {},
   "source": [
    "## SES Index\n",
    "\n",
    "The SES index uses only the socioeconomic and free and reduced price lunch\n",
    "components of the diversity index, and is de ned as follows\n",
    "\n",
    "$$SESIndex(b) = \\frac{FRLScore(b) + SESMetric(b)}{4}$$\n"
   ]
  },
  {
   "cell_type": "code",
   "execution_count": null,
   "metadata": {},
   "outputs": [],
   "source": []
  },
  {
   "cell_type": "code",
   "execution_count": null,
   "metadata": {},
   "outputs": [],
   "source": []
  },
  {
   "cell_type": "code",
   "execution_count": null,
   "metadata": {},
   "outputs": [],
   "source": []
  }
 ],
 "metadata": {
  "kernelspec": {
   "display_name": "dssg-env",
   "language": "python",
   "name": "dssg-env"
  },
  "language_info": {
   "codemirror_mode": {
    "name": "ipython",
    "version": 3
   },
   "file_extension": ".py",
   "mimetype": "text/x-python",
   "name": "python",
   "nbconvert_exporter": "python",
   "pygments_lexer": "ipython3",
   "version": "3.8.8"
  }
 },
 "nbformat": 4,
 "nbformat_minor": 4
}
