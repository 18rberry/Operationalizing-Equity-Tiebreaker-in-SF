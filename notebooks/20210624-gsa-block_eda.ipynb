{
 "cells": [
  {
   "cell_type": "code",
   "execution_count": null,
   "metadata": {},
   "outputs": [],
   "source": [
    "import pandas as pd\n",
    "import numpy as np\n",
    "import geopandas as gpd\n",
    "import matplotlib.pyplot as plt\n",
    "\n",
    "import sys\n",
    "sys.path.append('../')"
   ]
  },
  {
   "cell_type": "code",
   "execution_count": null,
   "metadata": {},
   "outputs": [],
   "source": [
    "from src.d01_data.block_data_api import BlockDataApi\n",
    "from src.d02_intermediate import block_data_cleaning as b_clean"
   ]
  },
  {
   "cell_type": "markdown",
   "metadata": {},
   "source": [
    "# Exploratory Data Analysis of Block Data"
   ]
  },
  {
   "cell_type": "markdown",
   "metadata": {},
   "source": [
    "Loading the data:"
   ]
  },
  {
   "cell_type": "code",
   "execution_count": null,
   "metadata": {},
   "outputs": [],
   "source": [
    "block_data_api = BlockDataApi()"
   ]
  },
  {
   "cell_type": "code",
   "execution_count": null,
   "metadata": {},
   "outputs": [],
   "source": [
    "SFHA_block_df = block_data_api.get_data(sfha=True)\n",
    "block_df = block_data_api.get_data(sfha=False)\n",
    "field_descriptions_df = block_data_api.get_fields()\n",
    "frl_df_raw = block_data_api.get_data(frl=True, user=\"gabriel\")\n",
    "frl_fields = block_data_api.get_fields(frl=True, user=\"gabriel\")"
   ]
  },
  {
   "cell_type": "markdown",
   "metadata": {},
   "source": [
    "## SFHA Block Data"
   ]
  },
  {
   "cell_type": "markdown",
   "metadata": {},
   "source": [
    "We want to know whether the SFHA dataset is redundant or it provides relevant information. We can see that the information it contains is entirely contained in the main Block dataset, so we can ignore it:"
   ]
  },
  {
   "cell_type": "code",
   "execution_count": null,
   "metadata": {},
   "outputs": [],
   "source": [
    "SFHA_fields = list(SFHA_block_df.columns)"
   ]
  },
  {
   "cell_type": "code",
   "execution_count": null,
   "metadata": {},
   "outputs": [],
   "source": [
    "SFHA_fields"
   ]
  },
  {
   "cell_type": "code",
   "execution_count": null,
   "metadata": {},
   "outputs": [],
   "source": [
    "block_df_new = block_df.filter(['ID','Block','SFHA_Hsng', \"SA_Hsng\"], axis=1)\n",
    "SFHA_block_df_new = SFHA_block_df.filter(['ID','Block','SFHA_Hsng', \"SA_Hsng\"], axis=1)\n",
    "\n",
    "merge_df = pd.merge(SFHA_block_df_new, block_df_new, on=['ID'], how='inner')\n",
    "merge_df.head()"
   ]
  },
  {
   "cell_type": "markdown",
   "metadata": {},
   "source": [
    "Any difference would appear here (can be tried with any other pair of columns):"
   ]
  },
  {
   "cell_type": "code",
   "execution_count": null,
   "metadata": {},
   "outputs": [],
   "source": [
    "count = 0\n",
    "L = list(merge_df[\"SA_Hsng_x\"] == merge_df[\"SA_Hsng_y\"])\n",
    "for i in range(len(L)):\n",
    "    if L[i] == False:\n",
    "        print(i)\n",
    "        count += 1"
   ]
  },
  {
   "cell_type": "markdown",
   "metadata": {},
   "source": [
    "We are good! We do not need to use the SFHA dataset!"
   ]
  },
  {
   "cell_type": "markdown",
   "metadata": {},
   "source": [
    "## Block Data"
   ]
  },
  {
   "cell_type": "code",
   "execution_count": null,
   "metadata": {},
   "outputs": [],
   "source": [
    "pd.set_option(\"max_rows\", None)\n",
    "field_descriptions_df[[\"Field Name\", \"Field Description\", \"Data Source\"]]"
   ]
  },
  {
   "cell_type": "markdown",
   "metadata": {},
   "source": [
    "Grouping the columns in useful \"thematic\" groups:\n",
    "\n",
    "1. IDENTIFICATION: Reflects geographic characteristics and id numbers (Census Tracts, area, FIPS, block type)\n",
    "2. CURRENT: Columns referring to current CTIP assignment and simulations of variations in the exisiting model by the district\n",
    "3. POPULATION: Demographic information such as population by age and enrollment in schools, also parents educational level and language status\n",
    "4. ETHNICITY: Information on ethnicity of residents and students\n",
    "5. ETHNICITY_DETAILED: Breakdown of ethnicity by grade, detailed ethnic group, and year (district)\n",
    "6. ETHNICITY_DETAILED_GROUP: Above data but grouped for subsequent grades\n",
    "6. INCOME: Data referrent to income and wealth of block and families\n",
    "7. TEST SCORES: Academic data on CST and SBAC\n",
    "8. HOUSING: San Francisco and Federal Hosuing Authority information\n",
    "\n",
    "To retrieve the dictionary we can use the appropriate method in the block api class"
   ]
  },
  {
   "cell_type": "code",
   "execution_count": null,
   "metadata": {},
   "outputs": [],
   "source": [
    "group_dict = block_data_api.get_classification()"
   ]
  },
  {
   "cell_type": "code",
   "execution_count": null,
   "metadata": {},
   "outputs": [],
   "source": [
    "group_dict"
   ]
  },
  {
   "cell_type": "markdown",
   "metadata": {},
   "source": [
    "BIG REMARK: Some columns are empty (or non-informative)!"
   ]
  },
  {
   "cell_type": "code",
   "execution_count": null,
   "metadata": {},
   "outputs": [],
   "source": [
    "for col in field_list:\n",
    "    if len(set(block_df[col].values)) <= 1:\n",
    "        print(col + \": \", set(block_df[col].values))"
   ]
  },
  {
   "cell_type": "markdown",
   "metadata": {},
   "source": [
    "Search for a specific description:"
   ]
  },
  {
   "cell_type": "code",
   "execution_count": null,
   "metadata": {},
   "outputs": [],
   "source": [
    "name = \"NH White students 2006-2010 K-8\"\n",
    "field_descriptions_df.loc[field_descriptions_df[\"Field Name\"] == name, \"Field Description\"].iloc[0]"
   ]
  },
  {
   "cell_type": "markdown",
   "metadata": {},
   "source": [
    "Verifying if the field names and block data all match:"
   ]
  },
  {
   "cell_type": "code",
   "execution_count": null,
   "metadata": {},
   "outputs": [],
   "source": [
    "block_fields = list(block_df.columns)"
   ]
  },
  {
   "cell_type": "code",
   "execution_count": null,
   "metadata": {},
   "outputs": [],
   "source": [
    "field_fields = list(field_descriptions_df[\"Field Name\"].values)"
   ]
  },
  {
   "cell_type": "code",
   "execution_count": null,
   "metadata": {},
   "outputs": [],
   "source": [
    "def Diff(li1, li2):\n",
    "    return list(set(li1) - set(li2))\n",
    "\n",
    "Diff(block_fields, field_fields)"
   ]
  },
  {
   "cell_type": "code",
   "execution_count": null,
   "metadata": {},
   "outputs": [],
   "source": [
    "Diff(field_fields, block_fields)"
   ]
  },
  {
   "cell_type": "markdown",
   "metadata": {},
   "source": [
    "The FRL column is a mystery, and so is the DATA in the block dataset. All other mismatches have been fixed in the initialization on the class."
   ]
  },
  {
   "cell_type": "markdown",
   "metadata": {},
   "source": [
    "## Focal Students Data"
   ]
  },
  {
   "cell_type": "code",
   "execution_count": null,
   "metadata": {},
   "outputs": [],
   "source": [
    "geodata_path = '/share/data/school_choice/dssg/census2010/'\n",
    "file_name = 'geo_export_e77bce0b-6556-4358-b36b-36cfcf826a3c'\n",
    "data_types = ['.shp', '.dbf', '.prj', '.shx']\n",
    "\n",
    "sfusd_map = gpd.read_file(geodata_path + file_name + data_types[0])\n",
    "sfusd_map = sfusd_map.set_index('geoid10')\n",
    "\n",
    "mask = sfusd_map['intptlon10'] < '-122.8'\n",
    "mask &= sfusd_map['awater10'] == 0.0\n",
    "# get rid of water"
   ]
  },
  {
   "cell_type": "markdown",
   "metadata": {},
   "source": [
    "Let's add the columns referring to focal students:"
   ]
  },
  {
   "cell_type": "code",
   "execution_count": null,
   "metadata": {},
   "outputs": [],
   "source": [
    "frl_df = frl_df_raw.drop(\"Geoid Group\", axis=1)\n",
    "frl_df['Geoid10'] = frl_df_raw['Geoid10'].apply(lambda x: '0%i' % int(x))\n",
    "sfusd_map_focal = sfusd_map.merge(frl_df, left_on='geoid10', right_on='Geoid10')"
   ]
  },
  {
   "cell_type": "markdown",
   "metadata": {},
   "source": [
    "We might also want the percentages:"
   ]
  },
  {
   "cell_type": "code",
   "execution_count": null,
   "metadata": {},
   "outputs": [],
   "source": [
    "sfusd_map_focal[\"FRL students (%)\"] = sfusd_map_focal[\"4YR AVG FRL Count\"]/sfusd_map_focal[\"4YR AVG Student Count\"]\n",
    "sfusd_map_focal[\"AALPI students (%)\"] = sfusd_map_focal[\"4YR AVG Eth Flag Count\"]/sfusd_map_focal[\"4YR AVG Student Count\"]\n",
    "sfusd_map_focal[\"Combo students (%)\"] = sfusd_map_focal[\"4YR AVG Combo Flag Count\"]/sfusd_map_focal[\"4YR AVG Student Count\"]"
   ]
  },
  {
   "cell_type": "markdown",
   "metadata": {},
   "source": [
    "Simple plotting function. Colormap choice changes significantly when we deal with absolute counts (a diverging cmap such as PRGn is better for absolute counts, a sequential map such as YlOrRd is better for percentages)"
   ]
  },
  {
   "cell_type": "code",
   "execution_count": null,
   "metadata": {},
   "outputs": [],
   "source": [
    "def plot_column(column, cmap=\"viridis\"):\n",
    "\n",
    "    fig, ax = plt.subplots(figsize=(30,30))\n",
    "    \n",
    "    if \"Count\" in column:\n",
    "        cmap = \"PRGn\"\n",
    "    elif \"%\" in column:\n",
    "        cmap = \"YlOrRd\"\n",
    "    \n",
    "    sfusd_map_focal.plot(column=column, ax=ax, cmap=cmap, \n",
    "                         legend=True, legend_kwds={'orientation': \"horizontal\"},\n",
    "                         missing_kwds={'color': 'lightgrey'})\n",
    "    ax.set_title(column, fontsize=50)\n",
    "    \n",
    "    plt.show()"
   ]
  },
  {
   "cell_type": "code",
   "execution_count": null,
   "metadata": {},
   "outputs": [],
   "source": [
    "column = \"FRL students (%)\"\n",
    "plot_column(column)"
   ]
  },
  {
   "cell_type": "code",
   "execution_count": null,
   "metadata": {},
   "outputs": [],
   "source": [
    "column = \"AALPI students (%)\"\n",
    "plot_column(column)"
   ]
  },
  {
   "cell_type": "code",
   "execution_count": null,
   "metadata": {},
   "outputs": [],
   "source": [
    "column = \"Combo students (%)\"\n",
    "plot_column(column)"
   ]
  },
  {
   "cell_type": "code",
   "execution_count": null,
   "metadata": {},
   "outputs": [],
   "source": []
  }
 ],
 "metadata": {
  "kernelspec": {
   "display_name": "Python 3",
   "language": "python",
   "name": "python3"
  },
  "language_info": {
   "codemirror_mode": {
    "name": "ipython",
    "version": 3
   },
   "file_extension": ".py",
   "mimetype": "text/x-python",
   "name": "python",
   "nbconvert_exporter": "python",
   "pygments_lexer": "ipython3",
   "version": "3.8.8"
  }
 },
 "nbformat": 4,
 "nbformat_minor": 4
}
