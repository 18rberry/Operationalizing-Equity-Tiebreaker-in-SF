{
 "cells": [
  {
   "cell_type": "code",
   "execution_count": null,
   "metadata": {},
   "outputs": [],
   "source": [
    "import pandas as pd\n",
    "import numpy as np\n",
    "import geopandas as gpd\n",
    "import matplotlib.pyplot as plt\n",
    "\n",
    "import sys\n",
    "sys.path.append('../')\n",
    "\n",
    "from src.d01_data.block_data_api import BlockDataApi\n",
    "from src.d02_intermediate import block_data_cleaning as b_clean"
   ]
  },
  {
   "cell_type": "markdown",
   "metadata": {},
   "source": [
    "# Understanding the Correlation Betweeen Different Block Data"
   ]
  },
  {
   "cell_type": "markdown",
   "metadata": {},
   "source": [
    "First we get the data and the classification:"
   ]
  },
  {
   "cell_type": "code",
   "execution_count": null,
   "metadata": {},
   "outputs": [],
   "source": [
    "block_data_api = BlockDataApi()\n",
    "block_df = block_data_api.get_data(sfha=False)\n",
    "field_descriptions_df = block_data_api.get_fields()\n",
    "group_dict = block_data_api.get_classification()"
   ]
  },
  {
   "cell_type": "markdown",
   "metadata": {},
   "source": [
    "## 1. ACS vs. District Student Counts"
   ]
  },
  {
   "cell_type": "markdown",
   "metadata": {},
   "source": [
    "The district provides us counts of students per school year in a block, as well as a detailement of their ethnicities. Some other sources (ACS, Census) also provide estimates of these measurements. Are those datasets in agreement?"
   ]
  },
  {
   "cell_type": "code",
   "execution_count": null,
   "metadata": {},
   "outputs": [],
   "source": [
    "group_dict[\"DEMOGRAPHIC\"]"
   ]
  },
  {
   "cell_type": "markdown",
   "metadata": {},
   "source": [
    "Let's focus in the following columns, which should have a high correlation (despite the time difference)"
   ]
  },
  {
   "cell_type": "code",
   "execution_count": null,
   "metadata": {},
   "outputs": [],
   "source": [
    "L = ['ACS 2013-17 est% aged 5-14 public sch', 'number of K8 residents fall 2017', 'K8stu1517']\n",
    "block_df_filt = block_df[L]\n",
    "for name in L:\n",
    "    print(name + \": \" + field_descriptions_df.loc[field_descriptions_df[\"Field Name\"] == name, \"Field Description\"].iloc[0], \"\\n\")"
   ]
  },
  {
   "cell_type": "markdown",
   "metadata": {},
   "source": [
    "These columns do not correlate per se. The two district columns do, but not with the ACS estimates:"
   ]
  },
  {
   "cell_type": "code",
   "execution_count": null,
   "metadata": {},
   "outputs": [],
   "source": [
    "M = block_df_filt.to_numpy()\n",
    "print(np.corrcoef(np.transpose(M)))"
   ]
  },
  {
   "cell_type": "markdown",
   "metadata": {},
   "source": [
    "We can see that the discrepancies are very big in some blocks (zero for district, 50% for ACS estimate):"
   ]
  },
  {
   "cell_type": "code",
   "execution_count": null,
   "metadata": {},
   "outputs": [],
   "source": [
    "block_df_filt"
   ]
  },
  {
   "cell_type": "markdown",
   "metadata": {},
   "source": [
    "We can try to correct the ACS estimate to an absolute estimate. For that we can use the count of census minor (<18 yo) population in 2010, which is the closes value we have. Several issues there (different year, different age group), but we should be able to understand whether the scales are the problem:"
   ]
  },
  {
   "cell_type": "code",
   "execution_count": null,
   "metadata": {},
   "outputs": [],
   "source": [
    "block_df_filt2 = block_df_filt.copy()\n",
    "block_df_filt2[\"2010 pop less than 18 years old\"] = block_df[\"2010 pop less than 18 years old\"]\n",
    "block_df_filt2[\"ACS absolute estimate\"] = block_df[\"2010 pop less than 18 years old\"] * block_df_filt[\"ACS 2013-17 est% aged 5-14 public sch\"]"
   ]
  },
  {
   "cell_type": "code",
   "execution_count": null,
   "metadata": {},
   "outputs": [],
   "source": [
    "block_df_filt2"
   ]
  },
  {
   "cell_type": "code",
   "execution_count": null,
   "metadata": {},
   "outputs": [],
   "source": [
    "M = block_df_filt2.to_numpy()\n",
    "print(np.corrcoef(np.transpose(M)))"
   ]
  },
  {
   "cell_type": "markdown",
   "metadata": {},
   "source": [
    "Now the district data (second and third columns) correlate highly (around 86%) with the absolute ACS data (last column). Seems like the error was on the units! So we can keep using the ACS data, but we might have to rely on this outdated absolute values."
   ]
  },
  {
   "cell_type": "markdown",
   "metadata": {},
   "source": [
    "## 2. Ethnicity"
   ]
  },
  {
   "cell_type": "code",
   "execution_count": null,
   "metadata": {},
   "outputs": [],
   "source": [
    "group_dict[\"ETHNICITY_DETAILED_GROUP\"]"
   ]
  },
  {
   "cell_type": "markdown",
   "metadata": {},
   "source": [
    "First we note that some columns are just empty:"
   ]
  },
  {
   "cell_type": "code",
   "execution_count": null,
   "metadata": {},
   "outputs": [],
   "source": [
    "print(set(block_df[\"African American students 2006-2010 K-8\"].values))\n",
    "print(set(block_df[\"AfAmer1114\"].values))\n",
    "print(set(block_df[\"AfAmer1517\"].values))\n",
    "print(set(block_df[\"NH White students 2006-2010 K-8\"].values))"
   ]
  },
  {
   "cell_type": "markdown",
   "metadata": {},
   "source": [
    "We might have more chances with the detailed ethnicity:"
   ]
  },
  {
   "cell_type": "code",
   "execution_count": null,
   "metadata": {},
   "outputs": [],
   "source": [
    "group_dict[\"ETHNICITY_DETAILED_GROUP\"]"
   ]
  },
  {
   "cell_type": "code",
   "execution_count": null,
   "metadata": {},
   "outputs": [],
   "source": [
    "print(set(block_df[\"2013 K-5 Hispanic\"].values))"
   ]
  },
  {
   "cell_type": "markdown",
   "metadata": {},
   "source": [
    "The district provides us with data on student ethnicity. From census, we have data on the total population. Let's evaluate how those numbers correlate. I use the following columns to try to match hispanic ethnicity:"
   ]
  },
  {
   "cell_type": "code",
   "execution_count": null,
   "metadata": {},
   "outputs": [],
   "source": [
    "L = ['2010 Hispanic', '2010 pop <18 Hispanic', \"2013 K-5 Hispanic\", \"2013 6-8 Hispanic\", \"2013 9-12 Hispanic\"]\n",
    "block_df_filt = block_df[L]\n",
    "for name in L:\n",
    "    print(name + \": \" + field_descriptions_df.loc[field_descriptions_df[\"Field Name\"] == name, \"Field Description\"].iloc[0], \"\\n\")"
   ]
  },
  {
   "cell_type": "code",
   "execution_count": null,
   "metadata": {},
   "outputs": [],
   "source": [
    "block_df_filt = block_df_filt.replace({\"--\": 0})"
   ]
  },
  {
   "cell_type": "code",
   "execution_count": null,
   "metadata": {},
   "outputs": [],
   "source": [
    "M = block_df_filt.to_numpy()\n",
    "print(np.corrcoef(np.transpose(M)))"
   ]
  },
  {
   "cell_type": "markdown",
   "metadata": {},
   "source": [
    "High correlation in general, but not the best. Let's see if aggregating we would get better results:"
   ]
  },
  {
   "cell_type": "code",
   "execution_count": null,
   "metadata": {},
   "outputs": [],
   "source": [
    "block_df_filt2 = block_df_filt[['2010 Hispanic', '2010 pop <18 Hispanic']].copy()\n",
    "temp_df = block_df_filt[[\"2013 K-5 Hispanic\", \"2013 6-8 Hispanic\", \"2013 9-12 Hispanic\"]].copy()\n",
    "\n",
    "block_df_filt2[\"2013 Hispanic Students\"] = temp_df.sum(axis = 1, skipna = True)"
   ]
  },
  {
   "cell_type": "code",
   "execution_count": null,
   "metadata": {},
   "outputs": [],
   "source": [
    "block_df_filt2"
   ]
  },
  {
   "cell_type": "code",
   "execution_count": null,
   "metadata": {},
   "outputs": [],
   "source": [
    "M = block_df_filt2.to_numpy()\n",
    "print(np.corrcoef(np.transpose(M)))"
   ]
  },
  {
   "cell_type": "markdown",
   "metadata": {},
   "source": [
    "Improvements from the breakdown. Leads us to believe there may be more students of color (hispanic in this case) going out of the public school system as they grow older. That could either mean they moved out of SF, dropped out of school, or went into the private system.\n",
    "\n",
    "Overall there is a strong positive correlation between residents and students number, regardless of whether we are using residents <18 yo or total number of residents. But we must be consistent on the scales."
   ]
  },
  {
   "cell_type": "markdown",
   "metadata": {},
   "source": [
    "## 3. Columns we plan to use"
   ]
  },
  {
   "cell_type": "code",
   "execution_count": null,
   "metadata": {},
   "outputs": [],
   "source": [
    "columns_selected = ['2010 total population count',\n",
    "                    \"AALPI all TK5 stu 2017\",\n",
    "                    \"ACS 2013-17 est median HH income\",\n",
    "                    \"ACS 2013-17 est% HH below poverty lvl\",\n",
    "                    'ACS 2013-17 est% aged5+ Engl \"not well\"',\n",
    "                    \"SFHA_ex_Sr\",\n",
    "                    \"num of SBAC L1 scores 4-9 2015-18\"]"
   ]
  },
  {
   "cell_type": "markdown",
   "metadata": {},
   "source": [
    "As discussed above, we need to do some pre-processing. We can start by cleaning the data using the provided method:"
   ]
  },
  {
   "cell_type": "code",
   "execution_count": null,
   "metadata": {},
   "outputs": [],
   "source": [
    "NEW = b_clean.clean_block_data(block_df)"
   ]
  },
  {
   "cell_type": "markdown",
   "metadata": {},
   "source": [
    "Now we do the preprocessing with percentages:"
   ]
  },
  {
   "cell_type": "code",
   "execution_count": null,
   "metadata": {},
   "outputs": [],
   "source": [
    "NEW2 = NEW.copy()[[\"AALPI all TK5 stu 2017\"]]\n",
    "NEW2[\"Median HH income\"] = NEW[\"ACS 2013-17 est median HH income\"]\n",
    "NEW2[\"Pop. below poverty level\"] = NEW[\"ACS 2013-17 est% HH below poverty lvl\"]*NEW[\"2010 total population count\"]\n",
    "NEW2[\"Pop. english not well\"] = NEW['ACS 2013-17 est% aged5+ Engl \"not well\"']*NEW[\"2010 total population count\"]\n",
    "NEW2[\"SFHA\"] = NEW[\"SFHA_ex_Sr\"]\n",
    "NEW2[\"SBAC L1\"] = NEW[\"num of SBAC L1 scores 4-9 2015-18\"]"
   ]
  },
  {
   "cell_type": "code",
   "execution_count": null,
   "metadata": {},
   "outputs": [],
   "source": [
    "NEW2"
   ]
  },
  {
   "cell_type": "code",
   "execution_count": null,
   "metadata": {},
   "outputs": [],
   "source": [
    "M = NEW2.to_numpy()\n",
    "print(np.corrcoef(np.transpose(M)))"
   ]
  },
  {
   "cell_type": "code",
   "execution_count": null,
   "metadata": {},
   "outputs": [],
   "source": []
  }
 ],
 "metadata": {
  "kernelspec": {
   "display_name": "Python 3",
   "language": "python",
   "name": "python3"
  },
  "language_info": {
   "codemirror_mode": {
    "name": "ipython",
    "version": 3
   },
   "file_extension": ".py",
   "mimetype": "text/x-python",
   "name": "python",
   "nbconvert_exporter": "python",
   "pygments_lexer": "ipython3",
   "version": "3.8.8"
  }
 },
 "nbformat": 4,
 "nbformat_minor": 4
}
