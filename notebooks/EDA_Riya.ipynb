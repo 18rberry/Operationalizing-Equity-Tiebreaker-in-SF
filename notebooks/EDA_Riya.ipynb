{
 "cells": [
  {
   "cell_type": "code",
   "execution_count": null,
   "metadata": {},
   "outputs": [],
   "source": []
  },
  {
   "cell_type": "code",
   "execution_count": null,
   "metadata": {},
   "outputs": [],
   "source": [
    "import pandas as pd\n",
    "import numpy as np\n",
    "import matplotlib.pyplot as plt\n",
    "import seaborn as sns\n",
    "\n",
    "dataf = pd.read_csv(\"/share/data/school_choice/Data/Cleaned/student_1920.csv\", sep=\",\")\n",
    "dataf.head(10)"
   ]
  },
  {
   "cell_type": "code",
   "execution_count": null,
   "metadata": {},
   "outputs": [],
   "source": [
    "mean_AALPI = np.mean(dataf[\"AALPI Score\"])\n",
    "mean_AALPI"
   ]
  },
  {
   "cell_type": "code",
   "execution_count": null,
   "metadata": {},
   "outputs": [],
   "source": [
    "print(dataf.columns)"
   ]
  },
  {
   "cell_type": "code",
   "execution_count": null,
   "metadata": {},
   "outputs": [],
   "source": [
    "#Metric 1 for Socioeconomic diversity is Representativeness\n",
    "# Ensure schools' average SES is within x% of district average\n",
    "dataf[\"N'hood SES Score\"]"
   ]
  },
  {
   "cell_type": "code",
   "execution_count": null,
   "metadata": {},
   "outputs": [],
   "source": [
    "dataf.groupby(\"census_tract\").count()"
   ]
  },
  {
   "cell_type": "code",
   "execution_count": null,
   "metadata": {},
   "outputs": [],
   "source": [
    "#Metric 2 for Socioeconomic diversity is Limited Isolation\n",
    "# Ensure that each schools' fraction of socioeconomically disadvantaged students (SED) is at most x% \n",
    "dataf.groupby(\"census_tract\").mean()[\"N'hood SES Score\"]"
   ]
  },
  {
   "cell_type": "code",
   "execution_count": null,
   "metadata": {},
   "outputs": [],
   "source": [
    "dataf.groupby([\"ctip1\"]).count()"
   ]
  },
  {
   "cell_type": "code",
   "execution_count": null,
   "metadata": {},
   "outputs": [],
   "source": [
    "#Metric 3 for Socioeconomic diversity is exposure \n",
    "# Ensure that each schools' fraction of socioeconomically disadvantaged students is at least x% "
   ]
  },
  {
   "cell_type": "code",
   "execution_count": null,
   "metadata": {},
   "outputs": [],
   "source": [
    "#Metric 1 of Racial diversity is Race and SES\n",
    "#Ensure that at most x% of AALPI are assigned in any school with fraction of SED higher than y%"
   ]
  },
  {
   "cell_type": "code",
   "execution_count": null,
   "metadata": {},
   "outputs": [],
   "source": [
    "dataf[\"ctip1\"].value_counts()"
   ]
  },
  {
   "cell_type": "code",
   "execution_count": null,
   "metadata": {},
   "outputs": [],
   "source": [
    "dataf[\"homelang_desc\"]"
   ]
  },
  {
   "cell_type": "code",
   "execution_count": null,
   "metadata": {},
   "outputs": [],
   "source": [
    "dataf[\"homelang_desc\"].value_counts()"
   ]
  },
  {
   "cell_type": "code",
   "execution_count": null,
   "metadata": {},
   "outputs": [],
   "source": [
    "dataf[\"englprof_desc\"].value_counts()"
   ]
  },
  {
   "cell_type": "code",
   "execution_count": null,
   "metadata": {},
   "outputs": [],
   "source": [
    "group_ethnicity = dataf[\"resolved_ethnicity\"].value_counts()\n",
    "group_ethnicity"
   ]
  },
  {
   "cell_type": "code",
   "execution_count": null,
   "metadata": {},
   "outputs": [],
   "source": [
    "dataf.resolved_ethnicity.value_counts().sort_values().plot(kind = 'barh')"
   ]
  },
  {
   "cell_type": "code",
   "execution_count": null,
   "metadata": {},
   "outputs": [],
   "source": [
    "df = pd.read_csv(\"~/displacement-typologies/data/outputs/typologies/SanFrancisco_typology_output.csv\", sep=\",\")\n",
    "df.head(10)"
   ]
  },
  {
   "cell_type": "code",
   "execution_count": null,
   "metadata": {},
   "outputs": [],
   "source": [
    "df[\"GEOID\"]"
   ]
  },
  {
   "cell_type": "code",
   "execution_count": null,
   "metadata": {},
   "outputs": [],
   "source": [
    "#SAE: Stable Advanced Exclusive Typology\n",
    "#AdvG: Advanced Gentrification Typology\n",
    "#ARE: At Risk of Being Exclusive Typology\n",
    "#BE: Becoming Exclusive\n",
    "#SMMI: Stable Middle/Moderate Income\n",
    "#ARG: At Risk of Gentrification\n",
    "#EOG: Early Ongoing Gentrification\n",
    "#OD: Ongoing Displacement\n",
    "cols = {\"SAE\": None, \"AdvG\": None, \"ARE\": None, \"BE\": None, \"SMMI\": None, \"ARG\": None, \"EOG\": None, \"OD\": None}\n",
    "filtered_df = df[cols]\n",
    "filtered_df.head(20)"
   ]
  },
  {
   "cell_type": "code",
   "execution_count": null,
   "metadata": {},
   "outputs": [],
   "source": [
    "filtered_df[\"SAE\"].value_counts()"
   ]
  },
  {
   "cell_type": "code",
   "execution_count": null,
   "metadata": {},
   "outputs": [],
   "source": [
    "filtered_df[\"AdvG\"].value_counts()"
   ]
  },
  {
   "cell_type": "code",
   "execution_count": null,
   "metadata": {},
   "outputs": [],
   "source": [
    "filtered_df[\"ARE\"].value_counts()"
   ]
  },
  {
   "cell_type": "code",
   "execution_count": null,
   "metadata": {},
   "outputs": [],
   "source": [
    "filtered_df[\"BE\"].value_counts()"
   ]
  },
  {
   "cell_type": "code",
   "execution_count": null,
   "metadata": {},
   "outputs": [],
   "source": [
    "filtered_df[\"SMMI\"].value_counts()"
   ]
  },
  {
   "cell_type": "code",
   "execution_count": null,
   "metadata": {},
   "outputs": [],
   "source": [
    "filtered_df[\"ARG\"].value_counts()"
   ]
  },
  {
   "cell_type": "code",
   "execution_count": null,
   "metadata": {},
   "outputs": [],
   "source": [
    "filtered_df[\"EOG\"].value_counts()"
   ]
  },
  {
   "cell_type": "code",
   "execution_count": null,
   "metadata": {},
   "outputs": [],
   "source": [
    "filtered_df[\"OD\"].value_counts()"
   ]
  },
  {
   "cell_type": "code",
   "execution_count": null,
   "metadata": {},
   "outputs": [],
   "source": [
    "for key in cols: \n",
    "    new_val = len(filtered_df[filtered_df[key] == 1][key])\n",
    "    cols[key] = new_val"
   ]
  },
  {
   "cell_type": "code",
   "execution_count": null,
   "metadata": {},
   "outputs": [],
   "source": [
    "dataf[\"census_blockgroup\"]"
   ]
  },
  {
   "cell_type": "code",
   "execution_count": null,
   "metadata": {},
   "outputs": [],
   "source": [
    "dataf[\"census_tract\"]"
   ]
  },
  {
   "cell_type": "code",
   "execution_count": null,
   "metadata": {},
   "outputs": [],
   "source": [
    "step1_df = dataf.merge(df, left_on = \"census_tract\", right_on = \"GEOID\")\n",
    "new_df = step1_df[[\"GEOID\", \"SAE\", \"AdvG\", \"ARE\", \"BE\", \"SMMI\", \"ARG\", \"EOG\", \"OD\"]]\n",
    "new_df = new_df.drop_duplicates()\n",
    "new_df.head(30)"
   ]
  },
  {
   "cell_type": "code",
   "execution_count": null,
   "metadata": {},
   "outputs": [],
   "source": [
    "new_df[\"SAE\"].value_counts()[1]"
   ]
  },
  {
   "cell_type": "code",
   "execution_count": null,
   "metadata": {},
   "outputs": [],
   "source": [
    "frequencies = {}\n",
    "for col in new_df.columns: \n",
    "    if col != \"GEOID\": \n",
    "        frequencies[col] = new_df[col].value_counts()[1]\n",
    "\n",
    "'''col_names = sorted(frequencies, key=frequencies.get)\n",
    "frequencies_list = sorted(frequencies.values())\n",
    "frequencies_list'''\n",
    "\n",
    "col_names = [\"OD\", \"ARG\", \"EOG\", \"AdvG\", \"SMMI\", \"ARE\", \"BE\", \"SAE\"]\n",
    "frequencies_list = []\n",
    "for col in col_names:\n",
    "    frequencies_list.append(frequencies[col])"
   ]
  },
  {
   "cell_type": "code",
   "execution_count": null,
   "metadata": {},
   "outputs": [],
   "source": [
    "col_names"
   ]
  },
  {
   "cell_type": "code",
   "execution_count": null,
   "metadata": {},
   "outputs": [],
   "source": [
    "frequencies"
   ]
  },
  {
   "cell_type": "code",
   "execution_count": null,
   "metadata": {},
   "outputs": [],
   "source": [
    "plt.bar(col_names, frequencies_list)\n",
    "#distribution of gentrification statues across census tracts in SFUSD"
   ]
  },
  {
   "cell_type": "code",
   "execution_count": null,
   "metadata": {},
   "outputs": [],
   "source": [
    "ctip1_df = step1_df[step1_df[\"ctip1\"] == 1]\n",
    "ctip1_df = ctip1_df[[\"GEOID\", \"SAE\", \"AdvG\", \"ARE\", \"BE\", \"SMMI\", \"EOG\", \"OD\"]]\n",
    "ctip1_df = ctip1_df.drop_duplicates()"
   ]
  },
  {
   "cell_type": "code",
   "execution_count": null,
   "metadata": {},
   "outputs": [],
   "source": [
    "new_frequencies = {}\n",
    "for col in ctip1_df.columns: \n",
    "    if col != \"GEOID\": \n",
    "        new_frequencies[col] = ctip1_df[col].value_counts()[1]\n",
    "\n",
    "'''column_names = sorted(new_frequencies, key=new_frequencies.get)\n",
    "frequency_list = sorted(new_frequencies.values())\n",
    "frequency_list'''\n",
    "column_names = [\"OD\", \"ARG\", \"EOG\", \"AdvG\", \"SMMI\", \"ARE\", \"BE\", \"SAE\"]\n",
    "frequency_list = []\n",
    "for col in column_names:\n",
    "    if col in new_frequencies: \n",
    "        frequency_list.append(new_frequencies[col])\n",
    "    else: \n",
    "        frequency_list.append(0)"
   ]
  },
  {
   "cell_type": "code",
   "execution_count": null,
   "metadata": {},
   "outputs": [],
   "source": [
    "frequency_list"
   ]
  },
  {
   "cell_type": "code",
   "execution_count": null,
   "metadata": {},
   "outputs": [],
   "source": [
    "new_frequencies"
   ]
  },
  {
   "cell_type": "code",
   "execution_count": null,
   "metadata": {},
   "outputs": [],
   "source": [
    "plt.bar(column_names, frequency_list)\n",
    "#distribution of gentrification statues across census tracts in SFUSD with ctip1 scores \n",
    "#can see that the majority of CTIP1 students are living in areas with advanced gentrification "
   ]
  },
  {
   "cell_type": "code",
   "execution_count": null,
   "metadata": {},
   "outputs": [],
   "source": [
    "#compare proportions for CTIP1 and rest of the population \n",
    "#also look at ctip2 regions to see how they compare to ctip1 "
   ]
  },
  {
   "cell_type": "code",
   "execution_count": null,
   "metadata": {},
   "outputs": [],
   "source": [
    "labels = [\"All Students\", \"CTIP1 Students\"]"
   ]
  },
  {
   "cell_type": "code",
   "execution_count": null,
   "metadata": {},
   "outputs": [],
   "source": [
    "new_cols = [\"At Risk of Gentrification\", \"Early Ongoing Gentrification\", \"Ongoing Displacement\", \"Stable Advanced Exclusive\",\n",
    "           \"At Risk of Being Exclusive\", \"Becoming Exclusive\", \"Advanced Gentrification\", \"Stable Middle/Moderate Income\"]\n",
    "plt.bar(column_names, frequencies_list)\n",
    "plt.bar(column_names, frequency_list)\n",
    "plt.legend(labels)\n",
    "#compare the distribution of gentrification statuses for CTIP1 vs all students in SFUSD "
   ]
  },
  {
   "cell_type": "code",
   "execution_count": null,
   "metadata": {},
   "outputs": [],
   "source": [
    "#change the axis to percentages \n",
    "# also create a map of the gentrification areas "
   ]
  },
  {
   "cell_type": "code",
   "execution_count": null,
   "metadata": {},
   "outputs": [],
   "source": [
    "#normalized distribution of all student's locations in terms of gentrification\n",
    "normal = [float(i)/sum(frequencies_list) for i in frequencies_list] \n",
    "new_normal = [i*100 for i in normal]\n",
    "new_normal"
   ]
  },
  {
   "cell_type": "code",
   "execution_count": null,
   "metadata": {},
   "outputs": [],
   "source": [
    "plt.bar(col_names, new_normal)\n",
    "plt.ylabel(\"Percentage of Students\")\n",
    "plt.xlabel(\"Displacement Typology\")"
   ]
  },
  {
   "cell_type": "code",
   "execution_count": null,
   "metadata": {},
   "outputs": [],
   "source": [
    "#NORMALIZED distribution of displacements for CTIP1 students\n",
    "ctip1 = [float(i)/sum(frequency_list) for i in frequency_list] \n",
    "new_ctip1 = [i*100 for i in ctip1]\n",
    "new_ctip1"
   ]
  },
  {
   "cell_type": "code",
   "execution_count": null,
   "metadata": {},
   "outputs": [],
   "source": [
    "#Over 35% of CTIP1 students live in areas with advanced displacement \n",
    "plt.bar(col_names, new_ctip1)\n",
    "plt.ylabel(\"Percentage of CTIP1 Students\")\n",
    "plt.xlabel(\"Displacement Typology\")"
   ]
  },
  {
   "cell_type": "code",
   "execution_count": null,
   "metadata": {},
   "outputs": [],
   "source": [
    "#SAE: Stable Advanced Exclusive Typology (8)\n",
    "#AdvG: Advanced Gentrification Typology (4)\n",
    "#ARE: At Risk of Being Exclusive Typology (6)\n",
    "#BE: Becoming Exclusive (7)\n",
    "#SMMI: Stable Middle/Moderate Income (5)\n",
    "#ARG: At Risk of Gentrification (2)\n",
    "#EOG: Early Ongoing Gentrification (3)\n",
    "#OD: Ongoing Displacement (1)\n",
    "# place terms in ascending order of gentrification / displacement \n",
    "[\"OD\", \"ARG\", \"EOG\", \"AdvG\", \"SMMI\", \"ARE\", \"BE\", \"SAE\"]"
   ]
  },
  {
   "cell_type": "code",
   "execution_count": null,
   "metadata": {},
   "outputs": [],
   "source": [
    "block_df_dict = pd.read_excel(\"/share/data/school_choice/Data/SF 2010 blks 022119 with field descriptions (1).xlsx\", None, engine='openpyxl')"
   ]
  },
  {
   "cell_type": "code",
   "execution_count": null,
   "metadata": {},
   "outputs": [],
   "source": [
    "field_descriptions = block_df_dict[\"field descriptions\"]\n",
    "field_descriptions = field_descriptions.dropna(axis=0, how='all')\n",
    "field_descriptions = field_descriptions.dropna(axis=1, how='all')\n",
    "new_df = field_descriptions[field_descriptions[\"Field Name\"].str.contains('CTIP')]\n",
    "new_df"
   ]
  },
  {
   "cell_type": "code",
   "execution_count": null,
   "metadata": {},
   "outputs": [],
   "source": [
    "block_database = block_df_dict[\"block database\"]\n",
    "block_database = block_database.dropna(axis=0, how='all')\n",
    "block_database = block_database.dropna(axis=1, how='all')\n",
    "block_database[\"CTIP_2013 assignment\"]\n"
   ]
  },
  {
   "cell_type": "code",
   "execution_count": null,
   "metadata": {},
   "outputs": [],
   "source": [
    "field_descriptions.head(30)"
   ]
  },
  {
   "cell_type": "code",
   "execution_count": null,
   "metadata": {},
   "outputs": [],
   "source": [
    "block_database[\"Tract\"]\n",
    "new_blockdf = block_database[[\"Tract\", \"CTIP_2013 assignment\"]]\n",
    "new_blockdf"
   ]
  },
  {
   "cell_type": "code",
   "execution_count": null,
   "metadata": {},
   "outputs": [],
   "source": [
    "ctip_data = new_blockdf.merge(df, left_on = \"Tract\", right_on = \"GEOID\", how = \"left\")\n",
    "ctip_data = ctip_data[[\"Tract\", \"CTIP_2013 assignment\", \"OD\", \"ARG\", \"EOG\", \"AdvG\", \"SMMI\", \"ARE\", \"BE\", \"SAE\"]]"
   ]
  },
  {
   "cell_type": "code",
   "execution_count": null,
   "metadata": {},
   "outputs": [],
   "source": [
    "ctip_data = ctip_data.dropna(axis=0, how='all')\n",
    "ctip_data = ctip_data.dropna(axis=1, how='all')\n",
    "ctip_data"
   ]
  },
  {
   "cell_type": "code",
   "execution_count": null,
   "metadata": {},
   "outputs": [],
   "source": [
    "ctip_data_new = ctip_data.drop_duplicates()\n",
    "ctip_data_new.head(30)"
   ]
  },
  {
   "cell_type": "code",
   "execution_count": null,
   "metadata": {},
   "outputs": [],
   "source": [
    "ctip_data_final = ctip_data.drop_duplicates()\n",
    "ctip_data_final"
   ]
  },
  {
   "cell_type": "code",
   "execution_count": null,
   "metadata": {},
   "outputs": [],
   "source": [
    "# Set the figure size\n",
    "plt.figure(figsize=(8, 8))\n",
    "\n",
    "# grouped barplot\n",
    "sns.barplot(x=\"Tract\", y=\"OD\", \n",
    "            hue=\"CTIP_2013 assignment\", data=ctip_data_final, ci=None);"
   ]
  },
  {
   "cell_type": "code",
   "execution_count": null,
   "metadata": {},
   "outputs": [],
   "source": [
    "ctip_data_new = ctip_data_new.groupby(\"CTIP_2013 assignment\").sum()\n",
    "ctip_data_new"
   ]
  },
  {
   "cell_type": "code",
   "execution_count": null,
   "metadata": {},
   "outputs": [],
   "source": [
    "ctip_data_removed = ctip_data_new.drop(\"Tract\", axis=1)\n",
    "ctip_data_removed"
   ]
  },
  {
   "cell_type": "code",
   "execution_count": null,
   "metadata": {},
   "outputs": [],
   "source": [
    "sns.heatmap(ctip_data_removed)"
   ]
  },
  {
   "cell_type": "code",
   "execution_count": null,
   "metadata": {},
   "outputs": [],
   "source": [
    "updated_FRL = pd.read_excel(\"/share/data/school_choice/dssg/riyab_FRL_data.xlsx\", None, engine='openpyxl')\n",
    "updated_FRL"
   ]
  },
  {
   "cell_type": "code",
   "execution_count": null,
   "metadata": {},
   "outputs": [],
   "source": [
    "grouped_Geoid = updated_FRL[\"Grouped GeoID External\"]\n",
    "grouped_Geoid.tail(10)"
   ]
  },
  {
   "cell_type": "code",
   "execution_count": null,
   "metadata": {},
   "outputs": [],
   "source": [
    "grouped_Geoid_filtered = grouped_Geoid[grouped_Geoid[\"Geoid Group\"].astype('str').str.len() > 3]\n",
    "grouped_Geoid_filtered"
   ]
  },
  {
   "cell_type": "code",
   "execution_count": null,
   "metadata": {},
   "outputs": [],
   "source": [
    "percent_FRL = grouped_Geoid_filtered[\"4YR AVG FRL Count\"]/grouped_Geoid_filtered[\"4YR AVG Student Count\"]\n",
    "percent_FRL"
   ]
  },
  {
   "cell_type": "code",
   "execution_count": null,
   "metadata": {},
   "outputs": [],
   "source": [
    "plt.hist(percent_FRL, density = True, bins = 10, rwidth = .9, edgecolor='red')\n",
    "plt.xlabel(\"Percentage of FRL Students per Block\")\n",
    "plt.ylabel(\"Frequency\")"
   ]
  },
  {
   "cell_type": "code",
   "execution_count": null,
   "metadata": {},
   "outputs": [],
   "source": [
    "percent_AALPI = grouped_Geoid_filtered[\"4YR AVG Eth Flag Count\"]/grouped_Geoid_filtered[\"4YR AVG Student Count\"]\n",
    "percent_AALPI"
   ]
  },
  {
   "cell_type": "code",
   "execution_count": null,
   "metadata": {},
   "outputs": [],
   "source": [
    "plt.hist(percent_AALPI, density = True, bins = 10, rwidth = .9, edgecolor='red')\n",
    "plt.xlabel(\"Percentage of AALPI Students per Block\")\n",
    "plt.ylabel(\"Frequency\")"
   ]
  },
  {
   "cell_type": "code",
   "execution_count": null,
   "metadata": {},
   "outputs": [],
   "source": [
    "percent_both = grouped_Geoid_filtered[\"4YR AVG Combo Flag Count\"]/grouped_Geoid_filtered[\"4YR AVG Student Count\"]\n",
    "percent_both"
   ]
  },
  {
   "cell_type": "code",
   "execution_count": null,
   "metadata": {},
   "outputs": [],
   "source": [
    "plt.hist(percent_both, density = True, bins = 10, rwidth = .9, edgecolor='red')\n",
    "plt.xlabel(\"Percentage of AALPI and FRL Students per Block\")\n",
    "plt.ylabel(\"Frequency\")"
   ]
  },
  {
   "cell_type": "code",
   "execution_count": null,
   "metadata": {},
   "outputs": [],
   "source": [
    "block_database[\"Block\"]"
   ]
  },
  {
   "cell_type": "code",
   "execution_count": null,
   "metadata": {},
   "outputs": [],
   "source": [
    "block_database[\"CTIP_2013 assignment\"]"
   ]
  },
  {
   "cell_type": "code",
   "execution_count": null,
   "metadata": {},
   "outputs": [],
   "source": [
    "grouped_Geoid_filtered[\"Geoid Group\"]"
   ]
  },
  {
   "cell_type": "code",
   "execution_count": null,
   "metadata": {},
   "outputs": [],
   "source": [
    "updated_FRL[\"Field Description\"][\"Description\"][0]"
   ]
  },
  {
   "cell_type": "code",
   "execution_count": null,
   "metadata": {},
   "outputs": [],
   "source": [
    "new_merge = grouped_Geoid_filtered.merge(block_database, left_on = \"Geoid Group\", right_on = \"Block\")\n",
    "new_merge"
   ]
  },
  {
   "cell_type": "code",
   "execution_count": null,
   "metadata": {},
   "outputs": [],
   "source": [
    "new_merge_grouped = new_merge.groupby(\"CTIP_2013 assignment\").mean()\n",
    "new_merge_grouped"
   ]
  },
  {
   "cell_type": "code",
   "execution_count": null,
   "metadata": {},
   "outputs": [],
   "source": [
    "new_merge_grouped = new_merge_grouped[[\"4YR AVG Student Count\", \"4YR AVG FRL Count\",\n",
    "                                      \"4YR AVG Eth Flag Count\", \"4YR AVG Combo Flag Count\"]]\n",
    "new_merge_grouped"
   ]
  },
  {
   "cell_type": "code",
   "execution_count": null,
   "metadata": {},
   "outputs": [],
   "source": [
    "x_axis_labels = [\"Student\", \"FRL\", \"AALPI\", \"Combo\"]\n",
    "ax = sns.heatmap(new_merge_grouped, xticklabels=x_axis_labels)\n",
    "plt.title(\"4YR Average of Student Demographic Counts\", fontsize = 15)"
   ]
  },
  {
   "cell_type": "code",
   "execution_count": null,
   "metadata": {},
   "outputs": [],
   "source": []
  }
 ],
 "metadata": {
  "kernelspec": {
   "display_name": "Python 3",
   "language": "python",
   "name": "python3"
  },
  "language_info": {
   "codemirror_mode": {
    "name": "ipython",
    "version": 3
   },
   "file_extension": ".py",
   "mimetype": "text/x-python",
   "name": "python",
   "nbconvert_exporter": "python",
   "pygments_lexer": "ipython3",
   "version": "3.8.8"
  }
 },
 "nbformat": 4,
 "nbformat_minor": 4
}
