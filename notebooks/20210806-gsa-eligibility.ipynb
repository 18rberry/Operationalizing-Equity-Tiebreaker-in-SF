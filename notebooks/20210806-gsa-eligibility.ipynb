{
 "cells": [
  {
   "cell_type": "code",
   "execution_count": null,
   "metadata": {},
   "outputs": [],
   "source": [
    "import numpy as np\n",
    "import pandas as pd\n",
    "import matplotlib.pyplot as plt\n",
    "import sys\n",
    "sys.path.append('../')"
   ]
  },
  {
   "cell_type": "code",
   "execution_count": null,
   "metadata": {},
   "outputs": [],
   "source": [
    "from src.d02_intermediate.classifier_data_api import ClassifierDataApi\n",
    "from src.d04_modeling import propositional_classifier as pc\n",
    "from src.d04_modeling.naive_classifier import NaiveClassifier"
   ]
  },
  {
   "cell_type": "markdown",
   "metadata": {},
   "source": [
    "We load the data with an arbitrary classifier, and get an instance of the ClassifierDataApi class to access the data:"
   ]
  },
  {
   "cell_type": "code",
   "execution_count": null,
   "metadata": {},
   "outputs": [],
   "source": [
    "load_data = pc.andClassifier([])\n",
    "cda = ClassifierDataApi()"
   ]
  },
  {
   "cell_type": "markdown",
   "metadata": {},
   "source": [
    "# Eligibility Criteria:"
   ]
  },
  {
   "cell_type": "markdown",
   "metadata": {},
   "source": [
    "This work is an extension of the Neighborhood Proxy Criteria. We would like to replace that for a more general eligibitliy criteria that takes into account:\n",
    "\n",
    "1. Public housing projects in a block (data provided by the School District, SFHA_ex_Sr column)\n",
    "2. Red-lining historical maps\n",
    "\n",
    "Blocks satisfying at least one of these criteria are eligible to receive the equity tiebreaker.\n",
    "\n",
    "We also address transparency issues. The eligibility criteria never automatically give a block the equity tiebreaker, so that knowing these criteria is not enough for a family to \"game\" the system by moving. After blocks are pre-selected by these criteria, the demographic composition of the block should be taken into account to actually decide upon the tiebreaker.\n",
    "\n",
    "More criteria can be incorporated, and we suggest that criteria which measure the development status and number of resources in a neighborhood are incorporated here. For example, accessibility and public transportation or gentrification. Importantly, the eligibility criteria can be provided at a coarser level than the blocks, so that more datasets are potentially available."
   ]
  },
  {
   "cell_type": "markdown",
   "metadata": {},
   "source": [
    "## 1. San Francisco Public Housing"
   ]
  },
  {
   "cell_type": "markdown",
   "metadata": {},
   "source": [
    "The first criteria qualifying a block for the equity tiebreaker is whether there are non-senior public housing developments in that block. We can visualize these blocks in the map below:"
   ]
  },
  {
   "cell_type": "code",
   "execution_count": null,
   "metadata": {},
   "outputs": [],
   "source": [
    "housing_gdf = cda.get_map_df_data(\"Housing\")\n",
    "\n",
    "fig, ax = plt.subplots(figsize=(30,30))\n",
    "ax = housing_gdf.plot(column=\"Housing\", ax=ax)\n",
    "ax.set_title(\"Blocks with non-Senior SF Housing\", fontsize=50)\n",
    "plt.show()"
   ]
  },
  {
   "cell_type": "markdown",
   "metadata": {},
   "source": [
    "This a very limited number of blocks (65). Other proxies for affordable housing could be considered, such as the SA Housing rathern than SFHA Housing. If we award a tiebreaker to everyone with public housing:"
   ]
  },
  {
   "cell_type": "code",
   "execution_count": null,
   "metadata": {},
   "outputs": [],
   "source": [
    "c = pc.andClassifier([\"Housing\"], binary_var=[0])\n",
    "\n",
    "print(\"{:.1%} of all the students receive the tiebreaker\\n\".format(c.pr([])))\n",
    "\n",
    "print(\"{:.1%} of all the focal students receive a tiebreaker\".format(c.tpr([])))\n",
    "print(\"{:.1%} of all the non-focal students receive a tiebreaker\".format(c.fpr([])))\n",
    "print(\"{:.1%} of the students receiving a tiebreaker are non-focal\".format(1-c.precision([])))"
   ]
  },
  {
   "cell_type": "markdown",
   "metadata": {},
   "source": [
    "## 2. Red-Lining History"
   ]
  },
  {
   "cell_type": "markdown",
   "metadata": {},
   "source": [
    "Another dataset we would like to incorporate is historical red-lining maps. This data is available publicaly and is immutable: https://dsl.richmond.edu/panorama/redlining/#loc=12/37.83/-122.464&city=san-francisco-ca&area=null&text=downloads"
   ]
  },
  {
   "cell_type": "code",
   "execution_count": null,
   "metadata": {},
   "outputs": [],
   "source": []
  }
 ],
 "metadata": {
  "kernelspec": {
   "display_name": "Python 3",
   "language": "python",
   "name": "python3"
  },
  "language_info": {
   "codemirror_mode": {
    "name": "ipython",
    "version": 3
   },
   "file_extension": ".py",
   "mimetype": "text/x-python",
   "name": "python",
   "nbconvert_exporter": "python",
   "pygments_lexer": "ipython3",
   "version": "3.8.8"
  }
 },
 "nbformat": 4,
 "nbformat_minor": 4
}
