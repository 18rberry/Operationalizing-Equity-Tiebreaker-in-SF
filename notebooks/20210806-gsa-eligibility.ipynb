{
 "cells": [
  {
   "cell_type": "code",
   "execution_count": null,
   "metadata": {},
   "outputs": [],
   "source": [
    "import numpy as np\n",
    "import pandas as pd\n",
    "import matplotlib.pyplot as plt\n",
    "import sys\n",
    "sys.path.append('../')"
   ]
  },
  {
   "cell_type": "code",
   "execution_count": null,
   "metadata": {},
   "outputs": [],
   "source": [
    "from src.d02_intermediate.classifier_data_api import ClassifierDataApi\n",
    "from src.d04_modeling import propositional_classifier as pc\n",
    "from src.d04_modeling.naive_classifier import NaiveClassifier"
   ]
  },
  {
   "cell_type": "markdown",
   "metadata": {},
   "source": [
    "We load the data with an arbitrary classifier, and get an instance of the ClassifierDataApi class to access the data:"
   ]
  },
  {
   "cell_type": "code",
   "execution_count": null,
   "metadata": {},
   "outputs": [],
   "source": [
    "load_data = pc.andClassifier([])\n",
    "cda = ClassifierDataApi()"
   ]
  },
  {
   "cell_type": "markdown",
   "metadata": {},
   "source": [
    "# Eligibility Criteria:"
   ]
  },
  {
   "cell_type": "markdown",
   "metadata": {},
   "source": [
    "This work is an extension of the Neighborhood Proxy Criteria. We would like to replace that for a more general eligibitliy criteria that takes into account:\n",
    "\n",
    "1. Public housing projects in a block (data provided by the School District, SFHA_ex_Sr column)\n",
    "2. Red-lining historical maps\n",
    "\n",
    "Blocks satisfying at least one of these criteria are eligible to receive the equity tiebreaker.\n",
    "\n",
    "We also address transparency issues. The eligibility criteria never automatically give a block the equity tiebreaker, so that knowing these criteria is not enough for a family to \"game\" the system by moving. After blocks are pre-selected by these criteria, the demographic composition of the block should be taken into account to actually decide upon the tiebreaker.\n",
    "\n",
    "More criteria can be incorporated, and we suggest that criteria which measure the development status and number of resources in a neighborhood are incorporated here. For example, accessibility and public transportation or gentrification. Importantly, the eligibility criteria can be provided at a coarser level than the blocks, so that more datasets are potentially available."
   ]
  },
  {
   "cell_type": "markdown",
   "metadata": {},
   "source": [
    "## 1. San Francisco Public Housing"
   ]
  },
  {
   "cell_type": "markdown",
   "metadata": {},
   "source": [
    "The first criteria qualifying a block for the equity tiebreaker is whether there are non-senior public housing developments in that block. We can visualize these blocks in the map below:"
   ]
  },
  {
   "cell_type": "code",
   "execution_count": null,
   "metadata": {},
   "outputs": [],
   "source": [
    "housing_gdf = cda.get_map_df_data(\"Housing\")\n",
    "\n",
    "fig, ax = plt.subplots(figsize=(20,20))\n",
    "ax = housing_gdf.plot(column=\"Housing\", ax=ax)\n",
    "ax.set_title(\"Blocks with non-Senior SF Housing\", fontsize=50)\n",
    "plt.show()"
   ]
  },
  {
   "cell_type": "markdown",
   "metadata": {},
   "source": [
    "This a very limited number of blocks (65). Other proxies for affordable housing could be considered, such as the SA Housing rathern than SFHA Housing. If we award a tiebreaker to everyone with public housing:"
   ]
  },
  {
   "cell_type": "code",
   "execution_count": null,
   "metadata": {},
   "outputs": [],
   "source": [
    "c = pc.andClassifier([\"Housing\"], binary_var=[0])\n",
    "\n",
    "print(\"{:.1%} of all the students receive the tiebreaker\\n\".format(c.pr([])))\n",
    "\n",
    "print(\"{:.1%} of all the focal students receive a tiebreaker\".format(c.tpr([])))\n",
    "print(\"{:.1%} of all the non-focal students receive a tiebreaker\".format(c.fpr([])))\n",
    "print(\"{:.1%} of the students receiving a tiebreaker are non-focal\".format(1-c.precision([])))"
   ]
  },
  {
   "cell_type": "markdown",
   "metadata": {},
   "source": [
    "## 2. Red-Lining History"
   ]
  },
  {
   "cell_type": "markdown",
   "metadata": {},
   "source": [
    "Another dataset we would like to incorporate is historical red-lining maps. This data is available publicaly and is immutable: https://dsl.richmond.edu/panorama/redlining/#loc=12/37.83/-122.464&city=san-francisco-ca&area=null&text=downloads"
   ]
  },
  {
   "cell_type": "code",
   "execution_count": null,
   "metadata": {},
   "outputs": [],
   "source": [
    "import geopandas as gpd\n",
    "\n",
    "sf_gdf = cda.get_map_df_data(\"Housing\")\n",
    "\n",
    "redlining_gdf_raw = gpd.read_file(\"/share/data/school_choice_equity/data/CASanFrancisco1937.geojson\")\n",
    "redlining_gdf = redlining_gdf_raw.dissolve(by='holc_grade').to_crs(sf_gdf.crs)\n",
    "\n",
    "fig, ax = plt.subplots(figsize=(20,20))\n",
    "color_mapping = {\"A\": \"green\", \"B\": \"blue\", \"C\":\"yellow\", \"D\":\"red\"}\n",
    "ax = housing_gdf.plot(color='gray', ax=ax, alpha=0.9)\n",
    "redlining_gdf.plot(ax=ax, categorical=True,\n",
    "                   color=redlining_gdf.index.map(color_mapping), alpha=0.6,\n",
    "                   legend=True, legend_kwds={\"fontsize\":30})"
   ]
  },
  {
   "cell_type": "markdown",
   "metadata": {},
   "source": [
    "Eligible blocks will then be those in the HOLC grade D as per above, in addition to blocks with SFHA housing projects:"
   ]
  },
  {
   "cell_type": "code",
   "execution_count": null,
   "metadata": {},
   "outputs": [],
   "source": [
    "sf_gdf['Redline'] = sf_gdf['geometry'].buffer(0).intersects(redlining_gdf['geometry']['D'].buffer(0), align=False)\n",
    "sf_gdf['Eligible'] = sf_gdf.eval(\"Housing or Redline\")\n",
    "\n",
    "fig, ax = plt.subplots(figsize=(20,20))\n",
    "ax = sf_gdf.plot(ax=ax, column='Eligible')\n",
    "ax.set_title(\"Eligible Blocks\", fontsize=50)"
   ]
  },
  {
   "cell_type": "markdown",
   "metadata": {},
   "source": [
    "The redline column is automatically retrived in the classifier data api as part of the block dataframe. Therefore it can be used in tiebreakers."
   ]
  },
  {
   "cell_type": "code",
   "execution_count": null,
   "metadata": {},
   "outputs": [],
   "source": [
    "eligibility_classifier = pc.orClassifier([\"Housing\", \"Redline\"], binary_var=[0,1])"
   ]
  },
  {
   "cell_type": "markdown",
   "metadata": {},
   "source": [
    "Now we can use this elgibility criteria (which is fixed, thus needs no parameters) and use it on a classifier. For example, simple ordering based on the percentage of intersection students:"
   ]
  },
  {
   "cell_type": "code",
   "execution_count": null,
   "metadata": {},
   "outputs": [],
   "source": [
    "c = pc.andClassifier([\"pctBoth\"], positive_group=\"nBoth\", eligibility_classifier=eligibility_classifier)"
   ]
  },
  {
   "cell_type": "code",
   "execution_count": null,
   "metadata": {},
   "outputs": [],
   "source": [
    "params = [0, 0.20, 0.40, 0.5]\n",
    "fig, Axes = plt.subplots(figsize=(40,40), nrows=2, ncols=2)\n",
    "pr, fpr, fnr, imp = [], [], [], []\n",
    "\n",
    "for beta, ax in zip(params, Axes.flatten()):\n",
    "    map_df = c.get_tiebreaker_map(beta, \"tiebreaker\")\n",
    "    ax = map_df.plot(column=\"tiebreaker\", ax=ax, cmap=\"viridis\",\n",
    "                     legend=False, missing_kwds={'color': 'lightgrey'})\n",
    "    ax.set_title(\"Intersection \" + \"$(\\%) \\geq $\"+str(100*beta)+\"%\", fontsize=40)\n",
    "    plt.axis('off')\n",
    "    pr.append(c.pr(beta))\n",
    "    fpr.append(c.fpr(beta))\n",
    "    fnr.append(c.fnr(beta))\n",
    "    imp.append(1 - c.precision(beta))\n",
    "\n",
    "fpr = 100*np.reshape(np.array(fpr), (2,2)).round(decimals=2)\n",
    "fnr = 100*np.reshape(np.array(fnr), (2,2)).round(decimals=2)\n",
    "pr = 100*np.reshape(np.array(pr), (2,2)).round(decimals=2)\n",
    "imp = 100*np.reshape(np.array(imp), (2,2)).round(decimals=2)\n",
    "        \n",
    "fig.tight_layout()\n",
    "plt.show()"
   ]
  },
  {
   "cell_type": "code",
   "execution_count": null,
   "metadata": {},
   "outputs": [],
   "source": [
    "pr, fpr, fnr, imp"
   ]
  },
  {
   "cell_type": "markdown",
   "metadata": {},
   "source": [
    "The one we are using for the presentation:"
   ]
  },
  {
   "cell_type": "code",
   "execution_count": null,
   "metadata": {},
   "outputs": [],
   "source": [
    "eligibility_classifier = pc.orClassifier([\"Housing\", \"Redline\"], binary_var=[0,1])\n",
    "c = pc.andClassifier([\"pctBoth\"], positive_group=\"nBoth\", eligibility_classifier=eligibility_classifier, frl_key='kt5')\n",
    "params = 0.35\n",
    "\n",
    "fig, ax = plt.subplots(figsize=(20,20))\n",
    "ax = c.plot_map(params=params, ax=ax)"
   ]
  },
  {
   "cell_type": "code",
   "execution_count": null,
   "metadata": {},
   "outputs": [],
   "source": []
  }
 ],
 "metadata": {
  "kernelspec": {
   "display_name": "Python 3",
   "language": "python",
   "name": "python3"
  },
  "language_info": {
   "codemirror_mode": {
    "name": "ipython",
    "version": 3
   },
   "file_extension": ".py",
   "mimetype": "text/x-python",
   "name": "python",
   "nbconvert_exporter": "python",
   "pygments_lexer": "ipython3",
   "version": "3.8.8"
  }
 },
 "nbformat": 4,
 "nbformat_minor": 4
}
