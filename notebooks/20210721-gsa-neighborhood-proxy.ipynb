{
 "cells": [
  {
   "cell_type": "code",
   "execution_count": null,
   "metadata": {},
   "outputs": [],
   "source": [
    "import numpy as np\n",
    "import matplotlib.pyplot as plt\n",
    "import sys\n",
    "sys.path.append('../')"
   ]
  },
  {
   "cell_type": "code",
   "execution_count": null,
   "metadata": {},
   "outputs": [],
   "source": [
    "from src.d00_utils.utils import add_percent_columns\n",
    "from src.d02_intermediate.classifier_data_api import ClassifierDataApi\n",
    "from src.d01_data.block_data_api import BlockDataApi\n",
    "from src.d04_modeling import propositional_classifier as pc"
   ]
  },
  {
   "cell_type": "markdown",
   "metadata": {},
   "source": [
    "We load the data with an arbitrary classifier, and get an instance of the ClassifierDataApi class to access the data:"
   ]
  },
  {
   "cell_type": "code",
   "execution_count": null,
   "metadata": {},
   "outputs": [],
   "source": [
    "load_data = pc.andClassifier([\"nFRL\"])\n",
    "cda = ClassifierDataApi()"
   ]
  },
  {
   "cell_type": "markdown",
   "metadata": {},
   "source": [
    "# Focal Neighborhood Proxies"
   ]
  },
  {
   "cell_type": "markdown",
   "metadata": {},
   "source": [
    "So far we have developed classifiers to label each block as either focal or non-focal. Ignoring block groups due to anonimization issues, we always considered only the single-block features for this classification task. In this notebook I introduce the idea of adding a condition that in order to be focal a block must be in a \"focal neighborhood.\" Benefits of doing this are:\n",
    "\n",
    "1. Some blocks might contain focal students as noted in the dataset, but those students may be receiving much better infrastructure (transportation, access to good pre-K schools) than other focal students.\n",
    "2. The tiebreaker will be more robust and interpretable if the focal blocks are not as scattered. The neighborhood criterion could aid reducing scattering.\n",
    "\n",
    "Namely, we started this approach due to concerns with the focal status of FRL-receiving students in the Northwest of San Francisco. We would like to attribute some weight to the fact that those students live in a higher-developed neighborhood than students living in the Southeast of the city. We can see in the map below that many blocks in the Northwest have a high rate of FRL-receiving students."
   ]
  },
  {
   "cell_type": "code",
   "execution_count": null,
   "metadata": {},
   "outputs": [],
   "source": [
    "map_df_raw = cda.get_map_df_data(cols=[\"n\", \"nFocal\", \"nFRL\", \"nAALPI\", \"nBoth\"])\n",
    "map_df_data = add_percent_columns(map_df_raw)\n",
    "\n",
    "fig, Axes = plt.subplots(figsize=(60,60), ncols=2, nrows=2)\n",
    "axFRL = map_df_data.plot(column=\"pctFRL\", ax=Axes[0,0], cmap=\"YlOrRd\",\n",
    "                         legend=False, legend_kwds={'orientation': \"horizontal\"},\n",
    "                         missing_kwds={'color': 'lightgrey'})\n",
    "Axes[0,0].set_title(\"FRL (%)\", fontsize=50)\n",
    "axFRL = map_df_data.plot(column=\"pctAALPI\", ax=Axes[0,1], cmap=\"YlOrRd\",\n",
    "                         legend=False, legend_kwds={'orientation': \"horizontal\"},\n",
    "                         missing_kwds={'color': 'lightgrey'})\n",
    "Axes[0,1].set_title(\"AALPI (%)\", fontsize=50)\n",
    "axBoth = map_df_data.plot(column=\"pctBoth\", ax=Axes[1,0], cmap=\"YlOrRd\",\n",
    "                         legend=False, legend_kwds={'orientation': \"horizontal\"},\n",
    "                         missing_kwds={'color': 'lightgrey'})\n",
    "Axes[1,0].set_title(\"Intersection (%)\", fontsize=50)\n",
    "axFocal = map_df_data.plot(column=\"pctFocal\", ax=Axes[1,1], cmap=\"YlOrRd\",\n",
    "                         legend=False, legend_kwds={'orientation': \"horizontal\"},\n",
    "                         missing_kwds={'color': 'lightgrey'})\n",
    "Axes[1,1].set_title(\"Focal (%)\", fontsize=50)"
   ]
  },
  {
   "cell_type": "markdown",
   "metadata": {},
   "source": [
    "The main idea is to incorporate the neighborhood condition (N_COND) into the propositional classifier. This way N_COND will either evaluate to True or False for each block. Blocks in the same neighborhood will have the same value of N_COND. Probably it will be better to incorporate (to adhere to goals 1 and 2) this condition in conjunction to an existing tiebreaker (PROP). That is, a block receives a tiebreaker if the following expression is true:\n",
    "\n",
    "$$ \\text{PROP} \\quad\\text{and}\\quad \\text{N_COND}$$\n",
    "\n",
    "Meaning that the block must satisfy simultaneously the (1) block-level criteria and (2) the neighborhood condition. An example of this classifier would be, assuming we could measure a neighborhood median income directly, to give a tiebreaker to blocks satisfying:\n",
    "\n",
    "$$ (\\text{pctAALPI }\\geq 0.5\\quad\\text{or}\\quad \\text{pctFRL } \\geq 0.6)\\quad\\text{and}\\quad \\text{NbhdMedianInc} \\leq 50,000 $$"
   ]
  },
  {
   "cell_type": "markdown",
   "metadata": {},
   "source": [
    "The definition of neighborhood we will probably use is the BlockGroup. BlockGroups can be visualized in the following map. Note that trimming the Block Group id (10 digits by default) leads to a coarser neighborhood partition:"
   ]
  },
  {
   "cell_type": "code",
   "execution_count": null,
   "metadata": {},
   "outputs": [],
   "source": [
    "map_df_bg = cda.get_map_df_data(cols=[\"BlockGroup\"])\n",
    "fig, Axes = plt.subplots(figsize=(40,40), nrows=2, ncols=2)\n",
    "\n",
    "k=8\n",
    "for ax in Axes.flatten():\n",
    "    new_map_df = map_df_bg.copy()\n",
    "    new_map_df[\"BlockGroup\"] = new_map_df[\"BlockGroup\"].astype(str).str.slice(stop=k)\n",
    "    new_map_df[\"RankGroup\"] = new_map_df[\"BlockGroup\"].rank(method=\"dense\")\n",
    "    ax = new_map_df.plot(column=\"RankGroup\", ax=ax, cmap=\"flag\",\n",
    "                        legend=False, missing_kwds={'color': 'lightgrey'})\n",
    "    ax.set_title(\"Block Groups until digit \" + str(k-1), fontsize=50)\n",
    "    k += 1"
   ]
  },
  {
   "cell_type": "markdown",
   "metadata": {},
   "source": [
    "Another option of neighborhood unit is the analysis neighborhood."
   ]
  },
  {
   "cell_type": "code",
   "execution_count": null,
   "metadata": {},
   "outputs": [],
   "source": [
    "map_df_nb = cda.get_map_df_data(cols=[\"Neighborhood\"])\n",
    "fig, ax = plt.subplots(figsize=(20,20))\n",
    "ax = map_df_nb.plot(column=\"Neighborhood\", ax=ax, cmap=\"flag\",\n",
    "                    legend=False, missing_kwds={'color': 'lightgrey'},\n",
    "                    categorical=True)\n",
    "ax.set_title(\"San Francisco Analysis Neighborhoods\", fontsize=50)"
   ]
  },
  {
   "cell_type": "markdown",
   "metadata": {},
   "source": [
    "We can initialize a classifier with a group_criterion to be either None (default), \"block_group\", or \"nbhd\" and be in one of those scenarios. If we select \"block_group\", we can specify the coarseness of the block group id (default is 8 digits):"
   ]
  },
  {
   "cell_type": "code",
   "execution_count": null,
   "metadata": {},
   "outputs": [],
   "source": [
    "c1 = pc.andClassifier([\"pctFocal\"], group_criterion=\"block_group\", len_BG=8)\n",
    "c2 = pc.andClassifier([\"pctFocal\"], group_criterion=\"nbhd\")\n",
    "c3 = pc.andClassifier([\"pctFocal\"], group_criterion=None)  #default!"
   ]
  },
  {
   "cell_type": "markdown",
   "metadata": {},
   "source": [
    "## 1. FRL and AALPI based Proxies:"
   ]
  },
  {
   "cell_type": "markdown",
   "metadata": {},
   "source": [
    "The first time around, I will build proxies only taking into account the focal student data provided by the district. This will enforce that a tiebreaker-receiving block is not completely detached from its neighborhood judging by the same criteria."
   ]
  },
  {
   "cell_type": "code",
   "execution_count": null,
   "metadata": {},
   "outputs": [],
   "source": [
    "c1 = pc.andClassifier([\"pctFocal\"],len_BG=7)\n",
    "c2 = pc.andClassifier([\"BG_pctFocal\"], len_BG=7)"
   ]
  },
  {
   "cell_type": "markdown",
   "metadata": {},
   "source": [
    "For example, if we were to give the tiebreaker only to blockgroups where the percentage of focal students is above a certain threshold, we would obtain the following ROC curve (and compare it to the curve obtained from only considering the individual percentage):"
   ]
  },
  {
   "cell_type": "code",
   "execution_count": null,
   "metadata": {},
   "outputs": [],
   "source": [
    "fig, ax = plt.subplots(figsize=(20, 20))\n",
    "\n",
    "ax.plot([0, 1], [0, 1], linestyle='--', label='No Skill')\n",
    "param_arr = [x/10 for x in range(11)]\n",
    "\n",
    "for col in [\"pctFocal\", \"BG_pctFocal\"]:\n",
    "    classifier = pc.andClassifier([col])\n",
    "    df = classifier.get_roc(param_arr)\n",
    "    data_fpr = df[\"fpr\"].values\n",
    "    data_tpr = df[\"tpr\"].values\n",
    "    ax.plot(data_fpr, data_tpr, linestyle='solid', label=col)\n",
    "\n",
    "ax.legend(loc=\"lower right\")\n",
    "plt.legend(fontsize=25)\n",
    "\n",
    "ax.set_xlabel('False Positive Rate', fontsize=20)\n",
    "ax.set_ylabel('True Positive Rate', fontsize=20)\n",
    "ax.set_title(\"ROC curve for naive classification based on a single feature\", fontsize=30)\n",
    "\n",
    "plt.show()"
   ]
  },
  {
   "cell_type": "markdown",
   "metadata": {},
   "source": [
    "For a few values of the threshold we can view the differences in the solution:"
   ]
  },
  {
   "cell_type": "code",
   "execution_count": null,
   "metadata": {},
   "outputs": [],
   "source": [
    "fig, Axes = plt.subplots(figsize=(40,60), nrows=3, ncols=2)\n",
    "\n",
    "for alpha, i in zip([0.25, 0.5, 0.75], [0, 1, 2]):\n",
    "    j=0\n",
    "    for classifier in [c1, c2]:\n",
    "        map_df = classifier.get_tiebreakermap(alpha)\n",
    "        Axes[i, j] = map_df.plot(column=\"tiebreaker\", ax=Axes[i,j], cmap=\"viridis\",\n",
    "                                 legend=False, missing_kwds={'color': 'lightgrey'})\n",
    "        plt.axis('off')\n",
    "        j += 1\n",
    "\n",
    "cols = [\"Block Level Focal (%)\", \"Group Level Focal (%)\"]\n",
    "rows = [\"> 25%\", \"> 50%\", \"> 75%\"]\n",
    "for ax, col in zip(Axes[0], cols):\n",
    "    ax.set_title(col, fontsize=80)\n",
    "for ax, row in zip(Axes[:,0], rows):\n",
    "    ax.set_ylabel(row, rotation=90, fontsize=60)\n",
    "fig.tight_layout()\n",
    "plt.show()"
   ]
  },
  {
   "cell_type": "code",
   "execution_count": null,
   "metadata": {},
   "outputs": [],
   "source": [
    "c1.data"
   ]
  },
  {
   "cell_type": "markdown",
   "metadata": {},
   "source": [
    "## 2. Neighborhood Socioeconomic Score (Henry's index) based Proxies:"
   ]
  },
  {
   "cell_type": "code",
   "execution_count": null,
   "metadata": {},
   "outputs": [],
   "source": []
  }
 ],
 "metadata": {
  "kernelspec": {
   "display_name": "Python 3",
   "language": "python",
   "name": "python3"
  },
  "language_info": {
   "codemirror_mode": {
    "name": "ipython",
    "version": 3
   },
   "file_extension": ".py",
   "mimetype": "text/x-python",
   "name": "python",
   "nbconvert_exporter": "python",
   "pygments_lexer": "ipython3",
   "version": "3.8.8"
  }
 },
 "nbformat": 4,
 "nbformat_minor": 4
}
