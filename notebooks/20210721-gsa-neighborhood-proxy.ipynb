{
 "cells": [
  {
   "cell_type": "code",
   "execution_count": 1,
   "metadata": {},
   "outputs": [],
   "source": [
    "import numpy as np\n",
    "import matplotlib.pyplot as plt\n",
    "import sys\n",
    "sys.path.append('../')"
   ]
  },
  {
   "cell_type": "code",
   "execution_count": 2,
   "metadata": {},
   "outputs": [],
   "source": [
    "from src.d00_utils.utils import plot_map_column, add_percent_columns\n",
    "from src.d02_intermediate.classifier_data_api import ClassifierDataApi\n",
    "from src.d01_data.block_data_api import BlockDataApi\n",
    "from src.d04_modeling import propositional_classifier as pc"
   ]
  },
  {
   "cell_type": "code",
   "execution_count": 3,
   "metadata": {},
   "outputs": [],
   "source": [
    "block_api = BlockDataApi()"
   ]
  },
  {
   "cell_type": "code",
   "execution_count": 4,
   "metadata": {},
   "outputs": [
    {
     "ename": "AttributeError",
     "evalue": "'DataFrame' object has no attribute '_data'",
     "output_type": "error",
     "traceback": [
      "\u001b[0;31m---------------------------------------------------------------------------\u001b[0m",
      "\u001b[0;31mAttributeError\u001b[0m                            Traceback (most recent call last)",
      "\u001b[0;32m<ipython-input-4-f703508907dd>\u001b[0m in \u001b[0;36m<module>\u001b[0;34m\u001b[0m\n\u001b[0;32m----> 1\u001b[0;31m \u001b[0mfrl_df\u001b[0m \u001b[0;34m=\u001b[0m \u001b[0mblock_api\u001b[0m\u001b[0;34m.\u001b[0m\u001b[0mget_data\u001b[0m\u001b[0;34m(\u001b[0m\u001b[0mfrl\u001b[0m\u001b[0;34m=\u001b[0m\u001b[0;32mTrue\u001b[0m\u001b[0;34m,\u001b[0m \u001b[0mfrl_key\u001b[0m\u001b[0;34m=\u001b[0m\u001b[0;34m\"tk12\"\u001b[0m\u001b[0;34m)\u001b[0m\u001b[0;34m\u001b[0m\u001b[0;34m\u001b[0m\u001b[0m\n\u001b[0m",
      "\u001b[0;32m~/dssg_sfusd/src/d01_data/block_data_api.py\u001b[0m in \u001b[0;36mget_data\u001b[0;34m(self, sfha, frl, frl_key)\u001b[0m\n\u001b[1;32m     99\u001b[0m         \u001b[0;34m:\u001b[0m\u001b[0;32mreturn\u001b[0m\u001b[0;34m:\u001b[0m\u001b[0;34m\u001b[0m\u001b[0;34m\u001b[0m\u001b[0m\n\u001b[1;32m    100\u001b[0m         \"\"\"\n\u001b[0;32m--> 101\u001b[0;31m         \u001b[0mself\u001b[0m\u001b[0;34m.\u001b[0m\u001b[0mload_data\u001b[0m\u001b[0;34m(\u001b[0m\u001b[0msfha\u001b[0m\u001b[0;34m=\u001b[0m\u001b[0msfha\u001b[0m\u001b[0;34m,\u001b[0m \u001b[0mfrl\u001b[0m\u001b[0;34m=\u001b[0m\u001b[0mfrl\u001b[0m\u001b[0;34m,\u001b[0m \u001b[0mfrl_key\u001b[0m\u001b[0;34m=\u001b[0m\u001b[0mfrl_key\u001b[0m\u001b[0;34m)\u001b[0m\u001b[0;34m\u001b[0m\u001b[0;34m\u001b[0m\u001b[0m\n\u001b[0m\u001b[1;32m    102\u001b[0m         \u001b[0;32mif\u001b[0m \u001b[0msfha\u001b[0m\u001b[0;34m:\u001b[0m\u001b[0;34m\u001b[0m\u001b[0;34m\u001b[0m\u001b[0m\n\u001b[1;32m    103\u001b[0m             \u001b[0mdf\u001b[0m \u001b[0;34m=\u001b[0m \u001b[0mself\u001b[0m\u001b[0;34m.\u001b[0m\u001b[0m__cache_sfha\u001b[0m\u001b[0;34m[\u001b[0m\u001b[0;34m'data'\u001b[0m\u001b[0;34m]\u001b[0m\u001b[0;34m.\u001b[0m\u001b[0mcopy\u001b[0m\u001b[0;34m(\u001b[0m\u001b[0;34m)\u001b[0m\u001b[0;34m\u001b[0m\u001b[0;34m\u001b[0m\u001b[0m\n",
      "\u001b[0;32m~/dssg_sfusd/src/d01_data/block_data_api.py\u001b[0m in \u001b[0;36mload_data\u001b[0;34m(self, sfha, frl, user, frl_key)\u001b[0m\n\u001b[1;32m     65\u001b[0m                 \u001b[0mdf_data\u001b[0m \u001b[0;34m=\u001b[0m \u001b[0mself\u001b[0m\u001b[0;34m.\u001b[0m\u001b[0mread_data\u001b[0m\u001b[0;34m(\u001b[0m\u001b[0m_block_frl_file_path\u001b[0m\u001b[0;34m[\u001b[0m\u001b[0mfrl_key\u001b[0m\u001b[0;34m]\u001b[0m \u001b[0;34m+\u001b[0m \u001b[0m_data_extension\u001b[0m\u001b[0;34m)\u001b[0m\u001b[0;34m\u001b[0m\u001b[0;34m\u001b[0m\u001b[0m\n\u001b[1;32m     66\u001b[0m \u001b[0;34m\u001b[0m\u001b[0m\n\u001b[0;32m---> 67\u001b[0;31m                 \u001b[0mcount_df\u001b[0m \u001b[0;34m=\u001b[0m \u001b[0mdf_data\u001b[0m\u001b[0;34m.\u001b[0m\u001b[0mgroupby\u001b[0m\u001b[0;34m(\u001b[0m\u001b[0;34m[\u001b[0m\u001b[0;34m'Geoid Group'\u001b[0m\u001b[0;34m]\u001b[0m\u001b[0;34m)\u001b[0m\u001b[0;34m.\u001b[0m\u001b[0msize\u001b[0m\u001b[0;34m(\u001b[0m\u001b[0;34m)\u001b[0m\u001b[0;34m.\u001b[0m\u001b[0mto_frame\u001b[0m\u001b[0;34m(\u001b[0m\u001b[0mname\u001b[0m\u001b[0;34m=\u001b[0m\u001b[0;34m\"count\"\u001b[0m\u001b[0;34m)\u001b[0m\u001b[0;34m.\u001b[0m\u001b[0mreset_index\u001b[0m\u001b[0;34m(\u001b[0m\u001b[0;34m)\u001b[0m\u001b[0;34m\u001b[0m\u001b[0;34m\u001b[0m\u001b[0m\n\u001b[0m\u001b[1;32m     68\u001b[0m                 \u001b[0mextended_df\u001b[0m \u001b[0;34m=\u001b[0m \u001b[0mdf_data\u001b[0m\u001b[0;34m.\u001b[0m\u001b[0mmerge\u001b[0m\u001b[0;34m(\u001b[0m\u001b[0mcount_df\u001b[0m\u001b[0;34m,\u001b[0m \u001b[0mon\u001b[0m\u001b[0;34m=\u001b[0m\u001b[0;34m\"Geoid Group\"\u001b[0m\u001b[0;34m)\u001b[0m\u001b[0;34m\u001b[0m\u001b[0;34m\u001b[0m\u001b[0m\n\u001b[1;32m     69\u001b[0m \u001b[0;34m\u001b[0m\u001b[0m\n",
      "\u001b[0;32m/usr/local/lib/python3.8/dist-packages/pandas/core/frame.py\u001b[0m in \u001b[0;36mgroupby\u001b[0;34m(self, by, axis, level, as_index, sort, group_keys, squeeze, observed)\u001b[0m\n\u001b[1;32m   5799\u001b[0m         \u001b[0maxis\u001b[0m \u001b[0;34m=\u001b[0m \u001b[0mself\u001b[0m\u001b[0;34m.\u001b[0m\u001b[0m_get_axis_number\u001b[0m\u001b[0;34m(\u001b[0m\u001b[0maxis\u001b[0m\u001b[0;34m)\u001b[0m\u001b[0;34m\u001b[0m\u001b[0;34m\u001b[0m\u001b[0m\n\u001b[1;32m   5800\u001b[0m \u001b[0;34m\u001b[0m\u001b[0m\n\u001b[0;32m-> 5801\u001b[0;31m         return groupby_generic.DataFrameGroupBy(\n\u001b[0m\u001b[1;32m   5802\u001b[0m             \u001b[0mobj\u001b[0m\u001b[0;34m=\u001b[0m\u001b[0mself\u001b[0m\u001b[0;34m,\u001b[0m\u001b[0;34m\u001b[0m\u001b[0;34m\u001b[0m\u001b[0m\n\u001b[1;32m   5803\u001b[0m             \u001b[0mkeys\u001b[0m\u001b[0;34m=\u001b[0m\u001b[0mby\u001b[0m\u001b[0;34m,\u001b[0m\u001b[0;34m\u001b[0m\u001b[0;34m\u001b[0m\u001b[0m\n",
      "\u001b[0;32m/usr/local/lib/python3.8/dist-packages/pandas/core/groupby/groupby.py\u001b[0m in \u001b[0;36m__init__\u001b[0;34m(self, obj, keys, axis, level, grouper, exclusions, selection, as_index, sort, group_keys, squeeze, observed, mutated)\u001b[0m\n\u001b[1;32m    379\u001b[0m \u001b[0;34m\u001b[0m\u001b[0m\n\u001b[1;32m    380\u001b[0m         \u001b[0;32massert\u001b[0m \u001b[0misinstance\u001b[0m\u001b[0;34m(\u001b[0m\u001b[0mobj\u001b[0m\u001b[0;34m,\u001b[0m \u001b[0mNDFrame\u001b[0m\u001b[0;34m)\u001b[0m\u001b[0;34m,\u001b[0m \u001b[0mtype\u001b[0m\u001b[0;34m(\u001b[0m\u001b[0mobj\u001b[0m\u001b[0;34m)\u001b[0m\u001b[0;34m\u001b[0m\u001b[0;34m\u001b[0m\u001b[0m\n\u001b[0;32m--> 381\u001b[0;31m         \u001b[0mobj\u001b[0m\u001b[0;34m.\u001b[0m\u001b[0m_consolidate_inplace\u001b[0m\u001b[0;34m(\u001b[0m\u001b[0;34m)\u001b[0m\u001b[0;34m\u001b[0m\u001b[0;34m\u001b[0m\u001b[0m\n\u001b[0m\u001b[1;32m    382\u001b[0m \u001b[0;34m\u001b[0m\u001b[0m\n\u001b[1;32m    383\u001b[0m         \u001b[0mself\u001b[0m\u001b[0;34m.\u001b[0m\u001b[0mlevel\u001b[0m \u001b[0;34m=\u001b[0m \u001b[0mlevel\u001b[0m\u001b[0;34m\u001b[0m\u001b[0;34m\u001b[0m\u001b[0m\n",
      "\u001b[0;32m/usr/local/lib/python3.8/dist-packages/pandas/core/generic.py\u001b[0m in \u001b[0;36m_consolidate_inplace\u001b[0;34m(self)\u001b[0m\n\u001b[1;32m   5345\u001b[0m             \u001b[0mself\u001b[0m\u001b[0;34m.\u001b[0m\u001b[0m_data\u001b[0m \u001b[0;34m=\u001b[0m \u001b[0mself\u001b[0m\u001b[0;34m.\u001b[0m\u001b[0m_data\u001b[0m\u001b[0;34m.\u001b[0m\u001b[0mconsolidate\u001b[0m\u001b[0;34m(\u001b[0m\u001b[0;34m)\u001b[0m\u001b[0;34m\u001b[0m\u001b[0;34m\u001b[0m\u001b[0m\n\u001b[1;32m   5346\u001b[0m \u001b[0;34m\u001b[0m\u001b[0m\n\u001b[0;32m-> 5347\u001b[0;31m         \u001b[0mself\u001b[0m\u001b[0;34m.\u001b[0m\u001b[0m_protect_consolidate\u001b[0m\u001b[0;34m(\u001b[0m\u001b[0mf\u001b[0m\u001b[0;34m)\u001b[0m\u001b[0;34m\u001b[0m\u001b[0;34m\u001b[0m\u001b[0m\n\u001b[0m\u001b[1;32m   5348\u001b[0m \u001b[0;34m\u001b[0m\u001b[0m\n\u001b[1;32m   5349\u001b[0m     \u001b[0;32mdef\u001b[0m \u001b[0m_consolidate\u001b[0m\u001b[0;34m(\u001b[0m\u001b[0mself\u001b[0m\u001b[0;34m,\u001b[0m \u001b[0minplace\u001b[0m\u001b[0;34m:\u001b[0m \u001b[0mbool_t\u001b[0m \u001b[0;34m=\u001b[0m \u001b[0;32mFalse\u001b[0m\u001b[0;34m)\u001b[0m\u001b[0;34m:\u001b[0m\u001b[0;34m\u001b[0m\u001b[0;34m\u001b[0m\u001b[0m\n",
      "\u001b[0;32m/usr/local/lib/python3.8/dist-packages/pandas/core/generic.py\u001b[0m in \u001b[0;36m_protect_consolidate\u001b[0;34m(self, f)\u001b[0m\n\u001b[1;32m   5333\u001b[0m         \u001b[0mcache\u001b[0m\u001b[0;34m\u001b[0m\u001b[0;34m\u001b[0m\u001b[0m\n\u001b[1;32m   5334\u001b[0m         \"\"\"\n\u001b[0;32m-> 5335\u001b[0;31m         \u001b[0mblocks_before\u001b[0m \u001b[0;34m=\u001b[0m \u001b[0mlen\u001b[0m\u001b[0;34m(\u001b[0m\u001b[0mself\u001b[0m\u001b[0;34m.\u001b[0m\u001b[0m_data\u001b[0m\u001b[0;34m.\u001b[0m\u001b[0mblocks\u001b[0m\u001b[0;34m)\u001b[0m\u001b[0;34m\u001b[0m\u001b[0;34m\u001b[0m\u001b[0m\n\u001b[0m\u001b[1;32m   5336\u001b[0m         \u001b[0mresult\u001b[0m \u001b[0;34m=\u001b[0m \u001b[0mf\u001b[0m\u001b[0;34m(\u001b[0m\u001b[0;34m)\u001b[0m\u001b[0;34m\u001b[0m\u001b[0;34m\u001b[0m\u001b[0m\n\u001b[1;32m   5337\u001b[0m         \u001b[0;32mif\u001b[0m \u001b[0mlen\u001b[0m\u001b[0;34m(\u001b[0m\u001b[0mself\u001b[0m\u001b[0;34m.\u001b[0m\u001b[0m_data\u001b[0m\u001b[0;34m.\u001b[0m\u001b[0mblocks\u001b[0m\u001b[0;34m)\u001b[0m \u001b[0;34m!=\u001b[0m \u001b[0mblocks_before\u001b[0m\u001b[0;34m:\u001b[0m\u001b[0;34m\u001b[0m\u001b[0;34m\u001b[0m\u001b[0m\n",
      "\u001b[0;32m/usr/local/lib/python3.8/dist-packages/pandas/core/generic.py\u001b[0m in \u001b[0;36m__getattr__\u001b[0;34m(self, name)\u001b[0m\n\u001b[1;32m   5268\u001b[0m             \u001b[0;32mor\u001b[0m \u001b[0mname\u001b[0m \u001b[0;32min\u001b[0m \u001b[0mself\u001b[0m\u001b[0;34m.\u001b[0m\u001b[0m_accessors\u001b[0m\u001b[0;34m\u001b[0m\u001b[0;34m\u001b[0m\u001b[0m\n\u001b[1;32m   5269\u001b[0m         ):\n\u001b[0;32m-> 5270\u001b[0;31m             \u001b[0;32mreturn\u001b[0m \u001b[0mobject\u001b[0m\u001b[0;34m.\u001b[0m\u001b[0m__getattribute__\u001b[0m\u001b[0;34m(\u001b[0m\u001b[0mself\u001b[0m\u001b[0;34m,\u001b[0m \u001b[0mname\u001b[0m\u001b[0;34m)\u001b[0m\u001b[0;34m\u001b[0m\u001b[0;34m\u001b[0m\u001b[0m\n\u001b[0m\u001b[1;32m   5271\u001b[0m         \u001b[0;32melse\u001b[0m\u001b[0;34m:\u001b[0m\u001b[0;34m\u001b[0m\u001b[0;34m\u001b[0m\u001b[0m\n\u001b[1;32m   5272\u001b[0m             \u001b[0;32mif\u001b[0m \u001b[0mself\u001b[0m\u001b[0;34m.\u001b[0m\u001b[0m_info_axis\u001b[0m\u001b[0;34m.\u001b[0m\u001b[0m_can_hold_identifiers_and_holds_name\u001b[0m\u001b[0;34m(\u001b[0m\u001b[0mname\u001b[0m\u001b[0;34m)\u001b[0m\u001b[0;34m:\u001b[0m\u001b[0;34m\u001b[0m\u001b[0;34m\u001b[0m\u001b[0m\n",
      "\u001b[0;31mAttributeError\u001b[0m: 'DataFrame' object has no attribute '_data'"
     ]
    }
   ],
   "source": [
    "frl_df = block_api.get_data(frl=True, frl_key=\"tk12\")"
   ]
  },
  {
   "cell_type": "code",
   "execution_count": null,
   "metadata": {},
   "outputs": [],
   "source": []
  },
  {
   "cell_type": "markdown",
   "metadata": {},
   "source": [
    "We load the data with an arbitrary classifier, and get an instance of the ClassifierDataApi class to access the data:"
   ]
  },
  {
   "cell_type": "code",
   "execution_count": null,
   "metadata": {},
   "outputs": [],
   "source": [
    "load_data = pc.andClassifier([\"nFRL\"])\n",
    "cda = ClassifierDataApi()"
   ]
  },
  {
   "cell_type": "markdown",
   "metadata": {},
   "source": [
    "# Focal Neighborhood Proxies"
   ]
  },
  {
   "cell_type": "markdown",
   "metadata": {},
   "source": [
    "So far we have developed classifiers to label each block as either focal or non-focal. Ignoring block groups due to anonimization issues, we always considered only the single-block features for this classification task. In this notebook I introduce the idea of adding a condition that in order to be focal a block must be in a \"focal neighborhood.\" Benefits of doing this are:\n",
    "\n",
    "1. Some blocks might contain focal students as noted in the dataset, but those students may be receiving much better infrastructure (transportation, access to good pre-K schools) than other focal students.\n",
    "2. The tiebreaker will be more robust and interpretable if the focal blocks are not as scattered. The neighborhood criterion could aid reducing scattering.\n",
    "\n",
    "Namely, we started this approach due to concerns with the focal status of FRL-receiving students in the Northwest of San Francisco. We would like to attribute some weight to the fact that those students live in a higher-developed neighborhood than students living in the Southeast of the city. We can see in the map below that many blocks in the Northwest have a high rate of FRL-receiving students."
   ]
  },
  {
   "cell_type": "code",
   "execution_count": null,
   "metadata": {},
   "outputs": [],
   "source": [
    "map_df_raw = cda.get_map_df_data(cols=[\"n\", \"nFocal\", \"nFRL\", \"nAALPI\", \"nBoth\"])\n",
    "map_df_data = add_percent_columns(map_df_raw)\n",
    "\n",
    "fig, Axes = plt.subplots(figsize=(60,60), ncols=2, nrows=2)\n",
    "axFRL = map_df_data.plot(column=\"pctFRL\", ax=Axes[0,0], cmap=\"YlOrRd\",\n",
    "                         legend=False, legend_kwds={'orientation': \"horizontal\"},\n",
    "                         missing_kwds={'color': 'lightgrey'})\n",
    "Axes[0,0].set_title(\"FRL (%)\", fontsize=50)\n",
    "axFRL = map_df_data.plot(column=\"pctAALPI\", ax=Axes[0,1], cmap=\"YlOrRd\",\n",
    "                         legend=False, legend_kwds={'orientation': \"horizontal\"},\n",
    "                         missing_kwds={'color': 'lightgrey'})\n",
    "Axes[0,1].set_title(\"AALPI (%)\", fontsize=50)\n",
    "axBoth = map_df_data.plot(column=\"pctBoth\", ax=Axes[1,0], cmap=\"YlOrRd\",\n",
    "                         legend=False, legend_kwds={'orientation': \"horizontal\"},\n",
    "                         missing_kwds={'color': 'lightgrey'})\n",
    "Axes[1,0].set_title(\"Intersection (%)\", fontsize=50)\n",
    "axFocal = map_df_data.plot(column=\"pctFocal\", ax=Axes[1,1], cmap=\"YlOrRd\",\n",
    "                         legend=False, legend_kwds={'orientation': \"horizontal\"},\n",
    "                         missing_kwds={'color': 'lightgrey'})\n",
    "Axes[1,1].set_title(\"Focal (%)\", fontsize=50)"
   ]
  },
  {
   "cell_type": "markdown",
   "metadata": {},
   "source": [
    "The main idea is to incorporate the neighborhood condition (N_COND) into the propositional classifier. This way N_COND will either evaluate to True or False for each block. Blocks in the same neighborhood will have the same value of N_COND. Probably it will be better to incorporate (to adhere to goals 1 and 2) this condition in conjunction to an existing tiebreaker (PROP). That is, a block receives a tiebreaker if the following expression is true:\n",
    "\n",
    "$$ \\text{PROP} \\quad\\text{and}\\quad \\text{N_COND}$$\n",
    "\n",
    "Meaning that the block must satisfy simultaneously the (1) block-level criteria and (2) the neighborhood condition. An example of this classifier would be, assuming we could measure a neighborhood median income directly, to give a tiebreaker to blocks satisfying:\n",
    "\n",
    "$$ (\\text{pctAALPI }\\geq 0.5\\quad\\text{or}\\quad \\text{pctFRL } \\geq 0.6)\\quad\\text{and}\\quad \\text{NbhdMedianInc} \\leq 50,000 $$"
   ]
  },
  {
   "cell_type": "markdown",
   "metadata": {},
   "source": [
    "The definition of neighborhood we will probably use is the BlockGroup. BlockGroups can be visualized in the following map. Note that trimming the Block Group id (10 digits by default) leads to a coarser neighborhood partition:"
   ]
  },
  {
   "cell_type": "code",
   "execution_count": null,
   "metadata": {},
   "outputs": [],
   "source": [
    "map_df_bg = cda.get_map_df_data(cols=[\"BlockGroup\"])\n",
    "fig, Axes = plt.subplots(figsize=(40,40), nrows=2, ncols=2)\n",
    "\n",
    "k=8\n",
    "for ax in Axes.flatten():\n",
    "    new_map_df = map_df_bg.copy()\n",
    "    new_map_df[\"BlockGroup\"] = new_map_df[\"BlockGroup\"].astype(str).str.slice(stop=k)\n",
    "    new_map_df[\"RankGroup\"] = new_map_df[\"BlockGroup\"].rank(method=\"dense\")\n",
    "    ax = new_map_df.plot(column=\"RankGroup\", ax=ax, cmap=\"flag\",\n",
    "                        legend=False, missing_kwds={'color': 'lightgrey'})\n",
    "    ax.set_title(\"Block Groups until digit \" + str(k-1), fontsize=50)\n",
    "    k += 1"
   ]
  },
  {
   "cell_type": "markdown",
   "metadata": {},
   "source": [
    "As we can see there is no difference between taking 7 or 8 digits. The coarsity of 8 digits seems to be ideal for a first trial. The abstract block classifier can be set to take any digits as parameter upon initialization (default is 8):"
   ]
  },
  {
   "cell_type": "code",
   "execution_count": null,
   "metadata": {},
   "outputs": [],
   "source": [
    "c1 = pc.andClassifier([\"pctFocal\"], len_BG=8)"
   ]
  },
  {
   "cell_type": "markdown",
   "metadata": {},
   "source": [
    "## 1. FRL and AALPI based Proxies:"
   ]
  },
  {
   "cell_type": "markdown",
   "metadata": {},
   "source": [
    "The first time around, I will build proxies only taking into account the focal student data provided by the district. This will enforce that a tiebreaker-receiving block is not completely detached from its neighborhood judging by the same criteria."
   ]
  },
  {
   "cell_type": "code",
   "execution_count": null,
   "metadata": {},
   "outputs": [],
   "source": [
    "c1 = pc.andClassifier([\"pctFocal\"],len_BG=7)\n",
    "c2 = pc.andClassifier([\"BG_pctFocal\"], len_BG=7)"
   ]
  },
  {
   "cell_type": "markdown",
   "metadata": {},
   "source": [
    "For example, if we were to give the tiebreaker only to blockgroups where the percentage of focal students is above a certain threshold, we would obtain the following ROC curve (and compare it to the curve obtained from only considering the individual percentage):"
   ]
  },
  {
   "cell_type": "code",
   "execution_count": null,
   "metadata": {},
   "outputs": [],
   "source": [
    "fig, ax = plt.subplots(figsize=(20, 20))\n",
    "\n",
    "ax.plot([0, 1], [0, 1], linestyle='--', label='No Skill')\n",
    "param_arr = [x/10 for x in range(11)]\n",
    "\n",
    "for col in [\"pctFocal\", \"BG_pctFocal\"]:\n",
    "    classifier = pc.andClassifier([col])\n",
    "    df = classifier.get_roc(param_arr)\n",
    "    data_fpr = df[\"fpr\"].values\n",
    "    data_tpr = df[\"tpr\"].values\n",
    "    ax.plot(data_fpr, data_tpr, linestyle='solid', label=col)\n",
    "\n",
    "ax.legend(loc=\"lower right\")\n",
    "plt.legend(fontsize=25)\n",
    "\n",
    "ax.set_xlabel('False Positive Rate', fontsize=20)\n",
    "ax.set_ylabel('True Positive Rate', fontsize=20)\n",
    "ax.set_title(\"ROC curve for naive classification based on a single feature\", fontsize=30)\n",
    "\n",
    "plt.show()"
   ]
  },
  {
   "cell_type": "markdown",
   "metadata": {},
   "source": [
    "For a few values of the threshold we can view the differences in the solution:"
   ]
  },
  {
   "cell_type": "code",
   "execution_count": null,
   "metadata": {},
   "outputs": [],
   "source": [
    "fig, Axes = plt.subplots(figsize=(40,60), nrows=3, ncols=2)\n",
    "\n",
    "for alpha, i in zip([0.25, 0.5, 0.75], [0, 1, 2]):\n",
    "    j=0\n",
    "    for classifier in [c1, c2]:\n",
    "        map_df = classifier.get_tiebreakermap(alpha)\n",
    "        Axes[i, j] = map_df.plot(column=\"tiebreaker\", ax=Axes[i,j], cmap=\"viridis\",\n",
    "                                 legend=False, missing_kwds={'color': 'lightgrey'})\n",
    "        plt.axis('off')\n",
    "        j += 1\n",
    "\n",
    "cols = [\"Block Level Focal (%)\", \"Group Level Focal (%)\"]\n",
    "rows = [\"> 25%\", \"> 50%\", \"> 75%\"]\n",
    "for ax, col in zip(Axes[0], cols):\n",
    "    ax.set_title(col, fontsize=80)\n",
    "for ax, row in zip(Axes[:,0], rows):\n",
    "    ax.set_ylabel(row, rotation=90, fontsize=60)\n",
    "fig.tight_layout()\n",
    "plt.show()"
   ]
  },
  {
   "cell_type": "code",
   "execution_count": null,
   "metadata": {},
   "outputs": [],
   "source": [
    "c1.data"
   ]
  },
  {
   "cell_type": "markdown",
   "metadata": {},
   "source": [
    "## 2. Neighborhood Socioeconomic Score (Henry's index) based Proxies:"
   ]
  },
  {
   "cell_type": "code",
   "execution_count": null,
   "metadata": {},
   "outputs": [],
   "source": []
  }
 ],
 "metadata": {
  "kernelspec": {
   "display_name": "Python 3",
   "language": "python",
   "name": "python3"
  },
  "language_info": {
   "codemirror_mode": {
    "name": "ipython",
    "version": 3
   },
   "file_extension": ".py",
   "mimetype": "text/x-python",
   "name": "python",
   "nbconvert_exporter": "python",
   "pygments_lexer": "ipython3",
   "version": "3.8.8"
  }
 },
 "nbformat": 4,
 "nbformat_minor": 4
}
