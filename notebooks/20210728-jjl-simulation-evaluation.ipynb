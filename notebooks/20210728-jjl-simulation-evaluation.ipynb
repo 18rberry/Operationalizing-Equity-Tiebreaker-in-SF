{
 "cells": [
  {
   "cell_type": "code",
   "execution_count": null,
   "metadata": {},
   "outputs": [],
   "source": [
    "import pandas as pd\n",
    "import numpy as np\n",
    "from IPython.core.display import display, HTML\n",
    "import os\n",
    "import sys\n",
    "sys.path.append('../')"
   ]
  },
  {
   "cell_type": "markdown",
   "metadata": {},
   "source": [
    "# THIS NOTEBOOK IS DEPRECATED"
   ]
  },
  {
   "cell_type": "markdown",
   "metadata": {},
   "source": [
    "# Load Student Data"
   ]
  },
  {
   "cell_type": "code",
   "execution_count": null,
   "metadata": {},
   "outputs": [],
   "source": [
    "from src.d01_data.student_data_api import StudentDataApi\n",
    "\n",
    "def isFocal(row):\n",
    "    return (row['FRL'] + row['AALPI']) > 1\n",
    "\n",
    "student_data_file = \"/share/data/school_choice_equity/simulator_data/student/drop_optout_{}.csv\"\n",
    "period = \"1819\"\n",
    "student_df = pd.read_csv(student_data_file.format(period)).set_index('studentno')\n",
    "# mask = student_df['grade'] == 'KG'\n",
    "# student_df = student_df.loc[mask]\n",
    "student_df['focal'] = student_df.apply(lambda row: isFocal(row), axis=1).astype('int64')\n",
    "\n",
    "student_df.head()"
   ]
  },
  {
   "cell_type": "markdown",
   "metadata": {},
   "source": [
    "# Load Assignment Results"
   ]
  },
  {
   "cell_type": "code",
   "execution_count": null,
   "metadata": {},
   "outputs": [],
   "source": [
    "diversity_category_col = 'Diversity_Category3'  # diversity category column\n",
    "program_cutoff = 'program_cutoff'  # program cutoff column (in points)\n",
    "cutoff_tiebreaker = 'cutoff_tiebreaker'  # the cutoff tiebreaker of the program to which the student was assigned\n",
    "focal_block = 'focal_block'  # if students gets equity tiebreaker\n",
    "tiebreaker_status = 'status'  # if student counts as TP, TN, FP or FN\n",
    "\n",
    "def get_specific_program_cutoff(x, diversity_category):\n",
    "    if isinstance(x, float):\n",
    "        return x\n",
    "    x_list = x[1:-1].split()\n",
    "    return float(x_list[diversity_category])\n",
    "\n",
    "def check_tiebreaker(row):\n",
    "    if diversity_category_col in row.index:\n",
    "        diversity_category = row[diversity_category_col]\n",
    "        cut_off = get_specific_program_cutoff(row[program_cutoff], diversity_category)\n",
    "    else:\n",
    "        cut_off = row[program_cutoff]\n",
    "        \n",
    "    if cut_off > 4:\n",
    "        return \"sibiling\"\n",
    "    elif cut_off > 3:\n",
    "        return \"equity+zone\"\n",
    "    elif cut_off > 2 :\n",
    "        return \"equity\"\n",
    "    elif cut_off > 1:\n",
    "        return \"zone\"\n",
    "    elif cut_off > 0:\n",
    "        return \"lottery\"\n",
    "    else:\n",
    "        return \"none\"\n",
    "    \n",
    "def q1(x):\n",
    "    return np.quantile(x, .25)\n",
    "def q2(x):\n",
    "    return np.quantile(x, .5)\n",
    "def q3(x):\n",
    "    return np.quantile(x, .75)\n",
    "\n",
    "def augment_assigment(assignment_df, equity_tiebreaker):\n",
    "    if equity_tiebreaker == 'none':\n",
    "        student_df[equity_tiebreaker] = 0.\n",
    "    elif equity_tiebreaker == 'test':\n",
    "        student_df[equity_tiebreaker] = student_df['ctip1']\n",
    "    assignment_df[cutoff_tiebreaker] = assignment_df.apply(lambda row: check_tiebreaker(row), axis=1, raw=False)\n",
    "    assignment_df[focal_block] = student_df[equity_tiebreaker].reindex(assignment_df.index)\n",
    "    assignment_df['focal'] = student_df['focal'].reindex(assignment_df.index)\n",
    "    get_student_tiebreaker_status(assignment_df)\n",
    "    \n",
    "def get_student_tiebreaker_status(df):\n",
    "    mask_focal = df['focal'] == 1\n",
    "    mask_focal_block = df[focal_block] == 1\n",
    "    df[tiebreaker_status] = \"TN\"\n",
    "    df.at[mask_focal & mask_focal_block, tiebreaker_status] = \"TP\"\n",
    "    df.at[~mask_focal & mask_focal_block, tiebreaker_status] = \"FP\"\n",
    "    df.at[mask_focal & ~mask_focal_block, tiebreaker_status] = \"FN\"\n",
    "   "
   ]
  },
  {
   "cell_type": "code",
   "execution_count": null,
   "metadata": {},
   "outputs": [],
   "source": [
    "assignments_dir = \"/share/data/school_choice_equity/local_runs/Assignments/\"\n",
    "# assignments_dir = \"/share/data/school_choice_equity/temp/Assignments/\"\n",
    "\n",
    "def get_filename_template(policy, guard_rails):\n",
    "    if policy == \"Con1\":\n",
    "        if guard_rails == 0:\n",
    "            return \"Assignment_{}_CTIP1_round_merged123_policyCon1GuardRails0-RealPref_tiesSTB_prefExtend0_iteration{}.csv\"\n",
    "        else:\n",
    "            return \"Assignment_{}_CTIP1_round_merged123_policyCon1-RealPref_tiesSTB_prefExtend0_iteration{}.csv\"\n",
    "    elif policy == \"Medium1\":\n",
    "        if guard_rails == 0:\n",
    "            return \"Assignment_{}_CTIP1_round_merged123_policyMedium1GuardRails0-RealPref_tiesSTB_prefExtend0_iteration{}.csv\"\n",
    "        else:\n",
    "            return \"Assignment_{}_CTIP1_round_merged123_policyMedium1-RealPref_tiesSTB_prefExtend0_iteration{}.csv\"\n",
    "    \n",
    "\n",
    "equity_tiebreaker_list = ['ctip1', 'knapsack008', 'pc1002_050', 'naive004']\n",
    "num_iterations = 20\n",
    "policy = \"Medium1\"\n",
    "guard_rails = 0\n",
    "filename_template = get_filename_template(policy, guard_rails)"
   ]
  },
  {
   "cell_type": "markdown",
   "metadata": {},
   "source": [
    "# Assignment Summary\n",
    "\n",
    "Get sum summary statistics by grouping by Diversity Category, Focal and Cutoff Tiebreaker (Program Cutoff). The summary statistics are counts, mean, min, Q1, Q2 (median), Q3 and max."
   ]
  },
  {
   "cell_type": "code",
   "execution_count": null,
   "metadata": {},
   "outputs": [],
   "source": [
    "def get_summary_iteration(assignment_df, equity_tiebreaker):\n",
    "    augment_assigment(assignment_df, equity_tiebreaker)\n",
    "    evaluation_columns = [diversity_category_col, 'rank', 'designation', 'In-Zone Rank', \n",
    "    # evaluation_columns = ['rank', 'designation', 'In-Zone Rank', \n",
    "                          cutoff_tiebreaker, equity_tiebreaker, 'focal', 'iteration']\n",
    "\n",
    "    group_columns = [diversity_category_col, 'focal']\n",
    "    \n",
    "    rank_funs = ['count','mean', 'min', q1, q2, q3, 'max']\n",
    "    \n",
    "    return assignment_df[evaluation_columns].groupby(group_columns).agg({'rank': rank_funs,\n",
    "                                                                         equity_tiebreaker: 'mean'})"
   ]
  },
  {
   "cell_type": "code",
   "execution_count": null,
   "metadata": {},
   "outputs": [],
   "source": [
    "assignment_dict = dict()\n",
    "summary_dict = dict()\n",
    "for equity_tiebreaker in equity_tiebreaker_list:\n",
    "    summary_df = []\n",
    "    for iteration in range(num_iterations):\n",
    "        filename = filename_template.format(equity_tiebreaker, iteration)\n",
    "        assignment_df = pd.read_csv(assignments_dir+filename).set_index('studentno')\n",
    "        assignment_df['iteration'] = iteration\n",
    "        summary_df += [get_summary_iteration(assignment_df, equity_tiebreaker)]\n",
    "\n",
    "    group_columns = [diversity_category_col, 'focal', 'tiebreaker']\n",
    "    summary_df = pd.concat(summary_df, axis=0)\n",
    "    \n",
    "    summary_dict[equity_tiebreaker] = summary_df"
   ]
  },
  {
   "cell_type": "code",
   "execution_count": null,
   "metadata": {},
   "outputs": [],
   "source": [
    "display(HTML(\"<h3>Results grouped by focal</h3>\" ))\n",
    "for equity_tiebreaker in equity_tiebreaker_list:\n",
    "    summary_df = summary_dict[equity_tiebreaker]\n",
    "    display(HTML(\"<h4>Tiebreaker: %s</h4>\" % equity_tiebreaker))\n",
    "    display(summary_df)"
   ]
  },
  {
   "cell_type": "markdown",
   "metadata": {},
   "source": [
    "# Individual Rank Data"
   ]
  },
  {
   "cell_type": "code",
   "execution_count": null,
   "metadata": {},
   "outputs": [],
   "source": [
    "def get_rank_iteration(assignment_df, equity_tiebreaker):\n",
    "    augment_assigment(assignment_df, equity_tiebreaker)\n",
    "    assignment_df['iteration'] = iteration\n",
    "    assignment_df['method'] = equity_tiebreaker\n",
    "    \n",
    "    return assignment_df[['iteration', diversity_category_col, 'focal', 'cutoff_tiebreaker', 'rank', 'method', focal_block, tiebreaker_status]]\n",
    "    # return assignment_df[['iteration', 'focal', 'tiebreaker', 'rank', 'method']]\n",
    "    "
   ]
  },
  {
   "cell_type": "code",
   "execution_count": null,
   "metadata": {},
   "outputs": [],
   "source": [
    "rank_results_df = []\n",
    "for equity_tiebreaker in equity_tiebreaker_list:\n",
    "    for iteration in range(num_iterations):\n",
    "        filename = filename_template.format(equity_tiebreaker, iteration)\n",
    "        # filename = filename_template.format(iteration)\n",
    "        assignment_df = pd.read_csv(assignments_dir+filename).set_index('studentno')\n",
    "        # assignment_df = pd.read_csv(\"~/local-runs/Assignments/Assignment_CTIP1_round_merged123_policyCon1-noRestrict-LengthByEthn_tiesSTB_prefExtend0_iteration0.csv\").set_index('studentno')\n",
    "        rank_results_df += [get_rank_iteration(assignment_df, equity_tiebreaker).reset_index()]\n",
    "\n",
    "rank_results_df = pd.concat(rank_results_df, axis=0)\n",
    "rank_results_df.head()"
   ]
  },
  {
   "cell_type": "code",
   "execution_count": null,
   "metadata": {},
   "outputs": [],
   "source": [
    "from src.d00_utils.utils import get_group_value\n",
    "\n",
    "def get_improvement_over_none(df, equity_tiebreaker_list):\n",
    "    df = df.groupby(['method', 'studentno']).agg({'rank':'mean', tiebreaker_status: get_group_value})\n",
    "    df_none = df.loc['none']\n",
    "    df['change'] = np.nan\n",
    "    for equity_tiebreaker in equity_tiebreaker_list:\n",
    "        if equity_tiebreaker == 'none':\n",
    "            pass\n",
    "        df.loc[equity_tiebreaker, 'change'] = (df.loc[equity_tiebreaker]['rank'] - df_none['rank']).values\n",
    "    return df.reset_index()\n",
    "\n",
    "def get_improvement_tp(df, equity_tiebreaker_list):\n",
    "    df = df.groupby(['method', 'studentno']).agg({'rank':'mean', tiebreaker_status: get_group_value})\n",
    "    df_none = df.loc['none']\n",
    "    new_rows = []\n",
    "    for equity_tiebreaker in equity_tiebreaker_list:\n",
    "        if equity_tiebreaker == 'none':\n",
    "            pass\n",
    "        df_eqtb = df.loc[equity_tiebreaker]\n",
    "        mask = df_eqtb[tiebreaker_status] == \"TP\"\n",
    "        method_rows = df_eqtb.loc[mask, ['rank']].copy()\n",
    "        method_rows['method'] = equity_tiebreaker\n",
    "        method_rows['label'] = \"with tiebreaker\"\n",
    "        none_rows = df_none.loc[method_rows.index, ['rank']].copy()\n",
    "        none_rows['method'] = equity_tiebreaker\n",
    "        none_rows['label'] = \"without tiebreaker\"\n",
    "        \n",
    "        new_rows += [method_rows.reset_index()] + [none_rows.reset_index()]\n",
    "    return pd.concat(new_rows, axis=0)\n",
    "        "
   ]
  },
  {
   "cell_type": "code",
   "execution_count": null,
   "metadata": {},
   "outputs": [],
   "source": [
    "import seaborn as sns\n",
    "import matplotlib.pyplot as plt\n",
    "sns.set_theme(style=\"ticks\", palette=\"pastel\")\n",
    "\n",
    "# for equity_tiebreaker in equity_tiebreaker_list:\n",
    "    # display(HTML(\"<h3>Tiebreaker: %s</h3>\" % equity_tiebreaker))\n",
    "    # mask = rank_results_df['method'] == equity_tiebreaker\n",
    "df_change = get_improvement_over_none(rank_results_df, equity_tiebreaker_list)\n",
    "fig, ax = plt.subplots(figsize=(6.8,5.2))\n",
    "sns.boxplot(ax=ax, x=\"method\", y=\"change\",\n",
    "            hue=tiebreaker_status,\n",
    "            data=df_change,\n",
    "            showfliers = False)\n",
    "sns.despine(offset=10, trim=False)\n",
    "plt.legend(bbox_to_anchor=(.95, 1), loc=2, borderaxespad=0., title='Status')\n",
    "plt.savefig('outputs/boxplot_simulations_change.png')\n",
    "plt.show()\n",
    "\n",
    "display(df_change.groupby(['method', tiebreaker_status])['change'].agg(['mean', 'median', 'count', 'std']))"
   ]
  },
  {
   "cell_type": "code",
   "execution_count": null,
   "metadata": {},
   "outputs": [],
   "source": [
    "sns.set_theme(style=\"ticks\", palette=\"pastel\")\n",
    "\n",
    "# for equity_tiebreaker in equity_tiebreaker_list:\n",
    "    # display(HTML(\"<h3>Tiebreaker: %s</h3>\" % equity_tiebreaker))\n",
    "    # mask = rank_results_df['method'] == equity_tiebreaker\n",
    "df_tp = get_improvement_tp(rank_results_df, equity_tiebreaker_list)\n",
    "fig, ax = plt.subplots(figsize=(6.8,5.2))\n",
    "sns.boxplot(ax=ax, x=\"method\", y=\"rank\",\n",
    "            hue=\"label\",\n",
    "            data=df_tp,\n",
    "            showfliers = False)\n",
    "sns.despine(offset=10, trim=False)\n",
    "plt.legend(bbox_to_anchor=(.95, 1), loc=2, borderaxespad=0., title='Status')\n",
    "plt.savefig('outputs/boxplot_simulations_tp.png')\n",
    "plt.show()\n",
    "\n",
    "display(df_tp.groupby(['method', 'label'])['rank'].agg(['mean', 'median', 'count', 'std']))"
   ]
  },
  {
   "cell_type": "code",
   "execution_count": null,
   "metadata": {},
   "outputs": [],
   "source": [
    "# ax = sns.histplot(x=\"rank\", hue=\"focal\", palette=[\"m\", \"g\"],\n",
    "#                   data=rank_results_df.groupby(['method', 'focal', 'studentno']).mean().loc['none'].reset_index())"
   ]
  },
  {
   "cell_type": "code",
   "execution_count": null,
   "metadata": {},
   "outputs": [],
   "source": [
    "x_axis = tiebreaker_status\n",
    "hue = \"method\"\n",
    "\n",
    "ax = sns.histplot(x=x_axis, hue=hue, data=rank_results_df, multiple=\"dodge\", shrink=.8, stat=\"probability\", common_norm=False)\n",
    "plt.savefig('outputs/tiebreaker_distribution_prob.png')\n",
    "plt.show()\n",
    "\n",
    "ax = sns.histplot(x=x_axis, hue=hue, data=rank_results_df, multiple=\"dodge\", shrink=.8, common_norm=False)\n",
    "plt.savefig('outputs/tiebreaker_distribution_count.png')\n",
    "plt.show()"
   ]
  },
  {
   "cell_type": "code",
   "execution_count": null,
   "metadata": {},
   "outputs": [],
   "source": [
    "x_axis = \"cutoff_tiebreaker\"\n",
    "hue = \"focal\"\n",
    "\n",
    "for equity_tiebreaker in equity_tiebreaker_list:\n",
    "    mask = rank_results_df['method'] == equity_tiebreaker\n",
    "    display(HTML(\"<h3>Tiebreaker: %s</h3>\" % equity_tiebreaker))\n",
    "    ax = sns.histplot(x=x_axis, hue=hue, data=rank_results_df.loc[mask], multiple=\"dodge\", shrink=.8, stat=\"probability\", common_norm=False)\n",
    "    plt.savefig('outputs/tiebreaker_distribution_%s.png' % equity_tiebreaker)\n",
    "    plt.show()"
   ]
  },
  {
   "cell_type": "markdown",
   "metadata": {},
   "source": [
    "# Regression Analysis"
   ]
  },
  {
   "cell_type": "code",
   "execution_count": null,
   "metadata": {},
   "outputs": [],
   "source": [
    "import statsmodels.api as sm\n",
    "\n",
    "for equity_tiebreaker in equity_tiebreaker_list:\n",
    "    mask = rank_results_df['method'] == equity_tiebreaker\n",
    "    df = rank_results_df.loc[mask]\n",
    "    df = pd.concat([df, pd.get_dummies(df[tiebreaker_status])], axis=1).groupby('studentno').mean()\n",
    "    df = df.groupby('studentno').mean()\n",
    "    # print(df)\n",
    "    y = df['rank'].copy()\n",
    "    x = df.copy().drop(columns=['iteration','rank', focal_block, 'focal'])\n",
    "    # x = df[['focal']].copy()\n",
    "    # x['const'] = 1.\n",
    "    # corr = pd.DataFrame(x.corr(), columns=x.columns, index=x.columns)\n",
    "    # mask = np.zeros_like(corr)\n",
    "    # mask[np.triu_indices_from(mask)] = True\n",
    "    # with sns.axes_style(\"white\"):\n",
    "    #     f, ax = plt.subplots(figsize=(7, 5))\n",
    "    #     ax = sns.heatmap(corr, mask=mask, vmax=.3, square=True)\n",
    "    # plt.show()\n",
    "    model = sm.OLS(y,x)\n",
    "    results = model.fit()\n",
    "    display(HTML(\"<h3>Tiebreaker: %s</h3>\" % equity_tiebreaker))\n",
    "    display(results.summary())"
   ]
  },
  {
   "cell_type": "code",
   "execution_count": null,
   "metadata": {},
   "outputs": [],
   "source": [
    "def top3rank(x):\n",
    "    return np.nanmean(x <= 3)\n",
    "def countnan(x):\n",
    "    return np.isnan(x).sum()\n",
    "\n",
    "top3rank_pct = rank_results_df.groupby(['method', 'focal', 'iteration']).agg({'rank': top3rank})\n",
    "top3rank_pct.groupby(['method', 'focal']).agg(['mean', 'std'])"
   ]
  },
  {
   "cell_type": "markdown",
   "metadata": {},
   "source": [
    "# Save Assigment Summary"
   ]
  },
  {
   "cell_type": "code",
   "execution_count": null,
   "metadata": {},
   "outputs": [],
   "source": [
    "summary_df = summary_dict[equity_tiebreaker]\n",
    "with pd.ExcelWriter(\"outputs/%s.xlsx\" % equity_tiebreaker) as writer:  \n",
    "    summary_df.to_excel(writer, sheet_name='raw')\n",
    "    summary_df.groupby(group_columns).mean().to_excel(writer,\n",
    "                                                      sheet_name='mean')\n",
    "    summary_df.groupby(group_columns).std().to_excel(writer,\n",
    "                                                      sheet_name='std')"
   ]
  }
 ],
 "metadata": {
  "kernelspec": {
   "display_name": "dssg-env",
   "language": "python",
   "name": "dssg-env"
  },
  "language_info": {
   "codemirror_mode": {
    "name": "ipython",
    "version": 3
   },
   "file_extension": ".py",
   "mimetype": "text/x-python",
   "name": "python",
   "nbconvert_exporter": "python",
   "pygments_lexer": "ipython3",
   "version": "3.8.8"
  }
 },
 "nbformat": 4,
 "nbformat_minor": 4
}
