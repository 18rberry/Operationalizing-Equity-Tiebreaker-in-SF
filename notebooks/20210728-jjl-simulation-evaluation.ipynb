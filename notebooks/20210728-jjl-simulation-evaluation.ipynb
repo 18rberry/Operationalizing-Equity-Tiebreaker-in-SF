{
 "cells": [
  {
   "cell_type": "code",
   "execution_count": null,
   "metadata": {},
   "outputs": [],
   "source": [
    "import pandas as pd\n",
    "import numpy as np\n",
    "import os\n",
    "import sys\n",
    "sys.path.append('../')"
   ]
  },
  {
   "cell_type": "markdown",
   "metadata": {},
   "source": [
    "# Load Student Data"
   ]
  },
  {
   "cell_type": "code",
   "execution_count": null,
   "metadata": {},
   "outputs": [],
   "source": [
    "from src.d01_data.student_data_api import StudentDataApi\n",
    "\n",
    "student_data_file = \"/share/data/school_choice_equity/simulator_data/student/drop_optout_{}.csv\"\n",
    "period = \"1819\"\n",
    "student_df = pd.read_csv(student_data_file.format(period)).set_index('studentno')\n",
    "mask = student_df['grade'] == 'KG'\n",
    "student_df = student_df.loc[mask]\n",
    "\n",
    "student_df.head()"
   ]
  },
  {
   "cell_type": "markdown",
   "metadata": {},
   "source": [
    "# Load Assignment Results"
   ]
  },
  {
   "cell_type": "code",
   "execution_count": null,
   "metadata": {},
   "outputs": [],
   "source": [
    "equity_tiebreaker = 'ctip1'\n",
    "diversity_category_col = 'Diversity_Category3'\n",
    "program_cutoff = 'program_cutoff'\n",
    "\n",
    "def get_specific_program_cutoff(x, diversity_category):\n",
    "    x_list = x[1:-1].split()\n",
    "    return float(x_list[diversity_category])\n",
    "\n",
    "def check_tiebreaker(row):\n",
    "    diversity_category = row[diversity_category_col]\n",
    "    cut_off = get_specific_program_cutoff(row[program_cutoff], diversity_category)\n",
    "    if cut_off > 4:\n",
    "        return \"sibiling\"\n",
    "    elif cut_off > 2 :\n",
    "        return \"equity\"\n",
    "    elif cut_off > 1:\n",
    "        return \"zone\"\n",
    "    else:\n",
    "        return \"lottery\"\n"
   ]
  },
  {
   "cell_type": "code",
   "execution_count": null,
   "metadata": {},
   "outputs": [],
   "source": [
    "assignments_dir = \"/share/data/school_choice_equity/local_runs/Assignments/\"\n",
    "filename_template = \"Assignment_{}_CTIP1_round_merged123_policyMedium1-GuardRails0-prefLength07_tiesSTB_prefExtend0_iteration{}.csv\"\n",
    "\n",
    "iteration = 0\n",
    "filename = filename_template.format(equity_tiebreaker, iteration)\n",
    "assignment_df = pd.read_csv(assignments_dir+trial+filename).set_index('studentno')\n",
    "\n",
    "    \n",
    "assignment_df['tiebreaker'] = assignment_df.apply(lambda row: check_tiebreaker(row), axis=1, raw=False)\n",
    "assignment_df[equity_tiebreaker] = student_df[equity_tiebreaker].reindex(assignment_df.index)\n",
    "assignment_df['focal'] = student_df['focal'].reindex(assignment_df.index)\n",
    "assignment_df.head()"
   ]
  },
  {
   "cell_type": "code",
   "execution_count": null,
   "metadata": {},
   "outputs": [],
   "source": [
    "evaluation_columns = [diversity_category_col, 'rank', 'designation', 'In-Zone Rank', 'tiebreaker', equity_tiebreaker, 'focal']\n",
    "def q1(x):\n",
    "    return np.quantile(x, .25)\n",
    "def q2(x):\n",
    "    return np.quantile(x, .5)\n",
    "def q3(x):\n",
    "    return np.quantile(x, .75)\n",
    "    \n",
    "\n",
    "assignment_df[evaluation_columns].groupby([diversity_category_col, 'focal', 'tiebreaker']).agg({'rank':['count','mean', 'min', q1, q2, q3, 'max'],\n",
    "                                                                                            equity_tiebreaker: 'mean'})"
   ]
  },
  {
   "cell_type": "code",
   "execution_count": null,
   "metadata": {},
   "outputs": [],
   "source": []
  }
 ],
 "metadata": {
  "kernelspec": {
   "display_name": "dssg-env",
   "language": "python",
   "name": "dssg-env"
  },
  "language_info": {
   "codemirror_mode": {
    "name": "ipython",
    "version": 3
   },
   "file_extension": ".py",
   "mimetype": "text/x-python",
   "name": "python",
   "nbconvert_exporter": "python",
   "pygments_lexer": "ipython3",
   "version": "3.8.8"
  }
 },
 "nbformat": 4,
 "nbformat_minor": 4
}
