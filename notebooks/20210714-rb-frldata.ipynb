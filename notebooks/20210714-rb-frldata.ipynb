{
 "cells": [
  {
   "cell_type": "code",
   "execution_count": null,
   "metadata": {},
   "outputs": [],
   "source": [
    "import pandas as pd\n",
    "import numpy as np\n",
    "import matplotlib.pyplot as plt\n",
    "import seaborn as sns"
   ]
  },
  {
   "cell_type": "code",
   "execution_count": null,
   "metadata": {},
   "outputs": [],
   "source": [
    "updated_FRL = pd.read_excel(\"/share/data/school_choice/dssg/riyab_FRL_data.xlsx\", None, engine='openpyxl')"
   ]
  },
  {
   "cell_type": "code",
   "execution_count": null,
   "metadata": {},
   "outputs": [],
   "source": [
    "grouped_Geoid = updated_FRL[\"Grouped GeoID External\"]\n",
    "grouped_Geoid.tail(10)"
   ]
  },
  {
   "cell_type": "code",
   "execution_count": null,
   "metadata": {},
   "outputs": [],
   "source": [
    "#filtering out blocks with less than 5 students for now (GEOID group is not the GEOID)\n",
    "grouped_Geoid_filtered = grouped_Geoid[grouped_Geoid[\"Geoid Group\"].astype('str').str.len() > 3]\n",
    "grouped_Geoid_filtered"
   ]
  },
  {
   "cell_type": "code",
   "execution_count": null,
   "metadata": {},
   "outputs": [],
   "source": [
    "df = pd.read_csv(\"~/displacement-typologies/data/outputs/typologies/SanFrancisco_typology_output.csv\", sep=\",\")\n",
    "df[\"GEOID\"]"
   ]
  },
  {
   "cell_type": "code",
   "execution_count": null,
   "metadata": {},
   "outputs": [],
   "source": [
    "grouped_Geoid_filtered[\"Geoid Group\"]"
   ]
  },
  {
   "cell_type": "markdown",
   "metadata": {},
   "source": [
    "Getting the first 10 digits of the GEOID group to access the [Census Tract id](https://www.census.gov/programs-surveys/geography/guidance/geo-identifiers.html). This allows us to merge the FRL data Henry shared with us with the block database. "
   ]
  },
  {
   "cell_type": "code",
   "execution_count": null,
   "metadata": {},
   "outputs": [],
   "source": [
    "grouped_Geoid_filtered[\"New Geoid\"] = grouped_Geoid_filtered[\"Geoid Group\"].astype(str).str[:10].astype(int)"
   ]
  },
  {
   "cell_type": "code",
   "execution_count": null,
   "metadata": {},
   "outputs": [],
   "source": [
    "grouped_Geoid_filtered"
   ]
  },
  {
   "cell_type": "code",
   "execution_count": null,
   "metadata": {},
   "outputs": [],
   "source": [
    "grouped_Geoid_filtered.dtypes"
   ]
  },
  {
   "cell_type": "code",
   "execution_count": null,
   "metadata": {},
   "outputs": [],
   "source": [
    "grouped_Geoid_filtered = grouped_Geoid_filtered.merge(df, left_on = \"New Geoid\", right_on = \"GEOID\")"
   ]
  },
  {
   "cell_type": "code",
   "execution_count": null,
   "metadata": {},
   "outputs": [],
   "source": [
    "grouped_Geoid_new = grouped_Geoid_filtered[[\"GEOID\", \"4YR AVG Student Count\", \"4YR AVG FRL Count\", \"4YR AVG Eth Flag Count\", \"4YR AVG Combo Flag Count\",\n",
    "                                            \"OD\", \"ARG\", \"EOG\", \"AdvG\", \"SMMI\", \"ARE\", \"BE\", \"SAE\"]]\n",
    "grouped_Geoid_new"
   ]
  },
  {
   "cell_type": "code",
   "execution_count": null,
   "metadata": {},
   "outputs": [],
   "source": [
    "grouped_Geoid_new = grouped_Geoid_new.drop_duplicates()"
   ]
  },
  {
   "cell_type": "code",
   "execution_count": null,
   "metadata": {},
   "outputs": [],
   "source": [
    "grouped_Geoid_new.head(20)"
   ]
  },
  {
   "cell_type": "code",
   "execution_count": null,
   "metadata": {},
   "outputs": [],
   "source": [
    "grouped_Geoid_new = grouped_Geoid_new.dropna(axis=0, how='all')\n",
    "grouped_Geoid_new = grouped_Geoid_new.dropna(axis=1, how='all')"
   ]
  },
  {
   "cell_type": "code",
   "execution_count": null,
   "metadata": {},
   "outputs": [],
   "source": [
    "grouped_Geoid_new = grouped_Geoid_new.groupby(\"GEOID\").sum()\n",
    "grouped_Geoid_new"
   ]
  },
  {
   "cell_type": "code",
   "execution_count": null,
   "metadata": {},
   "outputs": [],
   "source": [
    "grouped_Geoid_new\n",
    "#write a script to create a new \"gentrification column\""
   ]
  },
  {
   "cell_type": "markdown",
   "metadata": {},
   "source": [
    "Wrote a script through run through each of the gentrification columns, and find the categorical value for each row - which will then be added to the `gentrification_values` list"
   ]
  },
  {
   "cell_type": "code",
   "execution_count": null,
   "metadata": {},
   "outputs": [],
   "source": [
    "gentrification_cols = [\"OD\", \"ARG\", \"EOG\", \"AdvG\", \"SMMI\", \"ARE\", \"BE\", \"SAE\"]\n",
    "gentrification_values = []\n",
    "\n",
    "for i in grouped_Geoid_new.index: \n",
    "    new_value = None\n",
    "    for col in gentrification_cols: \n",
    "        if grouped_Geoid_new.loc[i, col] != 0.0: \n",
    "            new_value = col\n",
    "    gentrification_values.append(new_value)\n",
    "len(grouped_Geoid_new)"
   ]
  },
  {
   "cell_type": "code",
   "execution_count": null,
   "metadata": {},
   "outputs": [],
   "source": [
    "len(gentrification_values)"
   ]
  },
  {
   "cell_type": "markdown",
   "metadata": {},
   "source": [
    "Filter out rows that have \"None\" in their gentrification column"
   ]
  },
  {
   "cell_type": "code",
   "execution_count": null,
   "metadata": {},
   "outputs": [],
   "source": [
    "grouped_Geoid_new[\"Gentrification\"] = gentrification_values\n",
    "grouped_Geoid_new.head(30)\n",
    "grouped_Geoid_gent = grouped_Geoid_new[grouped_Geoid_new[\"Gentrification\"].notnull()]\n",
    "grouped_Geoid_gent.head(10)"
   ]
  },
  {
   "cell_type": "code",
   "execution_count": null,
   "metadata": {},
   "outputs": [],
   "source": [
    "grouped_Geoid_gent.plot()"
   ]
  },
  {
   "cell_type": "code",
   "execution_count": null,
   "metadata": {},
   "outputs": [],
   "source": [
    "grouped_Geoid_gent = grouped_Geoid_gent[[\"4YR AVG Student Count\", \"4YR AVG FRL Count\", \"4YR AVG Eth Flag Count\", \"4YR AVG Combo Flag Count\", \"Gentrification\"]]\n",
    "grouped_Geoid_gent.head(10)"
   ]
  },
  {
   "cell_type": "code",
   "execution_count": null,
   "metadata": {},
   "outputs": [],
   "source": [
    "gentrification_agg = grouped_Geoid_gent.groupby(\"Gentrification\").mean()\n",
    "gentrification_agg_new = gentrification_agg.drop(\"4YR AVG Student Count\", axis = 1)\n",
    "gentrification_agg_new.loc[gentrification_cols].plot.bar()"
   ]
  },
  {
   "cell_type": "markdown",
   "metadata": {},
   "source": [
    "This grouped bar chart illustrates the distribution of various 4YR demographic counts in terms of gentrification typology. "
   ]
  },
  {
   "cell_type": "code",
   "execution_count": null,
   "metadata": {},
   "outputs": [],
   "source": [
    "gentrification_agg"
   ]
  },
  {
   "cell_type": "code",
   "execution_count": null,
   "metadata": {},
   "outputs": [],
   "source": [
    "labels = [\"Student\", \"FRL\", \"AALPI\", \"Combo\"]\n",
    "plt.bar(gentrification_cols, gentrification_agg[\"4YR AVG Student Count\"])\n",
    "plt.bar(gentrification_cols, gentrification_agg[\"4YR AVG FRL Count\"])\n",
    "plt.bar(gentrification_cols, gentrification_agg[\"4YR AVG Eth Flag Count\"])\n",
    "plt.bar(gentrification_cols, gentrification_agg[\"4YR AVG Combo Flag Count\"])\n",
    "plt.legend(labels)"
   ]
  },
  {
   "cell_type": "markdown",
   "metadata": {},
   "source": [
    "This is a stacked barchart illustrating the counts of each demographic group in blocks compared to the block's gentrification status. We can see the breakdown of demographic factors within each gentrification status. "
   ]
  },
  {
   "cell_type": "code",
   "execution_count": null,
   "metadata": {},
   "outputs": [],
   "source": [
    "gentrification_agg_new = gentrification_agg_new.reindex(gentrification_cols)\n",
    "gentrification_agg_new"
   ]
  },
  {
   "cell_type": "code",
   "execution_count": null,
   "metadata": {},
   "outputs": [],
   "source": [
    "x_axis_labels = [\"FRL\", \"AALPI\", \"Combo\"]\n",
    "sns.heatmap(gentrification_agg_new, xticklabels = x_axis_labels)"
   ]
  },
  {
   "cell_type": "markdown",
   "metadata": {},
   "source": [
    "This chart shows us that OD, EOG, and AdvG hold the highest proportion of focal students (want to target those communities). We can see also that on the lower end of the y_axis, or higher on the gentrification spectrum, there are less focal students."
   ]
  },
  {
   "cell_type": "code",
   "execution_count": null,
   "metadata": {},
   "outputs": [],
   "source": [
    "grouped_Geoid_new.loc[1, \"ARE\"]"
   ]
  },
  {
   "cell_type": "code",
   "execution_count": null,
   "metadata": {},
   "outputs": [],
   "source": []
  },
  {
   "cell_type": "code",
   "execution_count": null,
   "metadata": {},
   "outputs": [],
   "source": []
  },
  {
   "cell_type": "code",
   "execution_count": null,
   "metadata": {},
   "outputs": [],
   "source": []
  },
  {
   "cell_type": "code",
   "execution_count": null,
   "metadata": {},
   "outputs": [],
   "source": [
    "#heatmap of FRL/AALPI vs CTIP assignments would also be interesting \n",
    "block_df_dict = pd.read_excel(\"/share/data/school_choice/Data/SF 2010 blks 022119 with field descriptions (1).xlsx\", None, engine='openpyxl')"
   ]
  },
  {
   "cell_type": "code",
   "execution_count": null,
   "metadata": {},
   "outputs": [],
   "source": [
    "block_database = block_df_dict[\"block database\"]\n",
    "block_database = block_database.dropna(axis=0, how='all')\n",
    "block_database = block_database.dropna(axis=1, how='all')\n",
    "block_database[\"CTIP_2013 assignment\"]"
   ]
  },
  {
   "cell_type": "code",
   "execution_count": null,
   "metadata": {},
   "outputs": [],
   "source": [
    "ctip_vs_demo = block_database.merge(grouped_Geoid_filtered, left_on = \"Tract\", right_on = \"GEOID\")\n",
    "ctip_vs_demo"
   ]
  },
  {
   "cell_type": "code",
   "execution_count": null,
   "metadata": {},
   "outputs": [],
   "source": [
    "ctip_vs_demo = ctip_vs_demo[[\"GEOID\", \"CTIP_2013 assignment\", \"OD\", \"ARG\", \"EOG\", \"AdvG\", \"SMMI\", \"ARE\", \"BE\", \"SAE\"]]\n",
    "ctip_vs_demo"
   ]
  },
  {
   "cell_type": "code",
   "execution_count": null,
   "metadata": {},
   "outputs": [],
   "source": [
    "ctip_vs_demo"
   ]
  },
  {
   "cell_type": "code",
   "execution_count": null,
   "metadata": {},
   "outputs": [],
   "source": []
  },
  {
   "cell_type": "code",
   "execution_count": null,
   "metadata": {},
   "outputs": [],
   "source": []
  }
 ],
 "metadata": {
  "kernelspec": {
   "display_name": "Python 3",
   "language": "python",
   "name": "python3"
  },
  "language_info": {
   "codemirror_mode": {
    "name": "ipython",
    "version": 3
   },
   "file_extension": ".py",
   "mimetype": "text/x-python",
   "name": "python",
   "nbconvert_exporter": "python",
   "pygments_lexer": "ipython3",
   "version": "3.8.8"
  }
 },
 "nbformat": 4,
 "nbformat_minor": 4
}
