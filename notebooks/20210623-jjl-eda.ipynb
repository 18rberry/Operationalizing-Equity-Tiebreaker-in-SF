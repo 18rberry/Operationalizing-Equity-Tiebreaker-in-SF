{
 "cells": [
  {
   "cell_type": "code",
   "execution_count": null,
   "metadata": {},
   "outputs": [],
   "source": [
    "import pandas as pd\n",
    "import numpy as np\n",
    "\n",
    "import sys\n",
    "sys.path.append('../')\n",
    "\n",
    "from src.d01_data.student_data_api import StudentDataApi, _census_block_column\n",
    "from src.d01_data.block_data_api import BlockDataApi\n",
    "from src.d01_data.abstract_data_api import AbstractDataApi"
   ]
  },
  {
   "cell_type": "markdown",
   "metadata": {},
   "source": [
    "# Using the student data to observe block diversity features over time"
   ]
  },
  {
   "cell_type": "code",
   "execution_count": null,
   "metadata": {},
   "outputs": [],
   "source": [
    "periods_list = [\"1415\", \"1516\", \"1617\", \"1718\", \"1819\", \"1920\"]\n",
    "student_data_api = StudentDataApi()\n",
    "\n",
    "df_block = student_data_api.get_data_by_block(periods_list=periods_list)"
   ]
  },
  {
   "cell_type": "markdown",
   "metadata": {},
   "source": [
    "The first thing we wanted to observe is how the CTIP1 varied across time. CPIP1 is the \"geo proxy\" currently used by SFUSD to identify and prioritize students from underserved communities. Below we check the percentage of census blocks with nonzero CTIP1 for each year of available student data and how this CTIP1 is distributed."
   ]
  },
  {
   "cell_type": "code",
   "execution_count": null,
   "metadata": {},
   "outputs": [],
   "source": [
    "mask = df_block['ctip1'] > 0\n",
    "\n",
    "df_block['positive_ctip1'] = 0\n",
    "df_block.at[mask, 'positive_ctip1'] = 1\n",
    "\n",
    "df_block.groupby('year').agg({'positive_ctip1': ['mean']})"
   ]
  },
  {
   "cell_type": "code",
   "execution_count": null,
   "metadata": {},
   "outputs": [],
   "source": [
    "def q25(x):\n",
    "    return x.quantile(0.25)\n",
    "def q50(x):\n",
    "    return x.quantile(0.5)\n",
    "def q75(x):\n",
    "    return x.quantile(0.75)\n",
    "\n",
    "agg_funs = ['count', 'mean', 'std', 'min', q25, q50, q75, 'max']\n",
    "df_block.loc[mask].groupby('year').agg({'ctip1': agg_funs})"
   ]
  },
  {
   "cell_type": "markdown",
   "metadata": {},
   "source": [
    "What can I observe?\n",
    "\n",
    "We can also aggregate by the census blockgroup."
   ]
  },
  {
   "cell_type": "code",
   "execution_count": null,
   "metadata": {},
   "outputs": [],
   "source": [
    "agg_funs = ['count', 'mean', 'std', 'min', 'max']\n",
    "block_agg = df_block.loc[mask].groupby(_census_block_column).agg({'ctip1': agg_funs})\n",
    "\n",
    "block_agg.sort_values(('ctip1', 'count'))"
   ]
  },
  {
   "cell_type": "markdown",
   "metadata": {},
   "source": [
    "What can I observe?\n",
    "\n",
    "We can also sample some blockgroups and see some data aggregated by block. I should note that the diversity features are defined by block, so there is not really any aggregation."
   ]
  },
  {
   "cell_type": "code",
   "execution_count": null,
   "metadata": {},
   "outputs": [],
   "source": [
    "blockgroup_index = df_block.index.get_level_values(_census_block_column).unique()\n",
    "\n",
    "np.random.seed(101)\n",
    "blockgroup_ids = np.random.choice(blockgroup_index, size=5)\n",
    "\n",
    "df_block.loc[(blockgroup_ids, slice(None)), ['count', 'ctip1']]"
   ]
  },
  {
   "cell_type": "code",
   "execution_count": null,
   "metadata": {},
   "outputs": [],
   "source": [
    "df_student = student_data_api.get_data(periods_list=periods_list)\n",
    "print(df_student.columns)\n",
    "df_student = df_student.set_index(['census_block', 'year', 'studentno']).sort_index()"
   ]
  },
  {
   "cell_type": "code",
   "execution_count": null,
   "metadata": {},
   "outputs": [],
   "source": [
    "from src.d01_data.student_data_api import _block_features\n",
    "df_student.loc['60750476001007'][['grade', 'ctip1']].groupby(['grade','year']).mean()"
   ]
  },
  {
   "cell_type": "code",
   "execution_count": null,
   "metadata": {},
   "outputs": [],
   "source": [
    "studentno = 98412005\n",
    "\n",
    "df_student.loc[(slice(None), slice(None), studentno), ['grade'] + _block_features]"
   ]
  }
 ],
 "metadata": {
  "kernelspec": {
   "display_name": "dssg-env",
   "language": "python",
   "name": "dssg-env"
  },
  "language_info": {
   "codemirror_mode": {
    "name": "ipython",
    "version": 3
   },
   "file_extension": ".py",
   "mimetype": "text/x-python",
   "name": "python",
   "nbconvert_exporter": "python",
   "pygments_lexer": "ipython3",
   "version": "3.8.8"
  }
 },
 "nbformat": 4,
 "nbformat_minor": 4
}
