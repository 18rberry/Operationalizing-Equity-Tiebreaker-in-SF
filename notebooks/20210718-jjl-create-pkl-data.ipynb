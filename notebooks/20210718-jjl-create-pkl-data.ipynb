{
 "cells": [
  {
   "cell_type": "code",
   "execution_count": null,
   "metadata": {},
   "outputs": [],
   "source": [
    "import pandas as pd\n",
    "\n",
    "_raw_file_path = \"/share/data/school_choice/\"\n",
    "_block_sfha_file_path = \"Census Blocks w SFHA Flag.xlsx\"\n",
    "_block_demographic_file_path = \"Data/SF 2010 blks 022119 with field descriptions (1).xlsx\"\n",
    "_block_frl_file_path = \"dssg/juan_FRL_data.xlsx\"\n",
    "\n",
    "block_sfha_df = pd.read_excel(_raw_file_path + _block_sfha_file_path, sheet_name=None, engine=\"openpyxl\")\n",
    "block_demo_df = pd.read_excel(_raw_file_path + _block_demographic_file_path, sheet_name=None, engine=\"openpyxl\")\n",
    "block_frl_df = pd.read_excel(_raw_file_path + _block_frl_file_path, sheet_name=None, engine=\"openpyxl\")"
   ]
  },
  {
   "cell_type": "code",
   "execution_count": null,
   "metadata": {},
   "outputs": [],
   "source": [
    "def dict2pickles(data_dict, fname):\n",
    "    keys = [key for key in data_dict.keys()]\n",
    "    print(keys[0])\n",
    "    data_dict[keys[0]].to_pickle(_raw_file_path + 'dssg/' + fname + '_fields.pkl')\n",
    "    data_dict[keys[1]].to_pickle(_raw_file_path + 'dssg/' + fname + '_data.pkl')\n",
    "    \n",
    "dict2pickles(block_sfha_df, 'block_sfha')"
   ]
  },
  {
   "cell_type": "code",
   "execution_count": null,
   "metadata": {},
   "outputs": [],
   "source": [
    "dict2pickles(block_demo_df, 'block_demo')"
   ]
  },
  {
   "cell_type": "code",
   "execution_count": null,
   "metadata": {},
   "outputs": [],
   "source": [
    "dict2pickles(block_frl_df, 'block_frl')"
   ]
  },
  {
   "cell_type": "code",
   "execution_count": null,
   "metadata": {},
   "outputs": [],
   "source": [
    "_block_sfha_file_path = \"dssg/block_sfha.pkl\"\n",
    "_block_demographic_file_path = \"dssg/block_demo.pkl\"\n",
    "_block_frl_file_path = \"dssg/block_frl.pkl\""
   ]
  },
  {
   "cell_type": "code",
   "execution_count": null,
   "metadata": {},
   "outputs": [],
   "source": []
  },
  {
   "cell_type": "code",
   "execution_count": null,
   "metadata": {},
   "outputs": [],
   "source": [
    "# for old code\n",
    "\n",
    "import sys\n",
    "from time import time\n",
    "sys.path.append('../')\n",
    "\n",
    "from src.d01_data.block_data_api import BlockDataApi\n",
    "\n",
    "obj = BlockDataApi()\n",
    "e = time()\n",
    "print(\"Importing sfha...\", end=\"\")\n",
    "obj.load_data(sfha=True)\n",
    "print(time()-e)\n",
    "e = time()\n",
    "print(\"Importing frl...\", end=\"\")\n",
    "obj.load_data(frl=True, user=\"juan\")\n",
    "print(time()-e)\n",
    "e = time()\n",
    "print(\"Importing demo...\", end=\"\")\n",
    "obj.load_data()\n",
    "print(time()-e)\n"
   ]
  },
  {
   "cell_type": "code",
   "execution_count": null,
   "metadata": {},
   "outputs": [],
   "source": [
    "# for new code\n",
    "\n",
    "import sys\n",
    "from time import time\n",
    "sys.path.append('../')\n",
    "\n",
    "from src.d01_data.block_data_api import BlockDataApi\n",
    "\n",
    "obj = BlockDataApi()\n",
    "e = time()\n",
    "print(\"Importing sfha...\", end=\"\")\n",
    "obj.load_data(sfha=True)\n",
    "print(time()-e)\n",
    "e = time()\n",
    "print(\"Importing frl...\", end=\"\")\n",
    "obj.load_data(frl=True)\n",
    "print(time()-e)\n",
    "e = time()\n",
    "print(\"Importing demo...\", end=\"\")\n",
    "obj.load_data()\n",
    "print(time()-e)"
   ]
  }
 ],
 "metadata": {
  "kernelspec": {
   "display_name": "dssg-env",
   "language": "python",
   "name": "dssg-env"
  },
  "language_info": {
   "codemirror_mode": {
    "name": "ipython",
    "version": 3
   },
   "file_extension": ".py",
   "mimetype": "text/x-python",
   "name": "python",
   "nbconvert_exporter": "python",
   "pygments_lexer": "ipython3",
   "version": "3.8.8"
  }
 },
 "nbformat": 4,
 "nbformat_minor": 4
}
