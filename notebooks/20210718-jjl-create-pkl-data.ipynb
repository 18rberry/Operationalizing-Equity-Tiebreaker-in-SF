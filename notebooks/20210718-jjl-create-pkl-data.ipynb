{
 "cells": [
  {
   "cell_type": "code",
   "execution_count": null,
   "metadata": {},
   "outputs": [],
   "source": [
    "import pandas as pd\n",
    "import sys\n",
    "from time import time\n",
    "sys.path.append('../')"
   ]
  },
  {
   "cell_type": "code",
   "execution_count": null,
   "metadata": {},
   "outputs": [],
   "source": [
    "_raw_file_path = \"/share/data/school_choice/\"\n",
    "_block_sfha_file_path = \"Census Blocks w SFHA Flag.xlsx\"\n",
    "_block_demographic_file_path = \"Data/SF 2010 blks 022119 with field descriptions (1).xlsx\"\n",
    "_block_frl_file_path = \"dssg/juan_FRL_data.xlsx\"\n",
    "\n",
    "# block_sfha_df = pd.read_excel(_raw_file_path + _block_sfha_file_path, sheet_name=None, engine=\"openpyxl\")\n",
    "# block_demo_df = pd.read_excel(_raw_file_path + _block_demographic_file_path, sheet_name=None, engine=\"openpyxl\")\n",
    "block_frl_tk12_df = pd.read_excel(_raw_file_path + _block_frl_file_path, sheet_name=None, engine=\"openpyxl\")"
   ]
  },
  {
   "cell_type": "code",
   "execution_count": null,
   "metadata": {},
   "outputs": [],
   "source": [
    "_block_frl_file_path_tk5 = \"/share/data/school_choice_equity/raw_data/4YR Avg Block Tiebreaker Revised TK5 7.20.21 (JAM).xlsx\"\n",
    "block_frl_tk5_df = pd.read_excel(_block_frl_file_path_tk5, sheet_name=None, engine=\"openpyxl\")"
   ]
  },
  {
   "cell_type": "code",
   "execution_count": null,
   "metadata": {},
   "outputs": [],
   "source": [
    "'AA' in ['AALPI']"
   ]
  },
  {
   "cell_type": "code",
   "execution_count": null,
   "metadata": {},
   "outputs": [],
   "source": [
    "from src.d01_data.block_data_api import BlockDataApi, _aalpi_col\n",
    "\n",
    "bda = BlockDataApi()\n",
    "bda.load_data()\n",
    "block_data = bda.get_data()\n",
    "bda.load_data(frl=True)\n",
    "bda.add_aa2frl()\n",
    "frl_data = bda.get_data(frl=True)\n",
    "# mask = block_data.columns.str.fullmatch(r'2017 [K|\\d]-\\d{1,2} Black')\n",
    "frl_data"
   ]
  },
  {
   "cell_type": "code",
   "execution_count": null,
   "metadata": {},
   "outputs": [],
   "source": [
    "frl_data['nAA'].sum()"
   ]
  },
  {
   "cell_type": "code",
   "execution_count": null,
   "metadata": {},
   "outputs": [],
   "source": [
    "new_raw_file_path = \"/share/data/school_choice_equity/data/\"\n",
    "def dict2pickles(data_dict, fname):\n",
    "    keys = [key for key in data_dict.keys()]\n",
    "    print(keys[0])\n",
    "    data_dict[keys[0]].to_pickle(new_raw_file_path + fname + '_fields.pkl')\n",
    "    data_dict[keys[1]].to_pickle(new_raw_file_path + fname + '_data.pkl')"
   ]
  },
  {
   "cell_type": "code",
   "execution_count": null,
   "metadata": {},
   "outputs": [],
   "source": [
    "dict2pickles(block_sfha_df, 'block_sfha')"
   ]
  },
  {
   "cell_type": "code",
   "execution_count": null,
   "metadata": {},
   "outputs": [],
   "source": [
    "dict2pickles(block_demo_df, 'block_demo')"
   ]
  },
  {
   "cell_type": "code",
   "execution_count": null,
   "metadata": {},
   "outputs": [],
   "source": [
    "dict2pickles(block_frl_tk12_df, 'block_frl_tk12')\n",
    "dict2pickles(block_frl_tk5_df, 'block_frl_tk5')"
   ]
  },
  {
   "cell_type": "code",
   "execution_count": null,
   "metadata": {},
   "outputs": [],
   "source": [
    "_block_sfha_file_path = \"../school_choice_equity/data/"
   ]
  },
  {
   "cell_type": "code",
   "execution_count": null,
   "metadata": {},
   "outputs": [],
   "source": []
  },
  {
   "cell_type": "code",
   "execution_count": null,
   "metadata": {},
   "outputs": [],
   "source": [
    "# for new code\n",
    "import pandas as pd\n",
    "import sys\n",
    "from time import time\n",
    "sys.path.append('../')\n",
    "\n",
    "from src.d01_data.block_data_api import BlockDataApi\n",
    "\n",
    "obj = BlockDataApi()\n",
    "e = time()\n",
    "print(\"Importing sfha...\", end=\"\")\n",
    "obj.load_data(sfha=True)\n",
    "print(time()-e)\n",
    "e = time()\n",
    "print(\"Importing frl...\", end=\"\")\n",
    "obj.load_data(frl=True)\n",
    "print(time()-e)\n",
    "e = time()\n",
    "print(\"Importing demo...\", end=\"\")\n",
    "obj.load_data()\n",
    "print(time()-e)"
   ]
  }
 ],
 "metadata": {
  "kernelspec": {
   "display_name": "Python 3 (ipykernel)",
   "language": "python",
   "name": "python3"
  },
  "language_info": {
   "codemirror_mode": {
    "name": "ipython",
    "version": 3
   },
   "file_extension": ".py",
   "mimetype": "text/x-python",
   "name": "python",
   "nbconvert_exporter": "python",
   "pygments_lexer": "ipython3",
   "version": "3.8.8"
  }
 },
 "nbformat": 4,
 "nbformat_minor": 4
}
