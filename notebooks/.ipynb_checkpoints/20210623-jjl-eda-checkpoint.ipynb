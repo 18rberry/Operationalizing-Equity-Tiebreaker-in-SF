{
 "cells": [
  {
   "cell_type": "code",
   "execution_count": 1,
   "metadata": {},
   "outputs": [],
   "source": [
    "import pandas as pd\n",
    "import numpy as np\n",
    "from utils import ETL\n",
    "\n",
    "etl = ETL()"
   ]
  },
  {
   "cell_type": "code",
   "execution_count": 5,
   "metadata": {},
   "outputs": [],
   "source": [
    "file_name = \"out_SFUSD20191220_1_1_demographics2014plus_resolved_ethnic.csv\"\n",
    "file_name = \"out_SFUSD20191220_1_1_sfusd_applicant_demographics.csv\"\n",
    "file_name = \"Data/Student Location Data/out_SFUSD20191220_1_1_cbeds2018.dta\"\n",
    "file_name = \"Data/Student and family data/out_SFUSD20191220_1_1_demographics2013.dta\"\n",
    "\n",
    "df = etl.read_data(file_name, data=True)"
   ]
  },
  {
   "cell_type": "code",
   "execution_count": 7,
   "metadata": {},
   "outputs": [
    {
     "data": {
      "text/plain": [
       "studentno            S010045773\n",
       "longitude              -122.402\n",
       "latitude                37.7233\n",
       "schno                       439\n",
       "schname               Balboa HS\n",
       "schtype                      HS\n",
       "schgrp                      8HS\n",
       "k_5wtk                         \n",
       "charter                        \n",
       "cbedschnum                  439\n",
       "cbschtype                    HS\n",
       "n_total                       1\n",
       "acty                          A\n",
       "grade                        11\n",
       "streetno                   3054\n",
       "streetpfx                      \n",
       "street                San Bruno\n",
       "streetsfx                   Ave\n",
       "aptno                          \n",
       "zipcode                   94134\n",
       "cbeds_city        San Francisco\n",
       "gc_addr2      3054 SAN BRUNO AV\n",
       "gc_stnum                   3054\n",
       "gc_stname             SAN BRUNO\n",
       "gc_sttype                    AV\n",
       "gc_aptno                       \n",
       "gc_city           SAN FRANCISCO\n",
       "gc_zip                    94134\n",
       "Name: 0, dtype: object"
      ]
     },
     "execution_count": 7,
     "metadata": {},
     "output_type": "execute_result"
    }
   ],
   "source": [
    "df.iloc[0]"
   ]
  }
 ],
 "metadata": {
  "kernelspec": {
   "display_name": "Python 3",
   "language": "python",
   "name": "python3"
  },
  "language_info": {
   "codemirror_mode": {
    "name": "ipython",
    "version": 3
   },
   "file_extension": ".py",
   "mimetype": "text/x-python",
   "name": "python",
   "nbconvert_exporter": "python",
   "pygments_lexer": "ipython3",
   "version": "3.8.8"
  }
 },
 "nbformat": 4,
 "nbformat_minor": 4
}
