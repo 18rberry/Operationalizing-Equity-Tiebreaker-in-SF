{
 "cells": [
  {
   "cell_type": "code",
   "execution_count": null,
   "metadata": {},
   "outputs": [],
   "source": [
    "import pandas as pd\n",
    "import numpy as np\n",
    "\n",
    "import sys\n",
    "sys.path.append('../')\n",
    "\n",
    "from src.d01_data.student_data_api import StudentDataApi, _block_features, _census_block_column, \\\n",
    "_diversity_index_features, _studentno"
   ]
  },
  {
   "cell_type": "code",
   "execution_count": null,
   "metadata": {},
   "outputs": [],
   "source": [
    "periods_list = [\"1415\", \"1516\", \"1617\", \"1718\", \"1819\", \"1920\"]\n",
    "student_data_api = StudentDataApi()\n",
    "\n",
    "df_students = student_data_api.get_data(periods_list)\n",
    "mask = df_students[_census_block_column] == 'NaN'\n",
    "df_students.drop(df_students.index[mask], inplace=True)"
   ]
  },
  {
   "cell_type": "code",
   "execution_count": null,
   "metadata": {},
   "outputs": [],
   "source": [
    "diversity_index_col = 'Diversity Index'\n",
    "df_students[diversity_index_col] = df_students[_diversity_index_features].mean(axis=1)\n",
    "\n",
    "def get_value(x):\n",
    "    return x.iloc[0]\n",
    "\n",
    "block_prob = df_students.groupby(_census_block_column)[diversity_index_col].agg(get_value)\n",
    "block_prob = block_prob / block_prob.sum()"
   ]
  },
  {
   "cell_type": "code",
   "execution_count": null,
   "metadata": {},
   "outputs": [],
   "source": [
    "df_students = df_students[[_studentno, diversity_index_col, 'year', _census_block_column] + _block_features]\n",
    "df_students.head()"
   ]
  },
  {
   "cell_type": "markdown",
   "metadata": {},
   "source": [
    "Let's assume that there are two types of block $b$: (i) high probability of containing focal students and (ii) low probability of containing focal students. In particular, let's assume that if the `diversity_index` of the block is above the `focal_block_threshold`, then a student coming from that block has the probability `p` of being a focal student. If the block has a low probability of containing focal students, then a student coming from that block has a probability `1-p` of being a focal student."
   ]
  },
  {
   "cell_type": "code",
   "execution_count": null,
   "metadata": {},
   "outputs": [],
   "source": [
    "df_year = df_students[['year', _census_block_column, diversity_index_col]].copy()\n",
    "\n",
    "gamma = 2.5\n",
    "def prob_focal_given_block(diversity_index):\n",
    "    return np.power(diversity_index, gamma)\n",
    "    \n",
    "df_year['prob'] = df_students[diversity_index_col].apply(prob_focal_given_block)\n",
    "\n",
    "df_year = df_year.groupby(['year'])['prob'].agg(['sum', 'count'])\n",
    "df_year.columns = ['nFocalStudents', 'nTotalStudents']\n",
    "df_year['pctFocalStudents'] = df_year.apply(lambda row: row['nFocalStudents'] / row['nTotalStudents'], axis=1, raw=False)\n",
    "df_year"
   ]
  },
  {
   "cell_type": "code",
   "execution_count": null,
   "metadata": {},
   "outputs": [],
   "source": [
    "df_students['prob'] = df_students[diversity_index_col].apply(prob_focal_given_block)\n",
    "\n",
    "np.random.seed(20210704)\n",
    "\n",
    "df_students.loc[df_students.index, 'focal'] = np.random.binomial(1, p=df_students['prob'])\n",
    "\n",
    "df_students.groupby('year')['focal'].mean()"
   ]
  },
  {
   "cell_type": "code",
   "execution_count": null,
   "metadata": {},
   "outputs": [],
   "source": [
    "import matplotlib.pyplot as plt\n",
    "\n",
    "fig, ax = plt.subplots()\n",
    "\n",
    "num_bins = 10\n",
    "hist_data = df_students.groupby(['year', _census_block_column])['focal'].mean().loc[2020]\n",
    "weights = np.ones(hist_data.shape) / hist_data.count()\n",
    "n, bins, patches = ax.hist(hist_data, num_bins, weights=weights)\n",
    "\n",
    "ax.set_xlabel('Fraction of focal students in blockgroup')\n",
    "ax.set_ylabel('Percent of blockgroups')\n",
    "\n",
    "fig.tight_layout()\n",
    "plt.show()"
   ]
  },
  {
   "cell_type": "markdown",
   "metadata": {},
   "source": [
    "# Plotting distribution in map"
   ]
  },
  {
   "cell_type": "code",
   "execution_count": null,
   "metadata": {},
   "outputs": [],
   "source": [
    "import geopandas\n",
    "\n",
    "geodata_path = '/share/data/school_choice/dssg/census2010/'\n",
    "file_name = 'geo_export_e77bce0b-6556-4358-b36b-36cfcf826a3c'\n",
    "\n",
    "data_types = ['.shp', '.dbf', '.prj', '.shx']\n",
    "sfusd = geopandas.read_file(geodata_path + file_name + '.shp')"
   ]
  },
  {
   "cell_type": "code",
   "execution_count": null,
   "metadata": {},
   "outputs": [],
   "source": [
    "sfusd.columns"
   ]
  },
  {
   "cell_type": "code",
   "execution_count": null,
   "metadata": {},
   "outputs": [],
   "source": [
    "mask = sfusd['intptlon10'] < '-122.8'\n",
    "# get rid of water"
   ]
  },
  {
   "cell_type": "code",
   "execution_count": null,
   "metadata": {},
   "outputs": [],
   "source": [
    "sfusd.loc[mask].plot()\n",
    "plt.show()"
   ]
  }
 ],
 "metadata": {
  "kernelspec": {
   "display_name": "dssg-env",
   "language": "python",
   "name": "dssg-env"
  },
  "language_info": {
   "codemirror_mode": {
    "name": "ipython",
    "version": 3
   },
   "file_extension": ".py",
   "mimetype": "text/x-python",
   "name": "python",
   "nbconvert_exporter": "python",
   "pygments_lexer": "ipython3",
   "version": "3.8.8"
  }
 },
 "nbformat": 4,
 "nbformat_minor": 4
}
