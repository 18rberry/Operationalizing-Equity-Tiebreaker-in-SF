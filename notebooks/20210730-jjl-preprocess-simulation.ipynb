{
 "cells": [
  {
   "cell_type": "code",
   "execution_count": null,
   "metadata": {},
   "outputs": [],
   "source": [
    "import sys\n",
    "sys.path.append('../')"
   ]
  },
  {
   "cell_type": "markdown",
   "metadata": {},
   "source": [
    "# Generate Individual Focal Students\n",
    "\n",
    "The individual focal students for each block group are going to be generated at random. We are going to use the block groupes defined by SFUSD. The available data allows us to get rough estimates of the following probabilities for each block group:\n",
    "\n",
    "- Probability a student is AALPI: $P(AALPI)$\n",
    "- Probability a student is FRL: $P(FRL)$\n",
    "- Probability a student is both AALPI and FRL: $P(AALPI \\cap FRL)$\n",
    "- Probability a student is FRL conditional on him being AALPI: $$P(FRL \\mid AALPI) = \\frac{P(AALPI \\cap FRL)}{P(AALPI)}$$\n",
    "- Probability a student is FRL conditional on him not being AALPI: $$P(FRL \\mid \\overline{AALPI}) = \\frac{P(FRL)-P(AALPI \\cap FRL)}{1-P(AALPI)}$$\n",
    "\n",
    "Since some blocks have a small number of students we are going to use the mean of the posterior probability of a Bernoulli distribution with a uniform prior as probability estimates. Let $\\theta$ be the parameter of the Bernoulli disttribution, $m$ the counts of interest and $n$ the total counts, we can get our probability estimates as: \n",
    "\n",
    "$$\\hat{\\theta} = \\mathbb{E}\\left[\\theta\\mid m,n\\right]=\\frac{m+1}{n+2}$$\n",
    "\n",
    "For example, we can estimate the probability of a student being AALPI as\n",
    "\n",
    "$$P(AALPI)=\\frac{\\textit{counts of AALPI}+1}{\\textit{total counts}+2}$$"
   ]
  },
  {
   "cell_type": "markdown",
   "metadata": {},
   "source": [
    "# Setting up the tiebreaker for the simulator engine using the class SimulationPreprocessing\n",
    "\n",
    "To run the counterfactual simulation, we first need to add the new tiebreakers to the student data. Under the current setup of the dssg_sfusd repository (this repository) and the sfusd-project repository, we have to create and maintain a separate version of the student data that includes a column for each tiebreaker we wish to simulate.\n",
    "\n",
    "The first step for this is to update (or create if it doesn't exist) a version of the student data that has a binary column indicating if a student has the tiebreaker. We can do this by using the SimulationPreprocessing in three steps:\n",
    "\n",
    "1. compute the new columns\n",
    "2. update the student data\n",
    "3. save the updated student data\n",
    "\n",
    "## Step 1: Compute new columns\n",
    "\n",
    "For this step, we initialize the classifier or tiebreaker of interest and add it as a column in the student data. The student data for a particular period is loaded by initializing the `SimulationPreprocessing`:"
   ]
  },
  {
   "cell_type": "code",
   "execution_count": null,
   "metadata": {},
   "outputs": [],
   "source": [
    "from src.d02_intermediate.simulation_preprocessing import SimulationPreprocessing\n",
    "frl_key = 'tk5'\n",
    "sp = SimulationPreprocessing(frl_key=frl_key, period=\"1819\")"
   ]
  },
  {
   "cell_type": "markdown",
   "metadata": {},
   "source": [
    "### Examples of models that have been loaded"
   ]
  },
  {
   "cell_type": "code",
   "execution_count": null,
   "metadata": {},
   "outputs": [],
   "source": [
    "from src.d04_modeling.ctip_classifier import CtipClassifier\n",
    "\n",
    "sp.add_frl_labels()\n",
    "\n",
    "tiebreaker = 'ctip1'\n",
    "fpr = 0.04\n",
    "model = CtipClassifier(positive_group='nBoth', frl_key=frl_key)\n",
    "\n",
    "sp.add_equity_tiebreaker(model, params=fpr, tiebreaker=tiebreaker)\n",
    "print(model.get_roc())"
   ]
  },
  {
   "cell_type": "code",
   "execution_count": null,
   "metadata": {},
   "outputs": [],
   "source": [
    "from src.d04_modeling.naive_classifier import NaiveClassifier\n",
    "\n",
    "sp.add_frl_labels()\n",
    "\n",
    "tiebreaker = 'special014'\n",
    "fpr = 0.14\n",
    "model = NaiveClassifier(positive_group='nAAFRL', frl_key=frl_key, proportion=True)\n",
    "\n",
    "sp.add_equity_tiebreaker(model, params=fpr, tiebreaker=tiebreaker)"
   ]
  },
  {
   "cell_type": "code",
   "execution_count": null,
   "metadata": {},
   "outputs": [],
   "source": [
    "from src.d04_modeling.naive_classifier import NaiveClassifier\n",
    "\n",
    "sp.add_frl_labels()\n",
    "\n",
    "tiebreaker = 'naive004'\n",
    "fpr = 0.04\n",
    "model = NaiveClassifier(positive_group='nBoth', frl_key=frl_key, proportion=True)\n",
    "\n",
    "sp.add_equity_tiebreaker(model, params=fpr, tiebreaker=tiebreaker)"
   ]
  },
  {
   "cell_type": "code",
   "execution_count": null,
   "metadata": {},
   "outputs": [],
   "source": [
    "from src.d04_modeling.naive_classifier import NaiveClassifier\n",
    "\n",
    "sp.add_frl_labels()\n",
    "\n",
    "tiebreaker = 'naive016'\n",
    "fpr = 0.16\n",
    "model = NaiveClassifier(positive_group='nBoth', frl_key=frl_key, proportion=True)\n",
    "\n",
    "sp.add_equity_tiebreaker(model, params=fpr, tiebreaker=tiebreaker)"
   ]
  },
  {
   "cell_type": "code",
   "execution_count": null,
   "metadata": {},
   "outputs": [],
   "source": [
    "from src.d04_modeling.knapsack_classifier import KnapsackClassifier\n",
    "\n",
    "sp.add_frl_labels()\n",
    "\n",
    "tiebreaker = 'knapsack008'\n",
    "fpr = 0.08\n",
    "positive_group = 'nFocal'\n",
    "model = KnapsackClassifier(positive_group=positive_group, load=True,\n",
    "                           frl_key=frl_key, run_name=\"%s_%s.pkl\" % (frl_key, positive_group))\n",
    "\n",
    "sp.add_equity_tiebreaker(model, params=fpr, tiebreaker=tiebreaker)"
   ]
  },
  {
   "cell_type": "code",
   "execution_count": null,
   "metadata": {},
   "outputs": [],
   "source": [
    "from src.d04_modeling.knapsack_classifier import KnapsackClassifier\n",
    "\n",
    "\n",
    "sp.add_frl_labels()\n",
    "\n",
    "tiebreaker = 'knapsack014'\n",
    "fpr = 0.14\n",
    "positive_group = 'nBoth'\n",
    "model = KnapsackClassifier(positive_group=positive_group, load=True,\n",
    "                           frl_key=frl_key, run_name=\"%s_%s.pkl\" % (frl_key, positive_group))\n",
    "\n",
    "sp.add_equity_tiebreaker(model, params=fpr, tiebreaker=tiebreaker)"
   ]
  },
  {
   "cell_type": "code",
   "execution_count": null,
   "metadata": {},
   "outputs": [],
   "source": [
    "from src.d04_modeling.propositional_classifier import andClassifier\n",
    "\n",
    "sp.add_frl_labels()\n",
    "\n",
    "tiebreaker = 'pc1020_050'\n",
    "params = [0.2, 0.5]\n",
    "pc1 = andClassifier([\"pctFocal\", \"BG_pctFocal\"], group_criterion=\"nbhd\", frl_key=frl_key)\n",
    "\n",
    "sp.add_equity_tiebreaker(pc1, params=params, tiebreaker=tiebreaker)"
   ]
  },
  {
   "cell_type": "code",
   "execution_count": null,
   "metadata": {},
   "outputs": [],
   "source": [
    "from src.d04_modeling.propositional_classifier import andClassifier\n",
    "\n",
    "sp.add_frl_labels()\n",
    "\n",
    "tiebreaker = 'pc2025_040'\n",
    "params = [0.25, 0.4]\n",
    "positive_group = 'nBoth'\n",
    "pc2 = andClassifier([\"pctBoth\", \"BG_pctBoth\"], positive_group=positive_group, group_criterion=\"nbhd\", frl_key=frl_key)\n",
    "\n",
    "sp.add_equity_tiebreaker(pc2, params=params, tiebreaker=tiebreaker)\n",
    "print(pc2.get_roc([params]))"
   ]
  },
  {
   "cell_type": "code",
   "execution_count": null,
   "metadata": {},
   "outputs": [],
   "source": [
    "from src.d04_modeling.propositional_classifier import andClassifier, orClassifier\n",
    "\n",
    "sp.add_frl_labels()\n",
    "\n",
    "tiebreaker = 'pc3_035'\n",
    "params = 0.30\n",
    "positive_group = 'nBoth'\n",
    "\n",
    "eligibility_classifier = orClassifier([\"Housing\", \"Redline\"], binary_var=[0,1])\n",
    "pc3 = andClassifier([\"pctBoth\"], positive_group=positive_group, eligibility_classifier=eligibility_classifier, frl_key=frl_key)\n",
    "\n",
    "sp.add_equity_tiebreaker(pc3, params=params, tiebreaker=tiebreaker)\n",
    "print(pc3.get_roc([params]))\n",
    "pc3.plot_map(params=params)"
   ]
  },
  {
   "cell_type": "code",
   "execution_count": null,
   "metadata": {},
   "outputs": [],
   "source": [
    "from src.d04_modeling.ctip_classifier import CtipClassifier\n",
    "\n",
    "sp.add_frl_labels()\n",
    "\n",
    "tiebreaker = 'ctip1'\n",
    "fpr = 0.04\n",
    "model = CtipClassifier(positive_group='nFocal', frl_key=frl_key)\n",
    "\n",
    "sp.add_equity_tiebreaker(model, params=fpr, tiebreaker=tiebreaker)\n",
    "print(model.get_roc())"
   ]
  },
  {
   "cell_type": "code",
   "execution_count": null,
   "metadata": {},
   "outputs": [],
   "source": [
    "from src.d04_modeling.propositional_classifier import andClassifier, orClassifier\n",
    "\n",
    "sp.add_frl_labels()\n",
    "\n",
    "tiebreaker = 'pc4_004'\n",
    "params = 0.04\n",
    "positive_group = 'nAAFRL'\n",
    "\n",
    "eligibility_classifier = orClassifier([\"Housing\", \"Redline\"], binary_var=[0,1])\n",
    "pc4 = andClassifier([\"pctAAFRL\"], positive_group=positive_group, eligibility_classifier=eligibility_classifier, frl_key=frl_key)\n",
    "\n",
    "sp.add_equity_tiebreaker(pc4, params=params, tiebreaker=tiebreaker)\n",
    "print(pc4.get_roc([params]))"
   ]
  },
  {
   "cell_type": "markdown",
   "metadata": {},
   "source": [
    "## Step 2: Update student data\n",
    "\n",
    "Once we have setup the new column for our student data we can update the student data that is going to be used for the simulation: `student_out`. The following method loads the student data used for the simulation, checks that it is consistent with the student data that we are going to use to update the tiebreaker column and then generate a new student data dataframe that can be used to overwrite the old one.\n",
    "\n",
    "__Note:__ The method `update_student_data` only updates the `student_out` dataframe if it doesn't already have the tiebreaker. If we wish to add it again and overwrite the previous column we can use the method `sp.set_recalculate(True)`"
   ]
  },
  {
   "cell_type": "code",
   "execution_count": null,
   "metadata": {},
   "outputs": [],
   "source": [
    "# sp.set_recalculate(True)"
   ]
  },
  {
   "cell_type": "code",
   "execution_count": null,
   "metadata": {},
   "outputs": [],
   "source": [
    "student_out = sp.update_student_data(tiebreaker)"
   ]
  },
  {
   "cell_type": "markdown",
   "metadata": {},
   "source": [
    "## Step 3: Save student data\n",
    "\n",
    "Finally, once we have an updated version of the student data `student_out` we can export it to the corresponding directory. This updated student data is saved in the `/share/data/school_choice_equity/simulator_data/student/` directory, which is different from the original directory with the \"raw\" data."
   ]
  },
  {
   "cell_type": "code",
   "execution_count": null,
   "metadata": {},
   "outputs": [],
   "source": [
    "sp.save_student_data(student_out)"
   ]
  }
 ],
 "metadata": {
  "kernelspec": {
   "display_name": "dssg-env",
   "language": "python",
   "name": "dssg-env"
  },
  "language_info": {
   "codemirror_mode": {
    "name": "ipython",
    "version": 3
   },
   "file_extension": ".py",
   "mimetype": "text/x-python",
   "name": "python",
   "nbconvert_exporter": "python",
   "pygments_lexer": "ipython3",
   "version": "3.8.8"
  }
 },
 "nbformat": 4,
 "nbformat_minor": 4
}
