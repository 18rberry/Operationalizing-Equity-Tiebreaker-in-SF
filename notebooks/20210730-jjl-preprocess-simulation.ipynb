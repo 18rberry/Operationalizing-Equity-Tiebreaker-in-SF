{
 "cells": [
  {
   "cell_type": "code",
   "execution_count": null,
   "metadata": {},
   "outputs": [],
   "source": [
    "import sys\n",
    "sys.path.append('../')\n",
    "\n",
    "from src.d02_intermediate.simulation_preprocessing import SimulationPreprocessing\n",
    "frl_key = 'tk5'\n",
    "sp = SimulationPreprocessing(frl_key=frl_key, period=\"1819\")"
   ]
  },
  {
   "cell_type": "markdown",
   "metadata": {},
   "source": [
    "# Generate Individual Focal Students\n",
    "\n",
    "The individual focal students for each block group are going to be generated at random. We are going to use the block groupes defined by SFUSD. The available data allows us to get rough estimates of the following probabilities for each block group:\n",
    "\n",
    "- Probability a student is AALPI: $P(AALPI)$\n",
    "- Probability a student is FRL: $P(FRL)$\n",
    "- Probability a student is both AALPI and FRL: $P(AALPI \\cap FRL)$\n",
    "- Probability a student is FRL conditional on him being AALPI: $$P(FRL \\mid AALPI) = \\frac{P(AALPI \\cap FRL)}{P(AALPI)}$$\n",
    "- Probability a student is FRL conditional on him not being AALPI: $$P(FRL \\mid \\overline{AALPI}) = \\frac{P(FRL)-P(AALPI \\cap FRL)}{1-P(AALPI)}$$\n",
    "\n",
    "Since some blocks have a small number of students we are going to use the mean of the posterior probability of a Bernoulli distribution with a uniform prior as probability estimates. Let $\\theta$ be the parameter of the Bernoulli disttribution, $m$ the counts of interest and $n$ the total counts, we can get our probability estimates as: \n",
    "\n",
    "$$\\hat{\\theta} = \\mathbb{E}\\left[\\theta\\mid m,n\\right]=\\frac{m+1}{n+2}$$\n",
    "\n",
    "For example, we can estimate the probability of a student being AALPI as\n",
    "\n",
    "$$P(AALPI)=\\frac{\\textit{counts of AALPI}+1}{\\textit{total counts}+2}$$"
   ]
  },
  {
   "cell_type": "markdown",
   "metadata": {},
   "source": [
    "## Step 1: Compute new columns"
   ]
  },
  {
   "cell_type": "code",
   "execution_count": null,
   "metadata": {},
   "outputs": [],
   "source": [
    "from src.d04_modeling.ctip_classifier import CtipClassifier\n",
    "\n",
    "sp.add_frl_labels()\n",
    "\n",
    "tiebreaker = 'ctip1'\n",
    "fpr = 0.04\n",
    "model = CtipClassifier(positive_group='nBoth', frl_key=frl_key)\n",
    "\n",
    "sp.add_equity_tiebreaker(model, params=fpr, tiebreaker=tiebreaker)\n",
    "print(model.get_roc())"
   ]
  },
  {
   "cell_type": "code",
   "execution_count": null,
   "metadata": {},
   "outputs": [],
   "source": [
    "from src.d04_modeling.naive_classifier import NaiveClassifier\n",
    "\n",
    "sp.add_frl_labels()\n",
    "\n",
    "tiebreaker = 'special014'\n",
    "fpr = 0.14\n",
    "model = NaiveClassifier(positive_group='nAAFRL', frl_key=frl_key, proportion=True)\n",
    "\n",
    "sp.add_equity_tiebreaker(model, params=fpr, tiebreaker=tiebreaker)"
   ]
  },
  {
   "cell_type": "code",
   "execution_count": null,
   "metadata": {},
   "outputs": [],
   "source": [
    "from src.d04_modeling.naive_classifier import NaiveClassifier\n",
    "\n",
    "sp.add_frl_labels()\n",
    "\n",
    "tiebreaker = 'naive004'\n",
    "fpr = 0.04\n",
    "model = NaiveClassifier(positive_group='nBoth', frl_key=frl_key, proportion=True)\n",
    "\n",
    "sp.add_equity_tiebreaker(model, params=fpr, tiebreaker=tiebreaker)"
   ]
  },
  {
   "cell_type": "code",
   "execution_count": null,
   "metadata": {},
   "outputs": [],
   "source": [
    "from src.d04_modeling.naive_classifier import NaiveClassifier\n",
    "\n",
    "sp.add_frl_labels()\n",
    "\n",
    "tiebreaker = 'naive016'\n",
    "fpr = 0.16\n",
    "model = NaiveClassifier(positive_group='nBoth', frl_key=frl_key, proportion=True)\n",
    "\n",
    "sp.add_equity_tiebreaker(model, params=fpr, tiebreaker=tiebreaker)"
   ]
  },
  {
   "cell_type": "code",
   "execution_count": null,
   "metadata": {},
   "outputs": [],
   "source": [
    "from src.d04_modeling.knapsack_classifier import KnapsackClassifier\n",
    "\n",
    "sp.add_frl_labels()\n",
    "\n",
    "tiebreaker = 'knapsack008'\n",
    "fpr = 0.08\n",
    "positive_group = 'nFocal'\n",
    "model = KnapsackClassifier(positive_group=positive_group, load=True,\n",
    "                           frl_key=frl_key, run_name=\"%s_%s.pkl\" % (frl_key, positive_group))\n",
    "\n",
    "sp.add_equity_tiebreaker(model, params=fpr, tiebreaker=tiebreaker)"
   ]
  },
  {
   "cell_type": "code",
   "execution_count": null,
   "metadata": {},
   "outputs": [],
   "source": [
    "from src.d04_modeling.knapsack_classifier import KnapsackClassifier\n",
    "\n",
    "\n",
    "sp.add_frl_labels()\n",
    "\n",
    "tiebreaker = 'knapsack014'\n",
    "fpr = 0.14\n",
    "positive_group = 'nBoth'\n",
    "model = KnapsackClassifier(positive_group=positive_group, load=True,\n",
    "                           frl_key=frl_key, run_name=\"%s_%s.pkl\" % (frl_key, positive_group))\n",
    "\n",
    "sp.add_equity_tiebreaker(model, params=fpr, tiebreaker=tiebreaker)"
   ]
  },
  {
   "cell_type": "code",
   "execution_count": null,
   "metadata": {},
   "outputs": [],
   "source": [
    "from src.d04_modeling.propositional_classifier import andClassifier\n",
    "\n",
    "sp.add_frl_labels()\n",
    "\n",
    "tiebreaker = 'pc1020_050'\n",
    "params = [0.2, 0.5]\n",
    "pc1 = andClassifier([\"pctFocal\", \"BG_pctFocal\"], group_criterion=\"nbhd\", frl_key=frl_key)\n",
    "\n",
    "sp.add_equity_tiebreaker(pc1, params=params, tiebreaker=tiebreaker)"
   ]
  },
  {
   "cell_type": "code",
   "execution_count": null,
   "metadata": {},
   "outputs": [],
   "source": [
    "from src.d04_modeling.propositional_classifier import andClassifier\n",
    "\n",
    "sp.add_frl_labels()\n",
    "\n",
    "tiebreaker = 'pc2025_040'\n",
    "params = [0.25, 0.4]\n",
    "positive_group = 'nBoth'\n",
    "pc2 = andClassifier([\"pctBoth\", \"BG_pctBoth\"], positive_group=positive_group, group_criterion=\"nbhd\", frl_key=frl_key)\n",
    "\n",
    "sp.add_equity_tiebreaker(pc2, params=params, tiebreaker=tiebreaker)\n",
    "print(pc2.get_roc([params]))"
   ]
  },
  {
   "cell_type": "code",
   "execution_count": null,
   "metadata": {},
   "outputs": [],
   "source": [
    "from src.d04_modeling.propositional_classifier import andClassifier, orClassifier\n",
    "\n",
    "sp.add_frl_labels()\n",
    "\n",
    "tiebreaker = 'pc3_035'\n",
    "params = 0.30\n",
    "positive_group = 'nBoth'\n",
    "\n",
    "eligibility_classifier = orClassifier([\"Housing\", \"Redline\"], binary_var=[0,1])\n",
    "pc3 = andClassifier([\"pctBoth\"], positive_group=positive_group, eligibility_classifier=eligibility_classifier, frl_key=frl_key)\n",
    "\n",
    "sp.add_equity_tiebreaker(pc3, params=params, tiebreaker=tiebreaker)\n",
    "print(pc3.get_roc([params]))\n",
    "pc3.plot_map(params=params)"
   ]
  },
  {
   "cell_type": "code",
   "execution_count": null,
   "metadata": {},
   "outputs": [],
   "source": [
    "from src.d04_modeling.propositional_classifier import andClassifier, orClassifier\n",
    "\n",
    "sp.add_frl_labels()\n",
    "\n",
    "tiebreaker = 'pc3_060'\n",
    "params = 0.60\n",
    "positive_group = 'nBoth'\n",
    "\n",
    "eligibility_classifier = orClassifier([\"Housing\", \"Redline\"], binary_var=[0,1])\n",
    "pc3 = andClassifier([\"pctBoth\"], positive_group=positive_group, eligibility_classifier=eligibility_classifier, frl_key=frl_key)\n",
    "\n",
    "sp.add_equity_tiebreaker(pc3, params=params, tiebreaker=tiebreaker)\n",
    "print(pc3.get_roc([params]))"
   ]
  },
  {
   "cell_type": "markdown",
   "metadata": {},
   "source": [
    "## Step 2: Update student data"
   ]
  },
  {
   "cell_type": "code",
   "execution_count": null,
   "metadata": {},
   "outputs": [],
   "source": [
    "sp.set_recalculate(True)"
   ]
  },
  {
   "cell_type": "code",
   "execution_count": null,
   "metadata": {},
   "outputs": [],
   "source": [
    "student_out = sp.update_student_data(tiebreaker)"
   ]
  },
  {
   "cell_type": "markdown",
   "metadata": {},
   "source": [
    "## Step 3: Save studen data"
   ]
  },
  {
   "cell_type": "code",
   "execution_count": null,
   "metadata": {},
   "outputs": [],
   "source": [
    "sp.save_student_data(student_out)"
   ]
  }
 ],
 "metadata": {
  "kernelspec": {
   "display_name": "dssg-env",
   "language": "python",
   "name": "dssg-env"
  },
  "language_info": {
   "codemirror_mode": {
    "name": "ipython",
    "version": 3
   },
   "file_extension": ".py",
   "mimetype": "text/x-python",
   "name": "python",
   "nbconvert_exporter": "python",
   "pygments_lexer": "ipython3",
   "version": "3.8.8"
  }
 },
 "nbformat": 4,
 "nbformat_minor": 4
}
