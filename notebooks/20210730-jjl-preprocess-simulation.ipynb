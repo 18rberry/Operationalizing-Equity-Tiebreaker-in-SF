{
 "cells": [
  {
   "cell_type": "code",
   "execution_count": 3,
   "metadata": {},
   "outputs": [],
   "source": [
    "import sys\n",
    "sys.path.append('../')"
   ]
  },
  {
   "cell_type": "markdown",
   "metadata": {},
   "source": [
    "# Generate Individual Focal Students\n",
    "\n",
    "The individual focal students for each block group are going to be generated at random. We are going to use the block groupes defined by SFUSD. The available data allows us to get rough estimates of the following probabilities for each block group:\n",
    "\n",
    "- Probability a student is AALPI: $P(AALPI)$\n",
    "- Probability a student is FRL: $P(FRL)$\n",
    "- Probability a student is both AALPI and FRL: $P(AALPI \\cap FRL)$\n",
    "- Probability a student is FRL conditional on him being AALPI: $$P(FRL \\mid AALPI) = \\frac{P(AALPI \\cap FRL)}{P(AALPI)}$$\n",
    "- Probability a student is FRL conditional on him not being AALPI: $$P(FRL \\mid \\overline{AALPI}) = \\frac{P(FRL)-P(AALPI \\cap FRL)}{1-P(AALPI)}$$\n",
    "\n",
    "Since some blocks have a small number of students we are going to use the mean of the posterior probability of a Bernoulli distribution with a uniform prior as probability estimates. Let $\\theta$ be the parameter of the Bernoulli disttribution, $m$ the counts of interest and $n$ the total counts, we can get our probability estimates as: \n",
    "\n",
    "$$\\hat{\\theta} = \\mathbb{E}\\left[\\theta\\mid m,n\\right]=\\frac{m+1}{n+2}$$\n",
    "\n",
    "For example, we can estimate the probability of a student being AALPI as\n",
    "\n",
    "$$P(AALPI)=\\frac{\\textit{counts of AALPI}+1}{\\textit{total counts}+2}$$"
   ]
  },
  {
   "cell_type": "markdown",
   "metadata": {},
   "source": [
    "# Setting up the tiebreaker for the simulator engine using the class SimulationPreprocessing\n",
    "\n",
    "To run the counterfactual simulation, we first need to add the new tiebreakers to the student data. Under the current setup of the dssg_sfusd repository (this repository) and the sfusd-project repository, we have to create and maintain a separate version of the student data that includes a column for each tiebreaker we wish to simulate.\n",
    "\n",
    "The first step for this is to update (or create if it doesn't exist) a version of the student data that has a binary column indicating if a student has the tiebreaker. We can do this by using the SimulationPreprocessing in three steps:\n",
    "\n",
    "1. compute the new columns\n",
    "2. update the student data\n",
    "3. save the updated student data\n",
    "\n",
    "## Step 1: Compute new columns\n",
    "\n",
    "For this step, we initialize the classifier or tiebreaker of interest and add it as a column in the student data. The student data for a particular period is loaded by initializing the `SimulationPreprocessing`:"
   ]
  },
  {
   "cell_type": "code",
   "execution_count": null,
   "metadata": {},
   "outputs": [],
   "source": [
    "from src.d02_intermediate.simulation_preprocessing import SimulationPreprocessing\n",
    "frl_key = 'tk5'\n",
    "sp = SimulationPreprocessing(frl_key=frl_key, period=\"1819\")"
   ]
  },
  {
   "cell_type": "markdown",
   "metadata": {},
   "source": [
    "### Examples of models that have been loaded"
   ]
  },
  {
   "cell_type": "code",
   "execution_count": null,
   "metadata": {},
   "outputs": [],
   "source": [
    "from src.d04_modeling.ctip_classifier import CtipClassifier\n",
    "\n",
    "sp.add_frl_labels()\n",
    "\n",
    "tiebreaker = 'ctip1'\n",
    "fpr = 0.04\n",
    "model = CtipClassifier(positive_group='nBoth', frl_key=frl_key)\n",
    "\n",
    "sp.add_equity_tiebreaker(model, params=fpr, tiebreaker=tiebreaker)\n",
    "print(model.get_roc())"
   ]
  },
  {
   "cell_type": "code",
   "execution_count": null,
   "metadata": {},
   "outputs": [],
   "source": [
    "from src.d04_modeling.naive_classifier import NaiveClassifier\n",
    "\n",
    "sp.add_frl_labels()\n",
    "\n",
    "tiebreaker = 'special014'\n",
    "fpr = 0.14\n",
    "model = NaiveClassifier(positive_group='nAAFRL', frl_key=frl_key, proportion=True)\n",
    "\n",
    "sp.add_equity_tiebreaker(model, params=fpr, tiebreaker=tiebreaker)"
   ]
  },
  {
   "cell_type": "code",
   "execution_count": null,
   "metadata": {},
   "outputs": [],
   "source": [
    "from src.d04_modeling.naive_classifier import NaiveClassifier\n",
    "\n",
    "sp.add_frl_labels()\n",
    "\n",
    "tiebreaker = 'naive004'\n",
    "fpr = 0.04\n",
    "model = NaiveClassifier(positive_group='nBoth', frl_key=frl_key, proportion=True)\n",
    "\n",
    "sp.add_equity_tiebreaker(model, params=fpr, tiebreaker=tiebreaker)"
   ]
  },
  {
   "cell_type": "code",
   "execution_count": null,
   "metadata": {},
   "outputs": [],
   "source": [
    "from src.d04_modeling.naive_classifier import NaiveClassifier\n",
    "\n",
    "sp.add_frl_labels()\n",
    "\n",
    "tiebreaker = 'naive016'\n",
    "fpr = 0.16\n",
    "model = NaiveClassifier(positive_group='nBoth', frl_key=frl_key, proportion=True)\n",
    "\n",
    "sp.add_equity_tiebreaker(model, params=fpr, tiebreaker=tiebreaker)"
   ]
  },
  {
   "cell_type": "code",
   "execution_count": null,
   "metadata": {},
   "outputs": [],
   "source": [
    "from src.d04_modeling.knapsack_classifier import KnapsackClassifier\n",
    "\n",
    "sp.add_frl_labels()\n",
    "\n",
    "tiebreaker = 'knapsack008'\n",
    "fpr = 0.08\n",
    "positive_group = 'nFocal'\n",
    "model = KnapsackClassifier(positive_group=positive_group, load=True,\n",
    "                           frl_key=frl_key, run_name=\"%s_%s.pkl\" % (frl_key, positive_group))\n",
    "\n",
    "sp.add_equity_tiebreaker(model, params=fpr, tiebreaker=tiebreaker)"
   ]
  },
  {
   "cell_type": "code",
   "execution_count": null,
   "metadata": {},
   "outputs": [],
   "source": [
    "from src.d04_modeling.knapsack_classifier import KnapsackClassifier\n",
    "\n",
    "\n",
    "sp.add_frl_labels()\n",
    "\n",
    "tiebreaker = 'knapsack014'\n",
    "fpr = 0.14\n",
    "positive_group = 'nBoth'\n",
    "model = KnapsackClassifier(positive_group=positive_group, load=True,\n",
    "                           frl_key=frl_key, run_name=\"%s_%s.pkl\" % (frl_key, positive_group))\n",
    "\n",
    "sp.add_equity_tiebreaker(model, params=fpr, tiebreaker=tiebreaker)"
   ]
  },
  {
   "cell_type": "code",
   "execution_count": null,
   "metadata": {},
   "outputs": [],
   "source": [
    "from src.d04_modeling.propositional_classifier import andClassifier\n",
    "\n",
    "sp.add_frl_labels()\n",
    "\n",
    "tiebreaker = 'pc1020_050'\n",
    "params = [0.2, 0.5]\n",
    "pc1 = andClassifier([\"pctFocal\", \"BG_pctFocal\"], group_criterion=\"nbhd\", frl_key=frl_key)\n",
    "\n",
    "sp.add_equity_tiebreaker(pc1, params=params, tiebreaker=tiebreaker)"
   ]
  },
  {
   "cell_type": "code",
   "execution_count": null,
   "metadata": {},
   "outputs": [],
   "source": [
    "from src.d04_modeling.propositional_classifier import andClassifier\n",
    "\n",
    "sp.add_frl_labels()\n",
    "\n",
    "tiebreaker = 'pc2025_040'\n",
    "params = [0.25, 0.4]\n",
    "positive_group = 'nBoth'\n",
    "pc2 = andClassifier([\"pctBoth\", \"BG_pctBoth\"], positive_group=positive_group, group_criterion=\"nbhd\", frl_key=frl_key)\n",
    "\n",
    "sp.add_equity_tiebreaker(pc2, params=params, tiebreaker=tiebreaker)\n",
    "print(pc2.get_roc([params]))"
   ]
  },
  {
   "cell_type": "code",
   "execution_count": null,
   "metadata": {},
   "outputs": [],
   "source": [
    "from src.d04_modeling.propositional_classifier import andClassifier, orClassifier\n",
    "\n",
    "sp.add_frl_labels()\n",
    "\n",
    "tiebreaker = 'pc3_035'\n",
    "params = 0.30\n",
    "positive_group = 'nBoth'\n",
    "\n",
    "eligibility_classifier = orClassifier([\"Housing\", \"Redline\"], binary_var=[0,1])\n",
    "pc3 = andClassifier([\"pctBoth\"], positive_group=positive_group, eligibility_classifier=eligibility_classifier, frl_key=frl_key)\n",
    "\n",
    "sp.add_equity_tiebreaker(pc3, params=params, tiebreaker=tiebreaker)\n",
    "print(pc3.get_roc([params]))\n",
    "pc3.plot_map(params=params)"
   ]
  },
  {
   "cell_type": "code",
   "execution_count": 4,
   "metadata": {},
   "outputs": [
    {
     "name": "stdout",
     "output_type": "stream",
     "text": [
      "Adding African-American counts to FRL data...\n",
      "Loading Block FRL data...0.1855\n",
      "Loading Block Demographic data...0.1695\n",
      "Loading Student Demographic data...4.1036\n",
      "Int64Index([60750179021025, 60750179021001, 60750179021027, 60750179021035,\n",
      "            60750179021026, 60750179021034, 60750179021010, 60750179021017,\n",
      "            60750179021037, 60750179021031,\n",
      "            ...\n",
      "            60750605023000, 60750264041003, 60750264041004, 60750605022001,\n",
      "            60750605023005, 60750605023004, 60750605023001, 60750605023003,\n",
      "            60750605023002, 60750605023007],\n",
      "           dtype='int64', name='geoid', length=494)\n",
      "Ratio of students recieving the equity tiebreaker: 0.16\n",
      "        fpr       tpr\n",
      "0  0.225321  0.693583\n"
     ]
    }
   ],
   "source": [
    "from src.d04_modeling.ctip_classifier import CtipClassifier\n",
    "\n",
    "sp.add_frl_labels()\n",
    "\n",
    "tiebreaker = 'ctip1'\n",
    "fpr = 0.04\n",
    "model = CtipClassifier(positive_group='nAAFRL', frl_key=frl_key)\n",
    "\n",
    "sp.add_equity_tiebreaker(model, params=fpr, tiebreaker=tiebreaker)\n",
    "print(model.get_roc())"
   ]
  },
  {
   "cell_type": "code",
   "execution_count": 29,
   "metadata": {},
   "outputs": [
    {
     "name": "stdout",
     "output_type": "stream",
     "text": [
      "Int64Index([60750101002006, 60750101002007, 60750107003004, 60750614002007,\n",
      "            60750614002010, 60750614002011, 60750614001000, 60750614001018,\n",
      "            60750614001017, 60750229022005,\n",
      "            ...\n",
      "            60750312022019, 60750605023001, 60750314002003, 60750314005004,\n",
      "            60750313021000, 60750314002007, 60750314004002, 60750313021007,\n",
      "            60750313021005, 60750354001005],\n",
      "           dtype='int64', name='geoid', length=144)\n",
      "Ratio of students recieving the equity tiebreaker: 0.07\n",
      "        tpr       fpr\n",
      "0  0.703847  0.092585\n"
     ]
    }
   ],
   "source": [
    "from src.d04_modeling.propositional_classifier import andClassifier, orClassifier\n",
    "\n",
    "sp.add_frl_labels()\n",
    "\n",
    "tiebreaker = 'pc4_012'\n",
    "params = 0.12\n",
    "positive_group = 'nAAFRL'\n",
    "\n",
    "eligibility_classifier = orClassifier([\"Housing\", \"Redline\"], binary_var=[0,1])\n",
    "pc4 = andClassifier([\"pctAAFRL\"], positive_group=positive_group, eligibility_classifier=eligibility_classifier, frl_key=frl_key)\n",
    "\n",
    "sp.add_equity_tiebreaker(pc4, params=params, tiebreaker=tiebreaker)\n",
    "print(pc3.get_roc([params]))"
   ]
  },
  {
   "cell_type": "markdown",
   "metadata": {},
   "source": [
    "## Step 2: Update student data\n",
    "\n",
    "Once we have setup the new column for our student data we can update the student data that is going to be used for the simulation: `student_out`. The following method loads the student data used for the simulation, checks that it is consistent with the student data that we are going to use to update the tiebreaker column and then generate a new student data dataframe that can be used to overwrite the old one.\n",
    "\n",
    "__Note:__ The method `update_student_data` only updates the `student_out` dataframe if it doesn't already have the tiebreaker. If we wish to add it again and overwrite the previous column we can use the method `sp.set_recalculate(True)`"
   ]
  },
  {
   "cell_type": "code",
   "execution_count": null,
   "metadata": {},
   "outputs": [],
   "source": [
    "# sp.set_recalculate(True)"
   ]
  },
  {
   "cell_type": "code",
   "execution_count": 30,
   "metadata": {},
   "outputs": [
    {
     "name": "stdout",
     "output_type": "stream",
     "text": [
      "Loading student data from:\n",
      " /share/data/school_choice_equity/simulator_data/student/drop_optout_1819.csv\n",
      "Updating pc4_012 in student data...\n"
     ]
    }
   ],
   "source": [
    "student_out = sp.update_student_data(tiebreaker)"
   ]
  },
  {
   "cell_type": "markdown",
   "metadata": {},
   "source": [
    "## Step 3: Save student data\n",
    "\n",
    "Finally, once we have an updated version of the student data `student_out` we can export it to the corresponding directory. This updated student data is saved in the `/share/data/school_choice_equity/simulator_data/student/` directory, which is different from the original directory with the \"raw\" data."
   ]
  },
  {
   "cell_type": "code",
   "execution_count": 31,
   "metadata": {},
   "outputs": [
    {
     "name": "stdout",
     "output_type": "stream",
     "text": [
      "Saving to:\n",
      "  /share/data/school_choice_equity/simulator_data/student/drop_optout_1819.csv\n"
     ]
    }
   ],
   "source": [
    "sp.save_student_data(student_out)"
   ]
  }
 ],
 "metadata": {
  "kernelspec": {
   "display_name": "dssg-env",
   "language": "python",
   "name": "dssg-env"
  },
  "language_info": {
   "codemirror_mode": {
    "name": "ipython",
    "version": 3
   },
   "file_extension": ".py",
   "mimetype": "text/x-python",
   "name": "python",
   "nbconvert_exporter": "python",
   "pygments_lexer": "ipython3",
   "version": "3.8.8"
  }
 },
 "nbformat": 4,
 "nbformat_minor": 4
}
