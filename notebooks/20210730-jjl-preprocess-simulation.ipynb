{
 "cells": [
  {
   "cell_type": "code",
   "execution_count": null,
   "metadata": {},
   "outputs": [],
   "source": [
    "import pandas as pd\n",
    "import numpy as np\n",
    "import os\n",
    "import sys\n",
    "sys.path.append('../')"
   ]
  },
  {
   "cell_type": "markdown",
   "metadata": {},
   "source": [
    "# Parameters"
   ]
  },
  {
   "cell_type": "code",
   "execution_count": null,
   "metadata": {},
   "outputs": [],
   "source": [
    "np.random.seed(1992)\n",
    "frl_key='tk5'\n",
    "period = \"1819\"\n",
    "recalculate = False\n",
    "output_path = \"/share/data/school_choice_equity/simulator_data/student/\"\n",
    "student_data_file = \"/share/data/school_choice/Data/Cleaned/drop_optout_{}.csv\""
   ]
  },
  {
   "cell_type": "markdown",
   "metadata": {},
   "source": [
    "# Load Student Data"
   ]
  },
  {
   "cell_type": "code",
   "execution_count": null,
   "metadata": {},
   "outputs": [],
   "source": [
    "from src.d01_data.student_data_api import StudentDataApi\n",
    "\n",
    "student_df = pd.read_csv(student_data_file.format(period))\n",
    "mask = student_df['grade'] == 'KG'\n",
    "student_df = student_df.loc[mask]\n",
    "student_df.head()"
   ]
  },
  {
   "cell_type": "markdown",
   "metadata": {},
   "source": [
    "# Generate Individual Focal Students\n",
    "\n",
    "The individual focal students for each block group are going to be generated at random. We are going to use the block groupes defined by SFUSD. The available data allows us to get rough estimates of the following probabilities for each block group:\n",
    "\n",
    "- Probability a student is AALPI: $P(AALPI)$\n",
    "- Probability a student is FRL: $P(FRL)$\n",
    "- Probability a student is both AALPI and FRL: $P(AALPI \\cap FRL)$\n",
    "- Probability a student is FRL conditional on him being AALPI: $$P(FRL \\mid AALPI) = \\frac{P(AALPI \\cap FRL)}{P(AALPI)}$$\n",
    "- Probability a student is FRL conditional on him not being AALPI: $$P(FRL \\mid \\overline{AALPI}) = \\frac{P(FRL)-P(AALPI \\cap FRL)}{1-P(AALPI)}$$\n",
    "\n",
    "Since some blocks have a small number of students we are going to use the mean of the posterior probability of a Bernoulli distribution with a uniform prior as probability estimates. Let $\\theta$ be the parameter of the Bernoulli disttribution, $m$ the counts of interest and $n$ the total counts, we can get our probability estimates as: \n",
    "\n",
    "$$\\hat{\\theta} = \\mathbb{E}\\left[\\theta\\mid m,n\\right]=\\frac{m+1}{n+2}$$\n",
    "\n",
    "For example, we can estimate the probability of a student being AALPI as\n",
    "\n",
    "$$P(AALPI)=\\frac{\\textit{counts of AALPI}+1}{\\textit{total counts}+2}$$"
   ]
  },
  {
   "cell_type": "code",
   "execution_count": null,
   "metadata": {},
   "outputs": [],
   "source": [
    "from src.d00_utils.utils import add_bayesian_bernoulli\n",
    "from src.d02_intermediate.classifier_data_api import ClassifierDataApi\n",
    "from src.d00_utils.utils import get_label\n",
    "\n",
    "def frl_cond_aalpi(row):\n",
    "    return row['probBoth'] / row['probAALPI']\n",
    "def frl_cond_naalpi(row):\n",
    "    return (row['probFRL'] - row['probBoth']) / (1. - row['probAALPI'])\n",
    "    \n",
    "def isFocal(row, frl_df):\n",
    "    geoid = row['census_block']\n",
    "    if np.isnan(geoid):\n",
    "        return 0\n",
    "    geoid = int(geoid)\n",
    "    u = np.random.random()\n",
    "    if geoid in frl_df.index:\n",
    "        probs = frl_df.loc[geoid]\n",
    "        if row['AALPI'] == 1:\n",
    "            if u <= probs['probCondAALPI']:\n",
    "                return 1\n",
    "            else:\n",
    "                return 0\n",
    "        else:\n",
    "            if u <= probs['probCondNAALPI']:\n",
    "                return 1\n",
    "            else:\n",
    "                return 0\n",
    "    else:\n",
    "        return 0"
   ]
  },
  {
   "cell_type": "code",
   "execution_count": null,
   "metadata": {},
   "outputs": [],
   "source": [
    "def add_focal_students(student_df):\n",
    "    \n",
    "    cda = ClassifierDataApi()\n",
    "    frl_df = cda.get_frl_data(frl_key=frl_key)\n",
    "    frl_df = add_bayesian_bernoulli(frl_df)\n",
    "\n",
    "    frl_df['probCondAALPI'] = frl_df.apply(lambda row: frl_cond_aalpi(row), axis=1)\n",
    "    frl_df['probCondNAALPI'] = frl_df.apply(lambda row: frl_cond_naalpi(row), axis=1)\n",
    "\n",
    "    aalpi_ethnicity_list =  ['Black or African American','Hispanic/Latino','Pacific Islander']\n",
    "\n",
    "    student_df['AALPI'] = student_df['resolved_ethnicity'].isin(aalpi_ethnicity_list).astype('int64')\n",
    "    student_df['focal'] = student_df.apply(lambda row: isFocal(row, frl_df), axis=1)"
   ]
  },
  {
   "cell_type": "markdown",
   "metadata": {},
   "source": [
    "# Add Equity Tiebreaker Column"
   ]
  },
  {
   "cell_type": "code",
   "execution_count": null,
   "metadata": {},
   "outputs": [],
   "source": [
    "def add_equity_tiebreaker(student_df, model, params, tiebreaker):\n",
    "    solution = model.get_solution_set(params)\n",
    "    student_df[tiebreaker] = student_df['census_block'].apply(lambda x: get_label(x, solution))"
   ]
  },
  {
   "cell_type": "markdown",
   "metadata": {},
   "source": [
    "# Update Student Data for Simulations"
   ]
  },
  {
   "cell_type": "code",
   "execution_count": null,
   "metadata": {},
   "outputs": [],
   "source": [
    "def get_file_name(period):\n",
    "    return \"drop_optout_{}.csv\".format(period)\n",
    "\n",
    "def check_consistency(student_out, student_df):\n",
    "    test = student_out['focal'] != student_df['focal']\n",
    "    if test.any():\n",
    "        raise Exception(\"Previous aved student data is not consisten with student data being generated\")\n",
    "        \n",
    "def update_student_data(student_df, output_path, period, tiebreaker):\n",
    "    global recalculate\n",
    "    fname = get_file_name(period)\n",
    "    if os.path.isfile(output_path + fname):\n",
    "        print(\"Loading student data from:\\n %s\" % (output_path + fname))\n",
    "        student_out = pd.read_csv(output_path + fname).set_index('studentno')\n",
    "        check_consistency(student_out, student_df)\n",
    "        if tiebreaker not in student_out.columns or recalculate:\n",
    "            print(\"Updateing %s in student data...\" % tiebreaker)\n",
    "            student_out[tiebreaker] = student_df[tiebreaker]\n",
    "            recalculate = False\n",
    "        else:\n",
    "            raise Exception(\"Tiebreaker already exists!\")\n",
    "            \n",
    "    else:\n",
    "        print(\"Creating student data:\\n %s\" % (output_path + fname))\n",
    "        student_out = student_df.copy()\n",
    "        \n",
    "    return student_out\n",
    "        \n",
    "def save_student_data(student_out, output_path, period):\n",
    "    fname = get_file_name(period)\n",
    "    print(\"Saving to:\\n  %s\" % (output_path + fname))\n",
    "    student_out.reset_index().to_csv(output_path + fname)"
   ]
  },
  {
   "cell_type": "markdown",
   "metadata": {},
   "source": [
    "## Compute new columns"
   ]
  },
  {
   "cell_type": "code",
   "execution_count": null,
   "metadata": {},
   "outputs": [],
   "source": [
    "from src.d04_modeling.knapsack_classifier import KnapsackClassifier\n",
    "\n",
    "add_focal_students(student_df)\n",
    "\n",
    "tiebreaker = 'knapsack008'\n",
    "fpr = 0.08\n",
    "model = KnapsackClassifier(positive_group='nFocal', load=True,\n",
    "                           frl_key=frl_key, run_name=frl_key+\".pkl\")\n",
    "\n",
    "add_equity_tiebreaker(student_df, model, params=fpr, tiebreaker=tiebreaker)\n",
    "student_df[tiebreaker].mean()"
   ]
  },
  {
   "cell_type": "code",
   "execution_count": null,
   "metadata": {},
   "outputs": [],
   "source": [
    "student_out = update_student_data(student_df, output_path, period, tiebreaker)"
   ]
  },
  {
   "cell_type": "code",
   "execution_count": null,
   "metadata": {},
   "outputs": [],
   "source": [
    "save_student_data(student_out, output_path, period)"
   ]
  }
 ],
 "metadata": {
  "kernelspec": {
   "display_name": "dssg-env",
   "language": "python",
   "name": "dssg-env"
  },
  "language_info": {
   "codemirror_mode": {
    "name": "ipython",
    "version": 3
   },
   "file_extension": ".py",
   "mimetype": "text/x-python",
   "name": "python",
   "nbconvert_exporter": "python",
   "pygments_lexer": "ipython3",
   "version": "3.8.8"
  }
 },
 "nbformat": 4,
 "nbformat_minor": 4
}
