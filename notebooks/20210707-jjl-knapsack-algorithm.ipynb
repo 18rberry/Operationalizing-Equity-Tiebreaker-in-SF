{
 "cells": [
  {
   "cell_type": "code",
   "execution_count": null,
   "metadata": {},
   "outputs": [],
   "source": [
    "import pandas as pd\n",
    "import numpy as np\n",
    "from tqdm import trange\n",
    "\n",
    "import sys\n",
    "sys.path.append('../')"
   ]
  },
  {
   "cell_type": "markdown",
   "metadata": {},
   "source": [
    "# Load synthetic data\n",
    "\n",
    "Load synthetic data and process it for the knapsack algorithm. In this case the number of focal students `nFocalStudents` are the values of the problem and the number of non-focal students `nOtherStudents` are the weights of the problem."
   ]
  },
  {
   "cell_type": "code",
   "execution_count": null,
   "metadata": {},
   "outputs": [],
   "source": [
    "from src.d01_data.student_data_api import StudentDataApi, _block_features, _census_block_column, \\\n",
    "_diversity_index_features, _studentno, _diversity_index_col, _period_column, _prob_col\n",
    "\n",
    "periods_list = [\"1920\"]\n",
    "student_data_api = StudentDataApi()\n",
    "\n",
    "df_students = student_data_api.get_data(periods_list)\n",
    "mask = df_students[_census_block_column] == 'NaN'\n",
    "df_students.drop(df_students.index[mask], inplace=True)\n",
    "\n",
    "student_data_api.get_diversity_index(df_students)\n",
    "student_data_api.get_focal_probability(df_students)"
   ]
  },
  {
   "cell_type": "code",
   "execution_count": null,
   "metadata": {},
   "outputs": [],
   "source": [
    "np.random.seed(20210704)\n",
    "\n",
    "df_students.loc[df_students.index, 'focal'] = np.random.binomial(1, p=df_students[_prob_col])\n",
    "\n",
    "df_students = df_students.groupby([_period_column, _census_block_column])['focal'].agg(['sum', 'count', 'mean'])\n",
    "df_students.columns = ['nFocalStudents', 'nTotalStudents', 'focalRate']\n",
    "df_students['nOtherStudents'] = df_students['nTotalStudents'] - df_students['nFocalStudents']"
   ]
  },
  {
   "cell_type": "code",
   "execution_count": null,
   "metadata": {},
   "outputs": [],
   "source": [
    "data = df_students.loc[2020, ['nFocalStudents', 'nOtherStudents', 'focalRate']]\n",
    "data.describe()"
   ]
  },
  {
   "cell_type": "markdown",
   "metadata": {},
   "source": [
    "# Test Knapsack Algorithm\n",
    "\n",
    "Now we can test that our implementation of the Approximate Knapsack algorithm."
   ]
  },
  {
   "cell_type": "code",
   "execution_count": null,
   "metadata": {},
   "outputs": [],
   "source": [
    "from src.d04_modeling.knapsack_approx import KnapsackApprox\n",
    "\n",
    "import matplotlib.pyplot as plt\n",
    "\n",
    "plt.rcParams['figure.figsize'] = [12, 8]\n",
    "plt.rcParams['figure.dpi'] = 100 # 200 e.g. is really fine, but slower"
   ]
  },
  {
   "cell_type": "code",
   "execution_count": null,
   "metadata": {},
   "outputs": [],
   "source": [
    "mask = data['focalRate'] > 0.0\n",
    "\n",
    "solver = KnapsackApprox(eps=.5, data=data.loc[mask].copy(),\n",
    "                        value_col='nFocalStudents',\n",
    "                        weight_col='nOtherStudents',\n",
    "                        scale=False)\n",
    "\n",
    "solver.solve()\n",
    "\n",
    "plt.imshow(pd.DataFrame(solver.value_function).fillna(-10))\n",
    "plt.show()"
   ]
  },
  {
   "cell_type": "markdown",
   "metadata": {},
   "source": [
    "In the previouse cell we plot the value function of the algorithm with nan filled as 0. We know recover the solution and verify that it is feasible and optimal."
   ]
  },
  {
   "cell_type": "code",
   "execution_count": null,
   "metadata": {},
   "outputs": [],
   "source": [
    "total_students = (data['nFocalStudents'].values + data['nOtherStudents'].values).sum()\n",
    "fp_rate = 0.1\n",
    "w_max = fp_rate * total_students\n",
    "v_opt, solution_set = solver.get_solution(w_max=w_max)\n",
    "solution_set = pd.Index(solution_set, name=data.index.name)\n",
    "results = data.loc[solution_set].sum()\n",
    "assert(results['nFocalStudents'] == v_opt)\n",
    "assert(results['nOtherStudents'] <= w_max)"
   ]
  }
 ],
 "metadata": {
  "kernelspec": {
   "display_name": "dssg-env",
   "language": "python",
   "name": "dssg-env"
  },
  "language_info": {
   "codemirror_mode": {
    "name": "ipython",
    "version": 3
   },
   "file_extension": ".py",
   "mimetype": "text/x-python",
   "name": "python",
   "nbconvert_exporter": "python",
   "pygments_lexer": "ipython3",
   "version": "3.8.8"
  }
 },
 "nbformat": 4,
 "nbformat_minor": 4
}