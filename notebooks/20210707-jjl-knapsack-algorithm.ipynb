{
 "cells": [
  {
   "cell_type": "code",
   "execution_count": null,
   "metadata": {},
   "outputs": [],
   "source": [
    "import pandas as pd\n",
    "import numpy as np\n",
    "from tqdm import trange\n",
    "\n",
    "import sys\n",
    "sys.path.append('../')\n",
    "\n",
    "from src.d01_data.student_data_api import StudentDataApi, _block_features, _census_block_column, \\\n",
    "_diversity_index_features, _studentno, _diversity_index_col, _period_column, _prob_col"
   ]
  },
  {
   "cell_type": "code",
   "execution_count": null,
   "metadata": {},
   "outputs": [],
   "source": [
    "periods_list = [\"1920\"]\n",
    "student_data_api = StudentDataApi()\n",
    "\n",
    "df_students = student_data_api.get_data(periods_list)\n",
    "mask = df_students[_census_block_column] == 'NaN'\n",
    "df_students.drop(df_students.index[mask], inplace=True)\n",
    "\n",
    "student_data_api.get_diversity_index(df_students)\n",
    "student_data_api.get_focal_probability(df_students)"
   ]
  },
  {
   "cell_type": "code",
   "execution_count": null,
   "metadata": {},
   "outputs": [],
   "source": [
    "np.random.seed(20210704)\n",
    "\n",
    "df_students.loc[df_students.index, 'focal'] = np.random.binomial(1, p=df_students[_prob_col])\n",
    "\n",
    "df_students = df_students.groupby([_period_column, _census_block_column])['focal'].agg(['sum', 'count', 'mean'])\n",
    "df_students.columns = ['nFocalStudents', 'nTotalStudents', 'focalRate']\n",
    "df_students['nOtherStudents'] = df_students['nTotalStudents'] - df_students['nFocalStudents']"
   ]
  },
  {
   "cell_type": "code",
   "execution_count": null,
   "metadata": {},
   "outputs": [],
   "source": [
    "class KnapsackApprox:\n",
    "    def __init__(self, eps, data: pd.DataFrame, value_col, weight_col, scale=True):\n",
    "        data.sort_values(value_col, inplace=True)\n",
    "        self.value_col = value_col\n",
    "        self.weight_col = weight_col\n",
    "        self.v = data[value_col].rename('v').to_frame() # values of each item\n",
    "        self.w = data[weight_col] # weights of each item\n",
    "        \n",
    "        n = len(data)\n",
    "        self.n = n\n",
    "        \n",
    "        if scale:\n",
    "            v_max = self.v['v'].max()\n",
    "            b = (eps / (2 * n)) * v_max\n",
    "            print(\"Using scaling parameter b = %.4f\" % b)\n",
    "            self.v['v_hat'] = np.ceil(self.v['v'].values / b).astype('int64')\n",
    "        else:\n",
    "            # TODO: Any considerations if I don't scale the parameters and still apply \n",
    "            # the ceil function?\n",
    "            # TODO: What is the approximation error in this case? (1 + eps) factor below \n",
    "            # the maximum possible.\n",
    "            # TODO: What if the values are already small and integer?\n",
    "            # TODO: How much can we improve by filtering out certain blocks befor hand?\n",
    "            self.v['v_hat'] = np.ceil(self.v['v']).astype('int64')\n",
    "        \n",
    "        self.v['cumsum'] = self.v['v_hat'].cumsum()\n",
    "        self.value_function = np.zeros((n, self.v['cumsum'].iloc[-1]+1)) + np.nan\n",
    "         \n",
    "    def solve(self):\n",
    "        \n",
    "        self.value_function[:, 0] = 0\n",
    "        \n",
    "        for i in trange(self.n):\n",
    "            v_range = np.arange(1, self.v['cumsum'].iloc[i]+1)\n",
    "            w_i = self.w.iloc[i]\n",
    "            v_i = self.v['v_hat'].iloc[i]\n",
    "            for v in v_range:\n",
    "                if i == 0:\n",
    "                    self.value_function[i, v] = w_i\n",
    "                    continue\n",
    "                if v > self.v['cumsum'].iloc[i-1]:\n",
    "                    self.value_function[i, v] = w_i + self.value_function[i-1, v]\n",
    "                else:\n",
    "                    w1 = self.value_function[i-1, v]\n",
    "                    w2 = w_i + self.value_function[i, max(0, v-v_i)]\n",
    "                    self.value_function[i, v] = min(w1, w2)\n",
    "                    \n",
    "        return None\n",
    "    \n",
    "    def get_solution(self, w_max):\n",
    "        solution_set = []\n",
    "        \n",
    "        feasible_solutions = np.argwhere(self.value_function <= w_max)\n",
    "\n",
    "        max_solution = np.argmax(feasible_solutions[:, 1])\n",
    "        i, v = feasible_solutions[max_solution]\n",
    "        \n",
    "        while i >= 0:\n",
    "            w_i = self.w.iloc[i]\n",
    "            v_i = self.v['v_hat'].iloc[i]\n",
    "\n",
    "        raise NotImplementedError()\n",
    "        \n",
    "        "
   ]
  },
  {
   "cell_type": "code",
   "execution_count": null,
   "metadata": {},
   "outputs": [],
   "source": [
    "data = df_students.loc[2020, ['nFocalStudents', 'nOtherStudents', 'focalRate']]\n",
    "data.describe()"
   ]
  },
  {
   "cell_type": "code",
   "execution_count": null,
   "metadata": {},
   "outputs": [],
   "source": [
    "mask = data['focalRate'] > 0.0\n",
    "\n",
    "obj = KnapsackApprox(eps=.5, data=data.loc[mask].copy(),\n",
    "                     value_col = 'nFocalStudents',\n",
    "                     weight_col = 'nOtherStudents',\n",
    "                     scale=False)\n",
    "obj.value_function.shape"
   ]
  },
  {
   "cell_type": "code",
   "execution_count": null,
   "metadata": {},
   "outputs": [],
   "source": [
    "import matplotlib.pyplot as plt\n",
    "\n",
    "plt.rcParams['figure.figsize'] = [12, 8]\n",
    "plt.rcParams['figure.dpi'] = 100 # 200 e.g. is really fine, but slower"
   ]
  },
  {
   "cell_type": "code",
   "execution_count": null,
   "metadata": {},
   "outputs": [],
   "source": [
    "obj.solve()"
   ]
  },
  {
   "cell_type": "code",
   "execution_count": null,
   "metadata": {},
   "outputs": [],
   "source": [
    "plt.imshow(obj.value_function)\n",
    "# plt.colorbar()\n",
    "plt.show()"
   ]
  },
  {
   "cell_type": "code",
   "execution_count": null,
   "metadata": {},
   "outputs": [],
   "source": [
    "obj.get_solution(w_max=60)"
   ]
  },
  {
   "cell_type": "code",
   "execution_count": null,
   "metadata": {},
   "outputs": [],
   "source": [
    "feasible_solutions = np.argwhere(obj.value_function[-1][:] <= 60).flatten()"
   ]
  },
  {
   "cell_type": "code",
   "execution_count": null,
   "metadata": {},
   "outputs": [],
   "source": [
    "len(feasible_solutions)"
   ]
  },
  {
   "cell_type": "code",
   "execution_count": null,
   "metadata": {},
   "outputs": [],
   "source": [
    "pd.DataFrame(obj.value_function)"
   ]
  }
 ],
 "metadata": {
  "kernelspec": {
   "display_name": "dssg-env",
   "language": "python",
   "name": "dssg-env"
  },
  "language_info": {
   "codemirror_mode": {
    "name": "ipython",
    "version": 3
   },
   "file_extension": ".py",
   "mimetype": "text/x-python",
   "name": "python",
   "nbconvert_exporter": "python",
   "pygments_lexer": "ipython3",
   "version": "3.8.8"
  }
 },
 "nbformat": 4,
 "nbformat_minor": 4
}
