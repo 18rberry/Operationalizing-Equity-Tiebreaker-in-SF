{
 "cells": [
  {
   "cell_type": "code",
   "execution_count": null,
   "metadata": {},
   "outputs": [],
   "source": [
    "import pandas as pd\n",
    "import numpy as np\n",
    "import geopandas as gpd\n",
    "import matplotlib.pyplot as plt\n",
    "\n",
    "import sys\n",
    "sys.path.append('../')\n",
    "\n",
    "from src.d04_modeling.knapsack_classifier import KnapsackClassifier\n",
    "from src.d04_modeling.naive_classifier import NaiveClassifier\n",
    "from src.d04_modeling.ctip_classifier import CtipClassifier\n",
    "\n",
    "model1 = NaiveClassifier(true_group='nFocal', rate=False)\n",
    "model2 = NaiveClassifier(true_group='nFocal', rate=True)\n",
    "model3 = CtipClassifier(true_group='nFocal')\n",
    "model4 = KnapsackClassifier(true_group='nFocal', load=True)"
   ]
  },
  {
   "cell_type": "code",
   "execution_count": null,
   "metadata": {},
   "outputs": [],
   "source": [
    "results1 = model1.get_roc()\n",
    "results2 = model2.get_roc()\n",
    "results3 = model3.get_roc()\n",
    "results4 = model4.get_roc()"
   ]
  },
  {
   "cell_type": "code",
   "execution_count": null,
   "metadata": {},
   "outputs": [],
   "source": [
    "import matplotlib.pyplot as plt\n",
    "\n",
    "plt.rcParams['font.size'] = '16'\n",
    "\n",
    "fig, ax = plt.subplots(figsize=(10,10))\n",
    "\n",
    "lw = 4\n",
    "ax.plot(results1['fpr'], results1['tpr'], label='Naive', linewidth=lw)\n",
    "ax.plot(results2['fpr'], results2['tpr'], label='Naive(rate)', linewidth=lw)\n",
    "ax.plot(results3['fpr'], results3['tpr'], marker='.', label='CTIP1', markersize=12, linewidth=lw)\n",
    "ax.plot(results4['fpr'], results4['tpr'], label='Knapsack', linewidth=lw)\n",
    "ax.set_xlabel('FPR')\n",
    "ax.set_ylabel('TPR')\n",
    "ax.legend()\n",
    "plt.tight_layout()\n",
    "plt.savefig('results.png')\n",
    "plt.show()"
   ]
  },
  {
   "cell_type": "code",
   "execution_count": null,
   "metadata": {},
   "outputs": [],
   "source": [
    "fpr = 0.08\n",
    "\n",
    "t = model1.get_confusion_matrix(fpr=fpr).sum().sum()\n",
    "print(model1.get_confusion_matrix(fpr=fpr) / t)\n",
    "print(model2.get_confusion_matrix(fpr=fpr) / t)\n",
    "print(model3.get_confusion_matrix(fpr=fpr) / t)\n",
    "print(model4.get_confusion_matrix(fpr=fpr) / t)"
   ]
  },
  {
   "cell_type": "code",
   "execution_count": null,
   "metadata": {},
   "outputs": [],
   "source": [
    "model4.plot_map(fpr=fpr)"
   ]
  }
 ],
 "metadata": {
  "kernelspec": {
   "display_name": "dssg-env",
   "language": "python",
   "name": "dssg-env"
  },
  "language_info": {
   "codemirror_mode": {
    "name": "ipython",
    "version": 3
   },
   "file_extension": ".py",
   "mimetype": "text/x-python",
   "name": "python",
   "nbconvert_exporter": "python",
   "pygments_lexer": "ipython3",
   "version": "3.8.8"
  }
 },
 "nbformat": 4,
 "nbformat_minor": 4
}
