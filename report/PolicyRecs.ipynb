{
 "cells": [
  {
   "cell_type": "markdown",
   "metadata": {},
   "source": [
    "### Policy Conclusions & Recommendations"
   ]
  },
  {
   "cell_type": "markdown",
   "metadata": {},
   "source": [
    "1) **Eligiblity and Qualification**\n",
    "\n",
    "We recommend that the district leverages both eligibility and qualification criteria for designing which blocks to assing the equity tiebreaker to. Blocks are eligible for the equity tiebreaker if they have at least one of the following criteria: \n",
    "* Contain public housing projects (data provided by the School District, SFHA_ex_Sr column)\n",
    "* Are red-lined areas of SF (as shown in historical maps)\n",
    "\n",
    "However, blocks should also be evaluated by \"qualification\" criteria. This is to ensure that the system is \"strategyproof\" -- not easily able to be gamed -- by preventing parents and families from moving to blocks simply to receive an equity tiebreaker. Thus, we propose that the block demographics meet our other criteria for focal student thresholds, and that these blocks are continually re-evaluated to make sure they are deserving of the tiebreaker. Qualification criteria can reaching thresholds for any of the following: \n",
    "* pctFocal: % of Focal students in a block\n",
    "* pctBoth: % of students who are both AALPI and FRL in a blcok\n",
    "* pctAALPI: % of AALPI students in a block\n",
    "* pctFRL: % of FRL students in a block\n"
   ]
  },
  {
   "cell_type": "markdown",
   "metadata": {},
   "source": [
    "2) **Transparency and Predictability**\n",
    "\n",
    "It is vital that the new student assignment policy, as a whole, is transparent and predictable for students and families in the SFUSD district. In alignment with SFUSD core values, the policy must be **diversity driven, student centered, and united**. Honoring these values means ensuring that members of SFUSD understand how the policy works, especially in its efforts to focus on student growth and well-being and systematically strengthen diversity. Similar to the districts prior goals of diversity, predictability, and proximity, we also believe that students and families need to understand how the policy works to the extent that they can predict which schools they will attend based on where they live."
   ]
  },
  {
   "cell_type": "markdown",
   "metadata": {},
   "source": [
    "However, we recommend that the district works to create a constructive level of transparency and predictability. That is, we do not want every detail of the policy being made open to the public to the point where it invites being dishonest or working to \"game the system.\" \n",
    "\n",
    "Individuals should understand that the policy is block-based rather than student based, to protect student confidentiality and help ensure the strategyproof nature of the assignment procedure. Furthermore, information about the criteria for tiebreakers should be made transparent: who the focal students are, why they were chosen in accordance with the SFUSD core values of diversity and social justice. However, providing geographical data on which specific blocks will merit the tiebreaker may no longer serve as a constructive amount of transparency. If the district feels it is important to share such information, however, then SFUSD must continually evaluate the blocks in its jurisdiction to ensure they match all the required criteria."
   ]
  },
  {
   "cell_type": "markdown",
   "metadata": {},
   "source": [
    "3) The Benefits of the DSSG Tiebreaker in Comparison to CTIP1\n",
    "\n",
    "**Firstly**, the ET  we have been working on serves as a stronger tiebreaker for advancing the district's goals of equity and social justice because it uses actual **information about focal students**, rather than using test scores as a proxy. While CTIP scores were a fair proxy for more sensitive categories like race and income, we have ingenuously crafted a way to measure both using aggregate (block) data. \n",
    "\n",
    "Thus, our ET works to advance equity by directly using the amount of focal students in each block to award a potential equity tiebreaker. This will also work to increase transparency and trust between the district and families/communities, as people can clearly see how the tiebreaker works to uplift and strive for equity. Families can clearly see how the new tiebreaker works to rectify the ways in which historically marginalized communities have been underserved through systematic processes like redlining, gentrification, and segregation. Lastly, it removes any stress or anxiety for students related to having to perform in a certain manner on the CST ELA Exams to receive a certain kind of school assignment. \n",
    "\n",
    "**Secondly**, our tiebreaker is more in alignment with some of the core values of SFUSD and the equity tiebreaker. Our tiebreaker is interpretable as it translates SFUSD board policy directly into algorithms and assignment policies. It is transparent because individuals and families should be able to understand that the tiebreaker works on block-based evaluation, and the focal-student criteria used to advance equity. However, as stated in the point before, the tiebreaker is transparent to a constructive level to prohibit individuals and families from taking advantage of the system. Lastly, our policy is **flexible** because we have designed our algorithm through an interactive and dynamic workflow. This notebook walks users through the thought process and formulation of our assignment algorithm. It also indiciates where users can change parameters (inputs to functions) and thresholds to generate new classifier and policies. \n",
    "\n",
    "**Thirdly**, the ET is **optimized for a narrower focal group** than the CTIP1 tiebreaker. This alllows us to more accurately and precisely target the focal students who are from the most underserved groups and thus, the most deserving of a tiebreaker. Having a small target group that receives the tiebreaker could increase the number of false negatives, or overal focal students who are missed by the equity tiebreaker. However, since we narrowed our definition of focal students to the most deserving and underserved students, very few of **those** students will be missed by the tiebreaker, although students who are categorized as focal generally but not in our definition may be missed. \n",
    "\n",
    "Our tiebreaker also works to decrease and stabilize the number of false positives, or non-focal students who are incorrectly awarded the tiebreaker. We believe that it is more important to stabilize the number of false positives rather than false negatives, as non-focal students likely have more resources in terms of access to transporation, social/political/cultural/economic capital, educational resources, and social networks. Thus, it would be significantly more unfair and against the spirit of the tiebreaker to award such students with a priority in school assignment. \n",
    "\n",
    "Furthermore, in order to truly be an equity tiebreaker, we believe it's important to target the most deserving students out of all the focal students. The district has informed us that around 64% of students in SFUSD are either (or both) FRL and AALPI: it would simply be illogical (and likely divisive) to award all of them an equity tiebreaker. \n"
   ]
  },
  {
   "cell_type": "markdown",
   "metadata": {},
   "source": [
    "4) **The implications of Guard Rails**\n",
    "\n",
    "Overall, our work shows that guard rails actually hinder us in our efforts to advance equity. Comparing the DSSG ET method with and without guardrails, we see that on average, focal students rank goes down 0.64 without guardails, and only 0.3 with guardrails. Keep in mind that the lower the rank the better, as applicants prefer to get into their 1st choice school rather than 3rd choice. \n",
    "\n",
    "For all students, on average their rank decreases 2.47 without guardrails and only 1.49 with guardrails. Not only focal students, but also all students, fare better without guardrails than with them. Lastly, the average % of focal students that get into one of 3 top choices is 68% without guardrails, and 62% with it. \n",
    "\n",
    "Thus, it is important to further investigate the relationship between guardrails and our DSSG-ET."
   ]
  },
  {
   "cell_type": "code",
   "execution_count": null,
   "metadata": {},
   "outputs": [],
   "source": []
  }
 ],
 "metadata": {
  "kernelspec": {
   "display_name": "Python 3",
   "language": "python",
   "name": "python3"
  },
  "language_info": {
   "codemirror_mode": {
    "name": "ipython",
    "version": 3
   },
   "file_extension": ".py",
   "mimetype": "text/x-python",
   "name": "python",
   "nbconvert_exporter": "python",
   "pygments_lexer": "ipython3",
   "version": "3.8.8"
  }
 },
 "nbformat": 4,
 "nbformat_minor": 4
}
