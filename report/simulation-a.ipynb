{
 "cells": [
  {
   "cell_type": "code",
   "execution_count": 1,
   "metadata": {},
   "outputs": [],
   "source": [
    "import sys\n",
    "from collections import OrderedDict\n",
    "from IPython.core.display import display, HTML\n",
    "sys.path.append('../')\n",
    "from src.d06_reporting.simulation_evaluation import SimulationEvaluation"
   ]
  },
  {
   "cell_type": "code",
   "execution_count": 2,
   "metadata": {},
   "outputs": [
    {
     "data": {
      "text/plain": [
       "Index(['knapsack008', 'pc1002_050', 'naive004', 'pc1060_050', 'pc1020_050',\n",
       "       'knapsack014', 'pc2030_020', 'pc2025_040', 'pc3_035', 'naive014',\n",
       "       'special010', 'special014', 'naive016', 'pc3_010', 'pc3_020', 'pc3_030',\n",
       "       'pc3_040', 'pc3_050', 'pc3_060'],\n",
       "      dtype='object')"
      ]
     },
     "execution_count": 2,
     "metadata": {},
     "output_type": "execute_result"
    }
   ],
   "source": [
    "SimulationEvaluation.get_available_models()"
   ]
  },
  {
   "cell_type": "markdown",
   "metadata": {},
   "source": [
    "# Simulation A: Medium zones with guardrails\n",
    "\n",
    "To analyze the effectiveness of the tiebreakers, we are going to compare the performance of individual students in the school assignment process for each method to the base scenario where the policy has no equity tiebreaker. For this analysis, we are considering as __focal__ students those individuals who both are African-American, Latinx, or Pacific Islander (AALPI) and are eligible for free or reduced lunch (FRL).\n",
    "\n",
    "We can tune each of the proposed tiebreakers to an arbitrary point in their respective ROC or Precision and Recall curves. Where we should stand in these curves ultimately depends on the decisions and criteria of the SFUSD.  For this analysis, we are restricting our analysis of tiebreaker performance to the false-positive rate (FPR) of the CTIP1 equity tiebreaker (`ctip1`) with the K - 5 data (`frl_key='kt5'`): 16%. \n",
    "\n",
    "In particular, we are focusing on two alternative tiebreakers or methodologies: \n",
    "- the Naive Classifier at 16% FPR (`naive016`), hereafter referred to as the __Benchmark__ methodology,\n",
    "- and a Propositional Classifier at 16% FPR (`pc3_030`), hereafter referred to as the __DSSG Equity Tiebreaker (ET)__.\n",
    "\n",
    "The propositional classifier `pc3_030` considers redline and subsidized housing zones as eligibility criteria and the individual block requirement of more than 30% focal students. As a reminder, this analysis considers the students who are both AALPI and FRL as focal students:\n",
    "\n",
    "```\n",
    "eligibility_classifier = orClassifier([\"Housing\", \"Redline\"], binary_var=[0,1])\n",
    "propositional_model = andClassifier([\"pctBoth\"], positive_group=positive_group, eligibility_classifier=eligibility_classifier, frl_key=frl_key)\n",
    "```"
   ]
  },
  {
   "cell_type": "code",
   "execution_count": 2,
   "metadata": {},
   "outputs": [
    {
     "data": {
      "text/html": [
       "<div>\n",
       "<style scoped>\n",
       "    .dataframe tbody tr th:only-of-type {\n",
       "        vertical-align: middle;\n",
       "    }\n",
       "\n",
       "    .dataframe tbody tr th {\n",
       "        vertical-align: top;\n",
       "    }\n",
       "\n",
       "    .dataframe thead th {\n",
       "        text-align: right;\n",
       "    }\n",
       "</style>\n",
       "<table border=\"1\" class=\"dataframe\">\n",
       "  <thead>\n",
       "    <tr style=\"text-align: right;\">\n",
       "      <th></th>\n",
       "      <th>Designation Rate</th>\n",
       "    </tr>\n",
       "    <tr>\n",
       "      <th>method</th>\n",
       "      <th></th>\n",
       "    </tr>\n",
       "  </thead>\n",
       "  <tbody>\n",
       "    <tr>\n",
       "      <th>Benchmark</th>\n",
       "      <td>0.22</td>\n",
       "    </tr>\n",
       "    <tr>\n",
       "      <th>CTIP1</th>\n",
       "      <td>0.22</td>\n",
       "    </tr>\n",
       "    <tr>\n",
       "      <th>DSSG ET</th>\n",
       "      <td>0.22</td>\n",
       "    </tr>\n",
       "    <tr>\n",
       "      <th>No ET</th>\n",
       "      <td>0.22</td>\n",
       "    </tr>\n",
       "  </tbody>\n",
       "</table>\n",
       "</div>"
      ],
      "text/plain": [
       "           Designation Rate\n",
       "method                     \n",
       "Benchmark              0.22\n",
       "CTIP1                  0.22\n",
       "DSSG ET                0.22\n",
       "No ET                  0.22"
      ]
     },
     "metadata": {},
     "output_type": "display_data"
    },
    {
     "data": {
      "text/html": [
       "<div>\n",
       "<style scoped>\n",
       "    .dataframe tbody tr th:only-of-type {\n",
       "        vertical-align: middle;\n",
       "    }\n",
       "\n",
       "    .dataframe tbody tr th {\n",
       "        vertical-align: top;\n",
       "    }\n",
       "\n",
       "    .dataframe thead th {\n",
       "        text-align: right;\n",
       "    }\n",
       "</style>\n",
       "<table border=\"1\" class=\"dataframe\">\n",
       "  <thead>\n",
       "    <tr style=\"text-align: right;\">\n",
       "      <th>status</th>\n",
       "      <th>Extended Positive</th>\n",
       "      <th>False Negative</th>\n",
       "      <th>False Positive</th>\n",
       "      <th>True Negative</th>\n",
       "      <th>True Positive</th>\n",
       "      <th>FPR</th>\n",
       "      <th>TPR</th>\n",
       "    </tr>\n",
       "    <tr>\n",
       "      <th>method</th>\n",
       "      <th></th>\n",
       "      <th></th>\n",
       "      <th></th>\n",
       "      <th></th>\n",
       "      <th></th>\n",
       "      <th></th>\n",
       "      <th></th>\n",
       "    </tr>\n",
       "  </thead>\n",
       "  <tbody>\n",
       "    <tr>\n",
       "      <th>Benchmark</th>\n",
       "      <td>5000.0</td>\n",
       "      <td>10660.0</td>\n",
       "      <td>3520.0</td>\n",
       "      <td>66260.0</td>\n",
       "      <td>10000.0</td>\n",
       "      <td>0.11</td>\n",
       "      <td>0.48</td>\n",
       "    </tr>\n",
       "    <tr>\n",
       "      <th>CTIP1</th>\n",
       "      <td>3880.0</td>\n",
       "      <td>13560.0</td>\n",
       "      <td>3300.0</td>\n",
       "      <td>67600.0</td>\n",
       "      <td>7100.0</td>\n",
       "      <td>0.10</td>\n",
       "      <td>0.34</td>\n",
       "    </tr>\n",
       "    <tr>\n",
       "      <th>DSSG ET</th>\n",
       "      <td>4800.0</td>\n",
       "      <td>11700.0</td>\n",
       "      <td>4100.0</td>\n",
       "      <td>65880.0</td>\n",
       "      <td>8960.0</td>\n",
       "      <td>0.12</td>\n",
       "      <td>0.43</td>\n",
       "    </tr>\n",
       "    <tr>\n",
       "      <th>No ET</th>\n",
       "      <td>0.0</td>\n",
       "      <td>20660.0</td>\n",
       "      <td>0.0</td>\n",
       "      <td>74780.0</td>\n",
       "      <td>0.0</td>\n",
       "      <td>0.00</td>\n",
       "      <td>0.00</td>\n",
       "    </tr>\n",
       "  </tbody>\n",
       "</table>\n",
       "</div>"
      ],
      "text/plain": [
       "status     Extended Positive  False Negative  False Positive  True Negative  \\\n",
       "method                                                                        \n",
       "Benchmark             5000.0         10660.0          3520.0        66260.0   \n",
       "CTIP1                 3880.0         13560.0          3300.0        67600.0   \n",
       "DSSG ET               4800.0         11700.0          4100.0        65880.0   \n",
       "No ET                    0.0         20660.0             0.0        74780.0   \n",
       "\n",
       "status     True Positive   FPR   TPR  \n",
       "method                                \n",
       "Benchmark        10000.0  0.11  0.48  \n",
       "CTIP1             7100.0  0.10  0.34  \n",
       "DSSG ET           8960.0  0.12  0.43  \n",
       "No ET                0.0  0.00  0.00  "
      ]
     },
     "metadata": {},
     "output_type": "display_data"
    }
   ],
   "source": [
    "# Definition of focal student to be applied to the student data\n",
    "def is_focal(row):\n",
    "    return int(row['FRL'] & row['AALPI'])\n",
    "# Simulation configuration\n",
    "policy = 'Medium1'\n",
    "guard_rails = 0\n",
    "utility_model = True\n",
    "num_iterations=20\n",
    "\n",
    "# Methods to evaluate\n",
    "method_name_dict = OrderedDict(none='No ET', ctip1='CTIP1', pc3_030='DSSG ET', naive016='Benchmark')\n",
    "\n",
    "se = SimulationEvaluation(method_name_dict=method_name_dict, is_focal=is_focal)\n",
    "se.set_simulation_config(equity_tiebreaker_list=list(method_name_dict.keys()),\n",
    "                         num_iterations=num_iterations,\n",
    "                         policy=policy,\n",
    "                         guard_rails=guard_rails,\n",
    "                         utility_model=utility_model)\n",
    "# Load the rank data\n",
    "se.query_rank_df()"
   ]
  },
  {
   "cell_type": "markdown",
   "metadata": {},
   "source": [
    "As a sanity check we can quickly compute the designation rate of each simulated methodology"
   ]
  },
  {
   "cell_type": "markdown",
   "metadata": {},
   "source": [
    "# General distribution of the tiebreaker and focal students\n",
    "\n",
    "A first step in analyzing the effects of the different equity tiebreakers is to observe the proportion of students that belong to a focal block and the accuracy of the tiebreaker distribution. The latter refers to the distribution of False Negative (FN), True Negative (TN), True Positive (TP), False Positive (FP), and Extended Positive (EP). The latter term is used to reference the students who are focal if we extend the definition to those students who are either AALPI or FRL, and who get an equity tiebreaker."
   ]
  },
  {
   "cell_type": "code",
   "execution_count": 3,
   "metadata": {},
   "outputs": [
    {
     "data": {
      "text/html": [
       "<h3>Figure 1: Student Distribution</h3>"
      ],
      "text/plain": [
       "<IPython.core.display.HTML object>"
      ]
     },
     "metadata": {},
     "output_type": "display_data"
    },
    {
     "data": {
      "image/png": "[encoded data removed]",
      "text/plain": [
       "<Figure size 432x360 with 1 Axes>"
      ]
     },
     "metadata": {},
     "output_type": "display_data"
    }
   ],
   "source": [
    "display(HTML(\"<h3>Figure 1: Student Distribution</h3>\"))\n",
    "se.rank_results_bar_plot()"
   ]
  },
  {
   "cell_type": "markdown",
   "metadata": {},
   "source": [
    "At this point, it is also good to check the false-positive rate (FPR) and true-positive rate (TPR) of each methodology for the student data. Let's remember that the 16% FPR referenced in the previous section is measured using the aggregated FRL and AALPI block data provided by SFUSD, which is different from the individual student data."
   ]
  },
  {
   "cell_type": "markdown",
   "metadata": {},
   "source": [
    "We can see from the first plot that all three equity tiebreakers target a similar proportion of focal students (True Positive + False Negative) of approximately 21%. From the table, we can see that all models have a similar FPR but a different TPR. As expected from the sample evaluation, the Benchmark model has the highest TPR, followed by the DSSG ET and finally CTIP1. The methodology with no equity tiebreaker has 0.00 FPR and TPR.\n",
    "\n",
    "# Quantifing the effects of the tiebreakers\n",
    "\n",
    "To analyze the actual effects of each tiebreaker, we have generated two results. First, we look at the average change in rank of the assigned program for each type of student. We compute this change compared to the 'No ET' methodology. We then average the result over the 20 iterations. A positive change means the student is, on average, assigned to a worse-ranked program. The opposite is true for negative changes. \n",
    "\n",
    "The plot from Figure 2 shows the distribution of these changes. We also include a table with the mean and standard deviation of the results for each model. The plot from Figure 3 show the same results grouped by focal and not focal students."
   ]
  },
  {
   "cell_type": "code",
   "execution_count": 4,
   "metadata": {},
   "outputs": [
    {
     "data": {
      "text/html": [
       "<h3>Figure 2: Average change in rank of assigned program grouped by classification status</h3>"
      ],
      "text/plain": [
       "<IPython.core.display.HTML object>"
      ]
     },
     "metadata": {},
     "output_type": "display_data"
    },
    {
     "data": {
      "image/png": "[encoded data removed]",
      "text/plain": [
       "<Figure size 432x360 with 1 Axes>"
      ]
     },
     "metadata": {},
     "output_type": "display_data"
    },
    {
     "data": {
      "text/html": [
       "<div>\n",
       "<style scoped>\n",
       "    .dataframe tbody tr th:only-of-type {\n",
       "        vertical-align: middle;\n",
       "    }\n",
       "\n",
       "    .dataframe tbody tr th {\n",
       "        vertical-align: top;\n",
       "    }\n",
       "\n",
       "    .dataframe thead tr th {\n",
       "        text-align: left;\n",
       "    }\n",
       "\n",
       "    .dataframe thead tr:last-of-type th {\n",
       "        text-align: right;\n",
       "    }\n",
       "</style>\n",
       "<table border=\"1\" class=\"dataframe\">\n",
       "  <thead>\n",
       "    <tr>\n",
       "      <th></th>\n",
       "      <th></th>\n",
       "      <th colspan=\"5\" halign=\"left\">change</th>\n",
       "    </tr>\n",
       "    <tr>\n",
       "      <th></th>\n",
       "      <th></th>\n",
       "      <th>mean</th>\n",
       "      <th>std</th>\n",
       "      <th>sem</th>\n",
       "      <th>lower_95ci</th>\n",
       "      <th>upper_95ci</th>\n",
       "    </tr>\n",
       "    <tr>\n",
       "      <th>method</th>\n",
       "      <th>status</th>\n",
       "      <th></th>\n",
       "      <th></th>\n",
       "      <th></th>\n",
       "      <th></th>\n",
       "      <th></th>\n",
       "    </tr>\n",
       "  </thead>\n",
       "  <tbody>\n",
       "    <tr>\n",
       "      <th rowspan=\"5\" valign=\"top\">Benchmark</th>\n",
       "      <th>Extended Positive</th>\n",
       "      <td>-1.47</td>\n",
       "      <td>0.89</td>\n",
       "      <td>0.06</td>\n",
       "      <td>-1.58</td>\n",
       "      <td>-1.36</td>\n",
       "    </tr>\n",
       "    <tr>\n",
       "      <th>False Negative</th>\n",
       "      <td>0.54</td>\n",
       "      <td>0.94</td>\n",
       "      <td>0.04</td>\n",
       "      <td>0.46</td>\n",
       "      <td>0.62</td>\n",
       "    </tr>\n",
       "    <tr>\n",
       "      <th>False Positive</th>\n",
       "      <td>-1.59</td>\n",
       "      <td>0.88</td>\n",
       "      <td>0.07</td>\n",
       "      <td>-1.72</td>\n",
       "      <td>-1.46</td>\n",
       "    </tr>\n",
       "    <tr>\n",
       "      <th>True Negative</th>\n",
       "      <td>0.34</td>\n",
       "      <td>0.88</td>\n",
       "      <td>0.02</td>\n",
       "      <td>0.31</td>\n",
       "      <td>0.37</td>\n",
       "    </tr>\n",
       "    <tr>\n",
       "      <th>True Positive</th>\n",
       "      <td>-1.32</td>\n",
       "      <td>0.85</td>\n",
       "      <td>0.04</td>\n",
       "      <td>-1.40</td>\n",
       "      <td>-1.25</td>\n",
       "    </tr>\n",
       "    <tr>\n",
       "      <th rowspan=\"5\" valign=\"top\">CTIP1</th>\n",
       "      <th>Extended Positive</th>\n",
       "      <td>-1.46</td>\n",
       "      <td>0.85</td>\n",
       "      <td>0.06</td>\n",
       "      <td>-1.58</td>\n",
       "      <td>-1.34</td>\n",
       "    </tr>\n",
       "    <tr>\n",
       "      <th>False Negative</th>\n",
       "      <td>0.50</td>\n",
       "      <td>0.93</td>\n",
       "      <td>0.04</td>\n",
       "      <td>0.43</td>\n",
       "      <td>0.57</td>\n",
       "    </tr>\n",
       "    <tr>\n",
       "      <th>False Positive</th>\n",
       "      <td>-1.56</td>\n",
       "      <td>0.87</td>\n",
       "      <td>0.07</td>\n",
       "      <td>-1.69</td>\n",
       "      <td>-1.43</td>\n",
       "    </tr>\n",
       "    <tr>\n",
       "      <th>True Negative</th>\n",
       "      <td>0.24</td>\n",
       "      <td>0.88</td>\n",
       "      <td>0.02</td>\n",
       "      <td>0.21</td>\n",
       "      <td>0.27</td>\n",
       "    </tr>\n",
       "    <tr>\n",
       "      <th>True Positive</th>\n",
       "      <td>-1.46</td>\n",
       "      <td>0.80</td>\n",
       "      <td>0.04</td>\n",
       "      <td>-1.55</td>\n",
       "      <td>-1.38</td>\n",
       "    </tr>\n",
       "    <tr>\n",
       "      <th rowspan=\"5\" valign=\"top\">DSSG ET</th>\n",
       "      <th>Extended Positive</th>\n",
       "      <td>-1.44</td>\n",
       "      <td>0.92</td>\n",
       "      <td>0.06</td>\n",
       "      <td>-1.56</td>\n",
       "      <td>-1.33</td>\n",
       "    </tr>\n",
       "    <tr>\n",
       "      <th>False Negative</th>\n",
       "      <td>0.53</td>\n",
       "      <td>0.97</td>\n",
       "      <td>0.04</td>\n",
       "      <td>0.45</td>\n",
       "      <td>0.60</td>\n",
       "    </tr>\n",
       "    <tr>\n",
       "      <th>False Positive</th>\n",
       "      <td>-1.63</td>\n",
       "      <td>0.90</td>\n",
       "      <td>0.06</td>\n",
       "      <td>-1.76</td>\n",
       "      <td>-1.51</td>\n",
       "    </tr>\n",
       "    <tr>\n",
       "      <th>True Negative</th>\n",
       "      <td>0.31</td>\n",
       "      <td>0.88</td>\n",
       "      <td>0.02</td>\n",
       "      <td>0.28</td>\n",
       "      <td>0.34</td>\n",
       "    </tr>\n",
       "    <tr>\n",
       "      <th>True Positive</th>\n",
       "      <td>-1.29</td>\n",
       "      <td>0.84</td>\n",
       "      <td>0.04</td>\n",
       "      <td>-1.37</td>\n",
       "      <td>-1.21</td>\n",
       "    </tr>\n",
       "  </tbody>\n",
       "</table>\n",
       "</div>"
      ],
      "text/plain": [
       "                            change                                  \n",
       "                              mean   std   sem lower_95ci upper_95ci\n",
       "method    status                                                    \n",
       "Benchmark Extended Positive  -1.47  0.89  0.06      -1.58      -1.36\n",
       "          False Negative      0.54  0.94  0.04       0.46       0.62\n",
       "          False Positive     -1.59  0.88  0.07      -1.72      -1.46\n",
       "          True Negative       0.34  0.88  0.02       0.31       0.37\n",
       "          True Positive      -1.32  0.85  0.04      -1.40      -1.25\n",
       "CTIP1     Extended Positive  -1.46  0.85  0.06      -1.58      -1.34\n",
       "          False Negative      0.50  0.93  0.04       0.43       0.57\n",
       "          False Positive     -1.56  0.87  0.07      -1.69      -1.43\n",
       "          True Negative       0.24  0.88  0.02       0.21       0.27\n",
       "          True Positive      -1.46  0.80  0.04      -1.55      -1.38\n",
       "DSSG ET   Extended Positive  -1.44  0.92  0.06      -1.56      -1.33\n",
       "          False Negative      0.53  0.97  0.04       0.45       0.60\n",
       "          False Positive     -1.63  0.90  0.06      -1.76      -1.51\n",
       "          True Negative       0.31  0.88  0.02       0.28       0.34\n",
       "          True Positive      -1.29  0.84  0.04      -1.37      -1.21"
      ]
     },
     "metadata": {},
     "output_type": "display_data"
    }
   ],
   "source": [
    "display(HTML(\"<h3>Figure 2: Average change in rank of assigned program grouped by classification status</h3>\"))\n",
    "se.plot_improvement_over_none(hue='status')"
   ]
  },
  {
   "cell_type": "code",
   "execution_count": 5,
   "metadata": {},
   "outputs": [
    {
     "data": {
      "text/html": [
       "<h3>Figure 3: Average change in rank of assigned program grouped by student type</h3>"
      ],
      "text/plain": [
       "<IPython.core.display.HTML object>"
      ]
     },
     "metadata": {},
     "output_type": "display_data"
    },
    {
     "data": {
      "image/png": "[encoded data removed]",
      "text/plain": [
       "<Figure size 432x360 with 1 Axes>"
      ]
     },
     "metadata": {},
     "output_type": "display_data"
    },
    {
     "data": {
      "text/html": [
       "<div>\n",
       "<style scoped>\n",
       "    .dataframe tbody tr th:only-of-type {\n",
       "        vertical-align: middle;\n",
       "    }\n",
       "\n",
       "    .dataframe tbody tr th {\n",
       "        vertical-align: top;\n",
       "    }\n",
       "\n",
       "    .dataframe thead tr th {\n",
       "        text-align: left;\n",
       "    }\n",
       "\n",
       "    .dataframe thead tr:last-of-type th {\n",
       "        text-align: right;\n",
       "    }\n",
       "</style>\n",
       "<table border=\"1\" class=\"dataframe\">\n",
       "  <thead>\n",
       "    <tr>\n",
       "      <th></th>\n",
       "      <th></th>\n",
       "      <th colspan=\"5\" halign=\"left\">change</th>\n",
       "    </tr>\n",
       "    <tr>\n",
       "      <th></th>\n",
       "      <th></th>\n",
       "      <th>mean</th>\n",
       "      <th>std</th>\n",
       "      <th>sem</th>\n",
       "      <th>lower_95ci</th>\n",
       "      <th>upper_95ci</th>\n",
       "    </tr>\n",
       "    <tr>\n",
       "      <th>method</th>\n",
       "      <th>focal</th>\n",
       "      <th></th>\n",
       "      <th></th>\n",
       "      <th></th>\n",
       "      <th></th>\n",
       "      <th></th>\n",
       "    </tr>\n",
       "  </thead>\n",
       "  <tbody>\n",
       "    <tr>\n",
       "      <th rowspan=\"2\" valign=\"top\">Benchmark</th>\n",
       "      <th>focal</th>\n",
       "      <td>-0.36</td>\n",
       "      <td>1.29</td>\n",
       "      <td>0.04</td>\n",
       "      <td>-0.44</td>\n",
       "      <td>-0.29</td>\n",
       "    </tr>\n",
       "    <tr>\n",
       "      <th>not focal</th>\n",
       "      <td>0.12</td>\n",
       "      <td>1.06</td>\n",
       "      <td>0.02</td>\n",
       "      <td>0.09</td>\n",
       "      <td>0.16</td>\n",
       "    </tr>\n",
       "    <tr>\n",
       "      <th rowspan=\"2\" valign=\"top\">CTIP1</th>\n",
       "      <th>focal</th>\n",
       "      <td>-0.18</td>\n",
       "      <td>1.29</td>\n",
       "      <td>0.04</td>\n",
       "      <td>-0.25</td>\n",
       "      <td>-0.10</td>\n",
       "    </tr>\n",
       "    <tr>\n",
       "      <th>not focal</th>\n",
       "      <td>0.07</td>\n",
       "      <td>1.02</td>\n",
       "      <td>0.02</td>\n",
       "      <td>0.04</td>\n",
       "      <td>0.11</td>\n",
       "    </tr>\n",
       "    <tr>\n",
       "      <th rowspan=\"2\" valign=\"top\">DSSG ET</th>\n",
       "      <th>focal</th>\n",
       "      <td>-0.26</td>\n",
       "      <td>1.28</td>\n",
       "      <td>0.04</td>\n",
       "      <td>-0.34</td>\n",
       "      <td>-0.18</td>\n",
       "    </tr>\n",
       "    <tr>\n",
       "      <th>not focal</th>\n",
       "      <td>0.09</td>\n",
       "      <td>1.07</td>\n",
       "      <td>0.02</td>\n",
       "      <td>0.05</td>\n",
       "      <td>0.12</td>\n",
       "    </tr>\n",
       "  </tbody>\n",
       "</table>\n",
       "</div>"
      ],
      "text/plain": [
       "                    change                                  \n",
       "                      mean   std   sem lower_95ci upper_95ci\n",
       "method    focal                                             \n",
       "Benchmark focal      -0.36  1.29  0.04      -0.44      -0.29\n",
       "          not focal   0.12  1.06  0.02       0.09       0.16\n",
       "CTIP1     focal      -0.18  1.29  0.04      -0.25      -0.10\n",
       "          not focal   0.07  1.02  0.02       0.04       0.11\n",
       "DSSG ET   focal      -0.26  1.28  0.04      -0.34      -0.18\n",
       "          not focal   0.09  1.07  0.02       0.05       0.12"
      ]
     },
     "metadata": {},
     "output_type": "display_data"
    }
   ],
   "source": [
    "display(HTML(\"<h3>Figure 3: Average change in rank of assigned program grouped by student type</h3>\"))\n",
    "se.plot_improvement_over_none(hue='focal')"
   ]
  },
  {
   "cell_type": "markdown",
   "metadata": {},
   "source": [
    "Figure 2 is clear evidence that the equity tiebreaker works. The majority of students who get an equity tiebreaker, under any methodology and irrespective if they are focal (True Positive), extended focal (Extended Positive), or not focal (False Positive), improve in the average rank of their assigned program. However, what is ultimately important is the performance of the focal students as a whole. \n",
    "\n",
    "From Figure 3, we can see that the effects of the tiebreaker over the overall focal and non-focal students are mixed. We can expect this outcome since the precision of the equity tiebreaker assignment is not perfect and, therefore, the gain of some focal students is the loss of others. However, if we look at the estimates of the mean effect on focal students' rank, we can measure a statistically significant negative change. In terms of the size of the effect, the Benchmark methodology has the largest impact, followed by the DSSG ET and then the CTIP1  \n",
    "\n",
    "We can also observe that the Benchmark and DSSG ET have more than 50% of the focal students benefiting from the equity tiebreaker. We can see this in the negative medians obtained under both methodologies. We believe we can attribute these improvements over the CTIP1 to the better True Positive Rates of both these methodologies.\n",
    "\n",
    "It might also be interesting to track the change in average rank of the focal students receiving the equity tiebreaker, i.e., the True Positives. We can do this by comparing these student's average rank of the assigned program with and without the equity tiebreaker. We can determine the latter by looking at the assignments under the 'No ET' methodology."
   ]
  },
  {
   "cell_type": "code",
   "execution_count": 6,
   "metadata": {},
   "outputs": [
    {
     "data": {
      "text/html": [
       "<h3>Figure 4: Distribution of average rank of assigned program for True Positives with and without tiebreakr</h3>"
      ],
      "text/plain": [
       "<IPython.core.display.HTML object>"
      ]
     },
     "metadata": {},
     "output_type": "display_data"
    },
    {
     "data": {
      "image/png": "[encoded data removed]",
      "text/plain": [
       "<Figure size 432x360 with 1 Axes>"
      ]
     },
     "metadata": {},
     "output_type": "display_data"
    }
   ],
   "source": [
    "display(HTML(\"<h3>Figure 4: Distribution of average rank of assigned program for True Positives with and without tiebreakr</h3>\"))\n",
    "se.plot_improvement_tp()"
   ]
  },
  {
   "cell_type": "markdown",
   "metadata": {},
   "source": [
    "From Figure 4, we can see that most focal students who get the tiebreaker get assigned to one of their top three ranked programs. Finally, in Figure 5, we plot the proportion of each type of student getting their top three choices. Here we can see that all three methodologies increase the proportion of focal students that get one of their top three choices, from 57% with no equity tiebreaker to 61% with the DSSG ET."
   ]
  },
  {
   "cell_type": "code",
   "execution_count": 7,
   "metadata": {},
   "outputs": [
    {
     "data": {
      "text/html": [
       "<h3>Figure 5: Proportion of students getting one of their top 3 choice</h3>"
      ],
      "text/plain": [
       "<IPython.core.display.HTML object>"
      ]
     },
     "metadata": {},
     "output_type": "display_data"
    },
    {
     "data": {
      "image/png": "[encoded data removed]",
      "text/plain": [
       "<Figure size 432x360 with 1 Axes>"
      ]
     },
     "metadata": {},
     "output_type": "display_data"
    },
    {
     "data": {
      "text/html": [
       "<div>\n",
       "<style scoped>\n",
       "    .dataframe tbody tr th:only-of-type {\n",
       "        vertical-align: middle;\n",
       "    }\n",
       "\n",
       "    .dataframe tbody tr th {\n",
       "        vertical-align: top;\n",
       "    }\n",
       "\n",
       "    .dataframe thead tr th {\n",
       "        text-align: left;\n",
       "    }\n",
       "\n",
       "    .dataframe thead tr:last-of-type th {\n",
       "        text-align: right;\n",
       "    }\n",
       "</style>\n",
       "<table border=\"1\" class=\"dataframe\">\n",
       "  <thead>\n",
       "    <tr>\n",
       "      <th></th>\n",
       "      <th></th>\n",
       "      <th colspan=\"5\" halign=\"left\">rank</th>\n",
       "    </tr>\n",
       "    <tr>\n",
       "      <th></th>\n",
       "      <th></th>\n",
       "      <th>mean</th>\n",
       "      <th>std</th>\n",
       "      <th>sem</th>\n",
       "      <th>lower_95ci</th>\n",
       "      <th>upper_95ci</th>\n",
       "    </tr>\n",
       "    <tr>\n",
       "      <th>method</th>\n",
       "      <th>focal</th>\n",
       "      <th></th>\n",
       "      <th></th>\n",
       "      <th></th>\n",
       "      <th></th>\n",
       "      <th></th>\n",
       "    </tr>\n",
       "  </thead>\n",
       "  <tbody>\n",
       "    <tr>\n",
       "      <th rowspan=\"2\" valign=\"top\">Benchmark</th>\n",
       "      <th>focal</th>\n",
       "      <td>0.63</td>\n",
       "      <td>0.01</td>\n",
       "      <td>0.0</td>\n",
       "      <td>0.62</td>\n",
       "      <td>0.63</td>\n",
       "    </tr>\n",
       "    <tr>\n",
       "      <th>not focal</th>\n",
       "      <td>0.57</td>\n",
       "      <td>0.01</td>\n",
       "      <td>0.0</td>\n",
       "      <td>0.57</td>\n",
       "      <td>0.58</td>\n",
       "    </tr>\n",
       "    <tr>\n",
       "      <th rowspan=\"2\" valign=\"top\">CTIP1</th>\n",
       "      <th>focal</th>\n",
       "      <td>0.60</td>\n",
       "      <td>0.01</td>\n",
       "      <td>0.0</td>\n",
       "      <td>0.59</td>\n",
       "      <td>0.60</td>\n",
       "    </tr>\n",
       "    <tr>\n",
       "      <th>not focal</th>\n",
       "      <td>0.58</td>\n",
       "      <td>0.01</td>\n",
       "      <td>0.0</td>\n",
       "      <td>0.58</td>\n",
       "      <td>0.59</td>\n",
       "    </tr>\n",
       "    <tr>\n",
       "      <th rowspan=\"2\" valign=\"top\">DSSG ET</th>\n",
       "      <th>focal</th>\n",
       "      <td>0.61</td>\n",
       "      <td>0.01</td>\n",
       "      <td>0.0</td>\n",
       "      <td>0.60</td>\n",
       "      <td>0.62</td>\n",
       "    </tr>\n",
       "    <tr>\n",
       "      <th>not focal</th>\n",
       "      <td>0.58</td>\n",
       "      <td>0.01</td>\n",
       "      <td>0.0</td>\n",
       "      <td>0.58</td>\n",
       "      <td>0.59</td>\n",
       "    </tr>\n",
       "    <tr>\n",
       "      <th rowspan=\"2\" valign=\"top\">No ET</th>\n",
       "      <th>focal</th>\n",
       "      <td>0.57</td>\n",
       "      <td>0.01</td>\n",
       "      <td>0.0</td>\n",
       "      <td>0.57</td>\n",
       "      <td>0.57</td>\n",
       "    </tr>\n",
       "    <tr>\n",
       "      <th>not focal</th>\n",
       "      <td>0.59</td>\n",
       "      <td>0.01</td>\n",
       "      <td>0.0</td>\n",
       "      <td>0.59</td>\n",
       "      <td>0.60</td>\n",
       "    </tr>\n",
       "  </tbody>\n",
       "</table>\n",
       "</div>"
      ],
      "text/plain": [
       "                     rank                                 \n",
       "                     mean   std  sem lower_95ci upper_95ci\n",
       "method    focal                                           \n",
       "Benchmark focal      0.63  0.01  0.0       0.62       0.63\n",
       "          not focal  0.57  0.01  0.0       0.57       0.58\n",
       "CTIP1     focal      0.60  0.01  0.0       0.59       0.60\n",
       "          not focal  0.58  0.01  0.0       0.58       0.59\n",
       "DSSG ET   focal      0.61  0.01  0.0       0.60       0.62\n",
       "          not focal  0.58  0.01  0.0       0.58       0.59\n",
       "No ET     focal      0.57  0.01  0.0       0.57       0.57\n",
       "          not focal  0.59  0.01  0.0       0.59       0.60"
      ]
     },
     "metadata": {},
     "output_type": "display_data"
    }
   ],
   "source": [
    "display(HTML(\"<h3>Figure 5: Proportion of students getting one of their top 3 choice</h3>\"))\n",
    "se.topkrank()"
   ]
  },
  {
   "cell_type": "markdown",
   "metadata": {},
   "source": [
    "Although statistically significant, the effects of the equity tiebreaker are small. One explanation for that all the students receiving the tiebreaker belong to the same diversity category. Under the current assignment policy, each school has guard rails that restrict the number of seats available for each diversity category. The number of seats available depends on the overall diversity of the zone. This constraint means that students only have to compete against other students in the same diversity category. Since most students who are getting the tiebreaker belong to Diversity Category 2, the most underserved category, the equity tiebreaker prioritizes the TP over the FN. This result does not align with the School District's goal of prioritizing the focal students over the non-focal students.\n",
    "\n",
    "For example, the following figure shows the composition of each Diversity Category in terms of the student classification status for the CTIP1 methodology. The last Diversity Category (labeled 2) is almost 40% focal students and almost 40% of the students receive the equity tiebreaker"
   ]
  },
  {
   "cell_type": "code",
   "execution_count": 8,
   "metadata": {},
   "outputs": [
    {
     "data": {
      "text/html": [
       "<h3>Figure 5: Composition of the Diversity Categories by classification status"
      ],
      "text/plain": [
       "<IPython.core.display.HTML object>"
      ]
     },
     "metadata": {},
     "output_type": "display_data"
    },
    {
     "data": {
      "image/png": "[encoded data removed]",
      "text/plain": [
       "<Figure size 432x360 with 1 Axes>"
      ]
     },
     "metadata": {},
     "output_type": "display_data"
    },
    {
     "data": {
      "image/png": "[encoded data removed]",
      "text/plain": [
       "<Figure size 432x360 with 1 Axes>"
      ]
     },
     "metadata": {},
     "output_type": "display_data"
    }
   ],
   "source": [
    "display(HTML(\"<h3>Figure 5: Composition of the Diversity Categories by classification status\"))\n",
    "se.rank_results_bar_plot_by_method(method='ctip1', x_axis='Diversity_Category3', hue='status')\n",
    "se.rank_results_bar_plot_by_method(method='ctip1', x_axis='focal', hue='Diversity_Category3')"
   ]
  },
  {
   "cell_type": "markdown",
   "metadata": {},
   "source": [
    "These results make us wonder if the FPR of the tiebreaker, or any selection/tunning metric, might affect performance more significantly. This hypothesis is an alternative to the belief that the method we use to select the focal blocks is a defining factor. If we have few FPs, we can expect to observe that most of the benefits from the equity tiebreaker go to the focal students.\n",
    "\n",
    "Another alternative is reconsidering the definition of focal students to target a smaller fraction of the total population. Since the assignment policy includes guardrails for the different diversity categories, we can expect that under any definition of focal students, one category will concentrate most of them. This correlation between the equity tiebreaker and the diversity categories implies that for the latter to make a significant difference, we need it to target only a small fraction of students. (Rewrite!!)"
   ]
  },
  {
   "cell_type": "markdown",
   "metadata": {},
   "source": [
    "# Remaining Questions\n",
    "\n",
    "- Does targeting a smaller fraction of students improve the performance/effects of the equity tiebreaker.\n",
    "\n",
    "- Thus far, we have not been able to resolve why the tiebreaker has less effect on focal students than on non-focal remains. One hypothesis is that since focal students generally submit fewer choices, the rank of their options is artificially low. When a student doesn't get assigned one of their choices, the rank of the assignment is the length of their submitted preferences plus 1. One way of investigating this hypothesis would be to run these simulations with simulated preferences so that the student choices are similar or equal in length.\n",
    "\n",
    "- Another question is if the FPR of the tiebreaker, or any selection/tunning metric, affects performance more significantly.\n"
   ]
  }
 ],
 "metadata": {
  "kernelspec": {
   "display_name": "dssg-env",
   "language": "python",
   "name": "dssg-env"
  },
  "language_info": {
   "codemirror_mode": {
    "name": "ipython",
    "version": 3
   },
   "file_extension": ".py",
   "mimetype": "text/x-python",
   "name": "python",
   "nbconvert_exporter": "python",
   "pygments_lexer": "ipython3",
   "version": "3.8.8"
  }
 },
 "nbformat": 4,
 "nbformat_minor": 4
}
